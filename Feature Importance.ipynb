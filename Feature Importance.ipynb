{
 "cells": [
  {
   "cell_type": "markdown",
   "id": "strange-version",
   "metadata": {},
   "source": [
    "# Feature Importance"
   ]
  },
  {
   "cell_type": "markdown",
   "id": "amazing-property",
   "metadata": {},
   "source": [
    "Author: Yi Huang"
   ]
  },
  {
   "cell_type": "markdown",
   "id": "introductory-skating",
   "metadata": {},
   "source": [
    "# Outline\n",
    "* [Why We Care about Feature Importance](#intro)\n",
    "* [Spearman Ranking](#Spearman)\n",
    "* [PCA Ranking](#PCA)\n",
    "* [Minimal Redundancy Maximal Relevance (mRMR)](#mRMR)\n",
    "* [Model Based Feature Importance (LightGBM as example)](#model)\n",
    "    * [Drop Column Importance](#model1)\n",
    "        * Accuracy\n",
    "        * Log loss\n",
    "    * [Permutation Importance](#model2)\n",
    "        * Accuracy\n",
    "        * Log loss\n",
    "    * [LightGBM Default](#model3)\n",
    "    * [SHAP](#model4)\n",
    "* [Methods Comparison](#compare)\n",
    "* [Automatic Feature Searching](#automatic)\n",
    "* [Conclusion](#Conclusion)\n",
    "* [Reference](#Reference)"
   ]
  },
  {
   "cell_type": "code",
   "execution_count": 1,
   "id": "stretch-lover",
   "metadata": {},
   "outputs": [],
   "source": [
    "import pandas as pd\n",
    "import numpy as np\n",
    "from   sklearn.model_selection import train_test_split\n",
    "import optuna\n",
    "from optuna._imports import try_import\n",
    "from optuna.integration import _lightgbm_tuner as tuner\n",
    "from sklearn.model_selection import KFold\n",
    "import lightgbm as lgb\n",
    "from lightgbm import LGBMClassifier\n",
    "from featimp import * \n",
    "import shap\n",
    "\n",
    "import warnings\n",
    "warnings.filterwarnings('ignore')"
   ]
  },
  {
   "cell_type": "markdown",
   "id": "black-valuation",
   "metadata": {},
   "source": [
    "# Why we care about feature importance? <a class=\"anchor\" id=\"intro\"></a>"
   ]
  },
  {
   "cell_type": "markdown",
   "id": "inner-holiday",
   "metadata": {},
   "source": [
    "* Feature Selection: Algorithms like tree based models (e.g. LightGBM, XGBoost) can handle a large amount of features pretty well without feature selection, whereas feature selection is still extremely helpful. 1. Many features will introduce noise into the dataset, in such case your models are likely to overfit and give you a false feeling of good performance. 2. It will reduce the running time of training your algorithm, as well as meet the low latency requirement after deploying your model into use. 3. More comprehendible to humans. Feature importance facilitates choosing the right features.\n",
    "* Explanatory Analysis: Machine learning is not always about higher prediction power, sometimes we want to open the blackbox and see the underlying secrets about the data. Explanatory analysis is becoming more and more important in the data science world. It's an essential tool to find the key players in your analysis. Feature importance helps you find these key features and their relationship with the target variable."
   ]
  },
  {
   "cell_type": "markdown",
   "id": "postal-detective",
   "metadata": {},
   "source": [
    "### Load data (already preprocessed) <br>\n",
    "This dataset is from a public Kaggle dataset. I already cleaned this dataset and downsampled it in order to have better performance for this feature importance project. <br>\n",
    "\n",
    "The reason why I choose this dataset: In financial companies, feature importance is critical for guiding the risk management, marketing strategy, customer management, etc. People want to know what are the <b>\"North Star\"</b> factors influence their businesses. <br>\n",
    "\n",
    "Dataset Link: https://www.kaggle.com/mlg-ulb/creditcardfraud <br>"
   ]
  },
  {
   "cell_type": "code",
   "execution_count": 2,
   "id": "turkish-officer",
   "metadata": {},
   "outputs": [],
   "source": [
    "df = pd.read_csv('creditcard_down.csv')"
   ]
  },
  {
   "cell_type": "code",
   "execution_count": 3,
   "id": "responsible-damage",
   "metadata": {
    "scrolled": false
   },
   "outputs": [
    {
     "data": {
      "text/html": [
       "<div>\n",
       "<style scoped>\n",
       "    .dataframe tbody tr th:only-of-type {\n",
       "        vertical-align: middle;\n",
       "    }\n",
       "\n",
       "    .dataframe tbody tr th {\n",
       "        vertical-align: top;\n",
       "    }\n",
       "\n",
       "    .dataframe thead th {\n",
       "        text-align: right;\n",
       "    }\n",
       "</style>\n",
       "<table border=\"1\" class=\"dataframe\">\n",
       "  <thead>\n",
       "    <tr style=\"text-align: right;\">\n",
       "      <th></th>\n",
       "      <th>Time</th>\n",
       "      <th>V1</th>\n",
       "      <th>V2</th>\n",
       "      <th>V3</th>\n",
       "      <th>V4</th>\n",
       "      <th>V5</th>\n",
       "      <th>V6</th>\n",
       "      <th>V7</th>\n",
       "      <th>V8</th>\n",
       "      <th>V9</th>\n",
       "      <th>...</th>\n",
       "      <th>V21</th>\n",
       "      <th>V22</th>\n",
       "      <th>V23</th>\n",
       "      <th>V24</th>\n",
       "      <th>V25</th>\n",
       "      <th>V26</th>\n",
       "      <th>V27</th>\n",
       "      <th>V28</th>\n",
       "      <th>Amount</th>\n",
       "      <th>Class</th>\n",
       "    </tr>\n",
       "  </thead>\n",
       "  <tbody>\n",
       "    <tr>\n",
       "      <th>0</th>\n",
       "      <td>406.0</td>\n",
       "      <td>-2.312227</td>\n",
       "      <td>1.951992</td>\n",
       "      <td>-1.609851</td>\n",
       "      <td>3.997906</td>\n",
       "      <td>-0.522188</td>\n",
       "      <td>-1.426545</td>\n",
       "      <td>-2.537387</td>\n",
       "      <td>1.391657</td>\n",
       "      <td>-2.770089</td>\n",
       "      <td>...</td>\n",
       "      <td>0.517232</td>\n",
       "      <td>-0.035049</td>\n",
       "      <td>-0.465211</td>\n",
       "      <td>0.320198</td>\n",
       "      <td>0.044519</td>\n",
       "      <td>0.177840</td>\n",
       "      <td>0.261145</td>\n",
       "      <td>-0.143276</td>\n",
       "      <td>0.00</td>\n",
       "      <td>1</td>\n",
       "    </tr>\n",
       "    <tr>\n",
       "      <th>1</th>\n",
       "      <td>472.0</td>\n",
       "      <td>-3.043541</td>\n",
       "      <td>-3.157307</td>\n",
       "      <td>1.088463</td>\n",
       "      <td>2.288644</td>\n",
       "      <td>1.359805</td>\n",
       "      <td>-1.064823</td>\n",
       "      <td>0.325574</td>\n",
       "      <td>-0.067794</td>\n",
       "      <td>-0.270953</td>\n",
       "      <td>...</td>\n",
       "      <td>0.661696</td>\n",
       "      <td>0.435477</td>\n",
       "      <td>1.375966</td>\n",
       "      <td>-0.293803</td>\n",
       "      <td>0.279798</td>\n",
       "      <td>-0.145362</td>\n",
       "      <td>-0.252773</td>\n",
       "      <td>0.035764</td>\n",
       "      <td>529.00</td>\n",
       "      <td>1</td>\n",
       "    </tr>\n",
       "    <tr>\n",
       "      <th>2</th>\n",
       "      <td>4462.0</td>\n",
       "      <td>-2.303350</td>\n",
       "      <td>1.759247</td>\n",
       "      <td>-0.359745</td>\n",
       "      <td>2.330243</td>\n",
       "      <td>-0.821628</td>\n",
       "      <td>-0.075788</td>\n",
       "      <td>0.562320</td>\n",
       "      <td>-0.399147</td>\n",
       "      <td>-0.238253</td>\n",
       "      <td>...</td>\n",
       "      <td>-0.294166</td>\n",
       "      <td>-0.932391</td>\n",
       "      <td>0.172726</td>\n",
       "      <td>-0.087330</td>\n",
       "      <td>-0.156114</td>\n",
       "      <td>-0.542628</td>\n",
       "      <td>0.039566</td>\n",
       "      <td>-0.153029</td>\n",
       "      <td>239.93</td>\n",
       "      <td>1</td>\n",
       "    </tr>\n",
       "    <tr>\n",
       "      <th>3</th>\n",
       "      <td>6986.0</td>\n",
       "      <td>-4.397974</td>\n",
       "      <td>1.358367</td>\n",
       "      <td>-2.592844</td>\n",
       "      <td>2.679787</td>\n",
       "      <td>-1.128131</td>\n",
       "      <td>-1.706536</td>\n",
       "      <td>-3.496197</td>\n",
       "      <td>-0.248778</td>\n",
       "      <td>-0.247768</td>\n",
       "      <td>...</td>\n",
       "      <td>0.573574</td>\n",
       "      <td>0.176968</td>\n",
       "      <td>-0.436207</td>\n",
       "      <td>-0.053502</td>\n",
       "      <td>0.252405</td>\n",
       "      <td>-0.657488</td>\n",
       "      <td>-0.827136</td>\n",
       "      <td>0.849573</td>\n",
       "      <td>59.00</td>\n",
       "      <td>1</td>\n",
       "    </tr>\n",
       "    <tr>\n",
       "      <th>4</th>\n",
       "      <td>7519.0</td>\n",
       "      <td>1.234235</td>\n",
       "      <td>3.019740</td>\n",
       "      <td>-4.304597</td>\n",
       "      <td>4.732795</td>\n",
       "      <td>3.624201</td>\n",
       "      <td>-1.357746</td>\n",
       "      <td>1.713445</td>\n",
       "      <td>-0.496358</td>\n",
       "      <td>-1.282858</td>\n",
       "      <td>...</td>\n",
       "      <td>-0.379068</td>\n",
       "      <td>-0.704181</td>\n",
       "      <td>-0.656805</td>\n",
       "      <td>-1.632653</td>\n",
       "      <td>1.488901</td>\n",
       "      <td>0.566797</td>\n",
       "      <td>-0.010016</td>\n",
       "      <td>0.146793</td>\n",
       "      <td>1.00</td>\n",
       "      <td>1</td>\n",
       "    </tr>\n",
       "  </tbody>\n",
       "</table>\n",
       "<p>5 rows × 31 columns</p>\n",
       "</div>"
      ],
      "text/plain": [
       "     Time        V1        V2        V3        V4        V5        V6  \\\n",
       "0   406.0 -2.312227  1.951992 -1.609851  3.997906 -0.522188 -1.426545   \n",
       "1   472.0 -3.043541 -3.157307  1.088463  2.288644  1.359805 -1.064823   \n",
       "2  4462.0 -2.303350  1.759247 -0.359745  2.330243 -0.821628 -0.075788   \n",
       "3  6986.0 -4.397974  1.358367 -2.592844  2.679787 -1.128131 -1.706536   \n",
       "4  7519.0  1.234235  3.019740 -4.304597  4.732795  3.624201 -1.357746   \n",
       "\n",
       "         V7        V8        V9  ...       V21       V22       V23       V24  \\\n",
       "0 -2.537387  1.391657 -2.770089  ...  0.517232 -0.035049 -0.465211  0.320198   \n",
       "1  0.325574 -0.067794 -0.270953  ...  0.661696  0.435477  1.375966 -0.293803   \n",
       "2  0.562320 -0.399147 -0.238253  ... -0.294166 -0.932391  0.172726 -0.087330   \n",
       "3 -3.496197 -0.248778 -0.247768  ...  0.573574  0.176968 -0.436207 -0.053502   \n",
       "4  1.713445 -0.496358 -1.282858  ... -0.379068 -0.704181 -0.656805 -1.632653   \n",
       "\n",
       "        V25       V26       V27       V28  Amount  Class  \n",
       "0  0.044519  0.177840  0.261145 -0.143276    0.00      1  \n",
       "1  0.279798 -0.145362 -0.252773  0.035764  529.00      1  \n",
       "2 -0.156114 -0.542628  0.039566 -0.153029  239.93      1  \n",
       "3  0.252405 -0.657488 -0.827136  0.849573   59.00      1  \n",
       "4  1.488901  0.566797 -0.010016  0.146793    1.00      1  \n",
       "\n",
       "[5 rows x 31 columns]"
      ]
     },
     "execution_count": 3,
     "metadata": {},
     "output_type": "execute_result"
    }
   ],
   "source": [
    "df.head()"
   ]
  },
  {
   "cell_type": "code",
   "execution_count": 35,
   "id": "baking-animation",
   "metadata": {},
   "outputs": [
    {
     "data": {
      "text/plain": [
       "0    4920\n",
       "1     492\n",
       "Name: Class, dtype: int64"
      ]
     },
     "execution_count": 35,
     "metadata": {},
     "output_type": "execute_result"
    }
   ],
   "source": [
    "df.Class.value_counts()"
   ]
  },
  {
   "cell_type": "markdown",
   "id": "divine-mumbai",
   "metadata": {},
   "source": [
    "This dataset contains 30 features, 28 of which are unknown features. Class column is the label, where 0 means non-fraud and 1 means fraud."
   ]
  },
  {
   "cell_type": "markdown",
   "id": "organic-system",
   "metadata": {},
   "source": [
    "Now let's open the door of feature importance. We will talk about following feature importance methods:\n",
    "* Spearman\n",
    "* PCA\n",
    "* mRMR\n",
    "* Model Based\n",
    "    * Drop Column Importance with accuracy\n",
    "    * Drop Column Importance with log loss\n",
    "    * Permutation Importance with accuracy\n",
    "    * Permutation Importance with log loss\n",
    "    * LightGBM default: feature_imp\n",
    "    * Shap: feature_importance"
   ]
  },
  {
   "cell_type": "markdown",
   "id": "political-regression",
   "metadata": {},
   "source": [
    "Then we will compare the performance of these methods. The best one will be used for our automatic feature searching algorithm."
   ]
  },
  {
   "cell_type": "markdown",
   "id": "established-inspection",
   "metadata": {},
   "source": [
    "# Spearman Ranking <a class=\"anchor\" id=\"Spearman\"></a>"
   ]
  },
  {
   "cell_type": "markdown",
   "id": "equal-cannon",
   "metadata": {},
   "source": [
    "Spearman Correlation is a rank based Pearson Correlation method. We calculate each variable and it's correlation with target variable. This methods ignore the multicollinearity problem, some features with similar information will have the same importance. "
   ]
  },
  {
   "cell_type": "code",
   "execution_count": 5,
   "id": "velvet-moore",
   "metadata": {},
   "outputs": [
    {
     "data": {
      "image/png": "[encoded data removed]",
      "text/plain": [
       "<Figure size 432x1080 with 1 Axes>"
      ]
     },
     "metadata": {
      "needs_background": "light"
     },
     "output_type": "display_data"
    }
   ],
   "source": [
    "importance_spearman = spearman_ranking(df,'Class',absolute = True)\n",
    "importance_plot(importance_spearman)"
   ]
  },
  {
   "cell_type": "markdown",
   "id": "supreme-switzerland",
   "metadata": {},
   "source": [
    "# PCA Ranking <a class=\"anchor\" id=\"PCA\"></a>"
   ]
  },
  {
   "cell_type": "markdown",
   "id": "driving-clark",
   "metadata": {},
   "source": [
    "PCA can also used to find features with the most information. This methods only explore the information carried by all independent variables (X). The hypothesis is that if the first component carries most information, then the weight of each feature can explain it's importance. Here we extract the first component after dimension reduction. Each feature's importance is just it's weight from the first component."
   ]
  },
  {
   "cell_type": "code",
   "execution_count": 6,
   "id": "broken-extension",
   "metadata": {},
   "outputs": [
    {
     "name": "stdout",
     "output_type": "stream",
     "text": [
      "Explained variance for the first component:0.3007450183478879\n"
     ]
    },
    {
     "data": {
      "image/png": "[encoded data removed]",
      "text/plain": [
       "<Figure size 432x1080 with 1 Axes>"
      ]
     },
     "metadata": {
      "needs_background": "light"
     },
     "output_type": "display_data"
    }
   ],
   "source": [
    "importance_pca = pca_ranking(df,'Class',absolute = True)\n",
    "importance_plot(importance_pca)"
   ]
  },
  {
   "cell_type": "markdown",
   "id": "anticipated-bolivia",
   "metadata": {},
   "source": [
    "For this particular problem, only 30% of feature's information is explained by the first component. We might need to have a second thought about this result."
   ]
  },
  {
   "cell_type": "markdown",
   "id": "reasonable-soccer",
   "metadata": {},
   "source": [
    "# Minimal Redundancy Maximal Relevance (mRMR) <a class=\"anchor\" id=\"mRMR\"></a>"
   ]
  },
  {
   "cell_type": "markdown",
   "id": "found-following",
   "metadata": {},
   "source": [
    "This method considers correlation with target variable and other features. The formula is as follows:"
   ]
  },
  {
   "cell_type": "markdown",
   "id": "other-exclusion",
   "metadata": {},
   "source": [
    "<h2><center>$f^{mRMR}(X_{i}) = I(Y,X_{i}) - \\frac{1}{\\left | S \\right |}\\sum_{X_{s}\\in S}^{}I(X_{s},X_{i})$</center></h2>"
   ]
  },
  {
   "cell_type": "markdown",
   "id": "scientific-electric",
   "metadata": {},
   "source": [
    "- Y is the target variable\n",
    "- I ( ) is the correlation calculation (e.g. mutual information, spearman correlation). For this notebook, I use the <b>Spearman Correlation</b>. \n",
    "- S is the size of features minus 1.\n",
    "- Xs is all features except the one for calculation."
   ]
  },
  {
   "cell_type": "code",
   "execution_count": 7,
   "id": "heated-packaging",
   "metadata": {},
   "outputs": [
    {
     "data": {
      "image/png": "[encoded data removed]",
      "text/plain": [
       "<Figure size 432x1080 with 1 Axes>"
      ]
     },
     "metadata": {
      "needs_background": "light"
     },
     "output_type": "display_data"
    }
   ],
   "source": [
    "importance_mRMR = mrmr_ranking(df,'Class')\n",
    "importance_plot(importance_mRMR)"
   ]
  },
  {
   "cell_type": "markdown",
   "id": "public-setting",
   "metadata": {},
   "source": [
    "# Model Based Ranking (LightGBM as example)  <a class=\"anchor\" id=\"model\"></a>"
   ]
  },
  {
   "cell_type": "markdown",
   "id": "cordless-farming",
   "metadata": {},
   "source": [
    "Some models have build-in feature importance. The default feature importance for random forest might be misleading, here I borrow and test the idea of <b>permutation importance</b> and <b>drop column importance</b>. <br>\n",
    "Here is an link to the article: https://explained.ai/rf-importance/index.html\n",
    "In this part, we implement for different model based feature importance methods:\n",
    "* Drop column\n",
    "* Permutation\n",
    "* LGBM default\n",
    "* SHAP"
   ]
  },
  {
   "cell_type": "markdown",
   "id": "living-platform",
   "metadata": {},
   "source": [
    "### Model Training with Optuna"
   ]
  },
  {
   "cell_type": "markdown",
   "id": "intellectual-indian",
   "metadata": {},
   "source": [
    "First we train the best model with all features using LightGBM and Optuna as hypterparameter tuning method."
   ]
  },
  {
   "cell_type": "code",
   "execution_count": 8,
   "id": "later-clearance",
   "metadata": {},
   "outputs": [],
   "source": [
    "X = df.iloc[:,:-1]\n",
    "y = df.iloc[:,-1]\n",
    "# Split data with balanced class\n",
    "X_train, X_valid, y_train, y_valid = train_test_split(X, y,random_state = 42,test_size = 0.2,stratify=y)"
   ]
  },
  {
   "cell_type": "code",
   "execution_count": 9,
   "id": "apart-academy",
   "metadata": {},
   "outputs": [],
   "source": [
    "X_train = X_train.reset_index(drop = True)\n",
    "y_train = y_train.reset_index(drop = True)"
   ]
  },
  {
   "cell_type": "code",
   "execution_count": 10,
   "id": "extensive-smooth",
   "metadata": {
    "scrolled": true
   },
   "outputs": [
    {
     "name": "stderr",
     "output_type": "stream",
     "text": [
      "\u001b[32m[I 2021-05-09 16:11:47,761]\u001b[0m A new study created in memory with name: no-name-592225d0-4a56-4a06-9844-fa2b1227bc27\u001b[0m\n"
     ]
    },
    {
     "name": "stdout",
     "output_type": "stream",
     "text": [
      "Training until validation scores don't improve for 20 rounds\n",
      "[20]\ttraining's binary_logloss: 0.0507272\tvalid_1's binary_logloss: 0.06573\n",
      "[40]\ttraining's binary_logloss: 0.0150443\tvalid_1's binary_logloss: 0.0567853\n",
      "Early stopping, best iteration is:\n",
      "[38]\ttraining's binary_logloss: 0.0165177\tvalid_1's binary_logloss: 0.0565588\n",
      "best_score defaultdict(<class 'collections.OrderedDict'>, {'training': OrderedDict([('binary_logloss', 0.016517735792337708)]), 'valid_1': OrderedDict([('binary_logloss', 0.056558800419588086)])})\n",
      "Training until validation scores don't improve for 20 rounds\n",
      "[20]\ttraining's binary_logloss: 0.0494324\tvalid_1's binary_logloss: 0.0667666\n",
      "[40]\ttraining's binary_logloss: 0.0172871\tvalid_1's binary_logloss: 0.0547138\n",
      "[60]\ttraining's binary_logloss: 0.00556194\tvalid_1's binary_logloss: 0.0595703\n",
      "Early stopping, best iteration is:\n",
      "[42]\ttraining's binary_logloss: 0.0155086\tvalid_1's binary_logloss: 0.0544605\n",
      "best_score defaultdict(<class 'collections.OrderedDict'>, {'training': OrderedDict([('binary_logloss', 0.015508567178900135)]), 'valid_1': OrderedDict([('binary_logloss', 0.05446054712700445)])})\n",
      "Training until validation scores don't improve for 20 rounds\n",
      "[20]\ttraining's binary_logloss: 0.0487415\tvalid_1's binary_logloss: 0.081049\n",
      "[40]\ttraining's binary_logloss: 0.0165352\tvalid_1's binary_logloss: 0.0709796\n",
      "Early stopping, best iteration is:\n",
      "[32]\ttraining's binary_logloss: 0.0244842\tvalid_1's binary_logloss: 0.0695818\n",
      "best_score defaultdict(<class 'collections.OrderedDict'>, {'training': OrderedDict([('binary_logloss', 0.024484162913839064)]), 'valid_1': OrderedDict([('binary_logloss', 0.06958182046975707)])})\n",
      "Training until validation scores don't improve for 20 rounds\n",
      "[20]\ttraining's binary_logloss: 0.0471131\tvalid_1's binary_logloss: 0.0771325\n",
      "[40]\ttraining's binary_logloss: 0.0151912\tvalid_1's binary_logloss: 0.0696484\n",
      "Early stopping, best iteration is:\n",
      "[33]\ttraining's binary_logloss: 0.0218805\tvalid_1's binary_logloss: 0.0681917\n",
      "best_score defaultdict(<class 'collections.OrderedDict'>, {'training': OrderedDict([('binary_logloss', 0.021880517459795423)]), 'valid_1': OrderedDict([('binary_logloss', 0.06819167744412048)])})\n",
      "Training until validation scores don't improve for 20 rounds\n",
      "[20]\ttraining's binary_logloss: 0.0488955\tvalid_1's binary_logloss: 0.0904981\n",
      "[40]\ttraining's binary_logloss: 0.0185003\tvalid_1's binary_logloss: 0.0883637\n",
      "Early stopping, best iteration is:\n",
      "[33]\ttraining's binary_logloss: 0.0253776\tvalid_1's binary_logloss: 0.0847471"
     ]
    },
    {
     "name": "stderr",
     "output_type": "stream",
     "text": [
      "\u001b[32m[I 2021-05-09 16:11:48,877]\u001b[0m Trial 0 finished with value: 0.06670798357679901 and parameters: {'lambda_l1': 1.4600853313136385e-08, 'lambda_l2': 3.085859593181914e-06, 'num_leaves': 32, 'feature_fraction': 0.8863497661782209, 'bagging_fraction': 0.6184496400408785, 'bagging_freq': 6, 'min_child_samples': 20, 'max_depth': 13}. Best is trial 0 with value: 0.06670798357679901.\u001b[0m\n"
     ]
    },
    {
     "name": "stdout",
     "output_type": "stream",
     "text": [
      "\n",
      "best_score defaultdict(<class 'collections.OrderedDict'>, {'training': OrderedDict([('binary_logloss', 0.025377585388408057)]), 'valid_1': OrderedDict([('binary_logloss', 0.084747072423525)])})\n",
      "Training until validation scores don't improve for 20 rounds\n",
      "[20]\ttraining's binary_logloss: 0.0568518\tvalid_1's binary_logloss: 0.06482\n",
      "[40]\ttraining's binary_logloss: 0.0206714\tvalid_1's binary_logloss: 0.0498893\n",
      "[60]\ttraining's binary_logloss: 0.00818582\tvalid_1's binary_logloss: 0.0503603\n",
      "Early stopping, best iteration is:\n",
      "[45]\ttraining's binary_logloss: 0.0161845\tvalid_1's binary_logloss: 0.0492355\n",
      "best_score defaultdict(<class 'collections.OrderedDict'>, {'training': OrderedDict([('binary_logloss', 0.016184481898631527)]), 'valid_1': OrderedDict([('binary_logloss', 0.04923551389013561)])})\n",
      "Training until validation scores don't improve for 20 rounds\n",
      "[20]\ttraining's binary_logloss: 0.0578435\tvalid_1's binary_logloss: 0.0693137\n",
      "[40]\ttraining's binary_logloss: 0.0211407\tvalid_1's binary_logloss: 0.0523971\n",
      "[60]\ttraining's binary_logloss: 0.00858507\tvalid_1's binary_logloss: 0.0532151\n",
      "Early stopping, best iteration is:\n",
      "[44]\ttraining's binary_logloss: 0.0177299\tvalid_1's binary_logloss: 0.0508577\n",
      "best_score defaultdict(<class 'collections.OrderedDict'>, {'training': OrderedDict([('binary_logloss', 0.017729942350920642)]), 'valid_1': OrderedDict([('binary_logloss', 0.0508577494632097)])})\n",
      "Training until validation scores don't improve for 20 rounds\n",
      "[20]\ttraining's binary_logloss: 0.0535274\tvalid_1's binary_logloss: 0.0822598\n",
      "[40]\ttraining's binary_logloss: 0.0211119\tvalid_1's binary_logloss: 0.0687696\n",
      "[60]\ttraining's binary_logloss: 0.00832585\tvalid_1's binary_logloss: 0.0691524\n",
      "Early stopping, best iteration is:\n",
      "[44]\ttraining's binary_logloss: 0.0172018\tvalid_1's binary_logloss: 0.0675489\n",
      "best_score defaultdict(<class 'collections.OrderedDict'>, {'training': OrderedDict([('binary_logloss', 0.017201796983329028)]), 'valid_1': OrderedDict([('binary_logloss', 0.0675488515060031)])})\n",
      "Training until validation scores don't improve for 20 rounds\n",
      "[20]\ttraining's binary_logloss: 0.0562056\tvalid_1's binary_logloss: 0.077609\n",
      "[40]\ttraining's binary_logloss: 0.0206955\tvalid_1's binary_logloss: 0.0673064\n",
      "Early stopping, best iteration is:\n",
      "[37]\ttraining's binary_logloss: 0.0237438\tvalid_1's binary_logloss: 0.0672372\n",
      "best_score defaultdict(<class 'collections.OrderedDict'>, {'training': OrderedDict([('binary_logloss', 0.023743832265400496)]), 'valid_1': OrderedDict([('binary_logloss', 0.06723716319625381)])})\n"
     ]
    },
    {
     "name": "stderr",
     "output_type": "stream",
     "text": [
      "\u001b[32m[I 2021-05-09 16:11:49,672]\u001b[0m Trial 1 finished with value: 0.06342394397278857 and parameters: {'lambda_l1': 3.103463192793918e-06, 'lambda_l2': 0.30973019046738615, 'num_leaves': 50, 'feature_fraction': 0.6939741834727797, 'bagging_fraction': 0.8035136322507228, 'bagging_freq': 3, 'min_child_samples': 40, 'max_depth': 13}. Best is trial 1 with value: 0.06342394397278857.\u001b[0m\n"
     ]
    },
    {
     "name": "stdout",
     "output_type": "stream",
     "text": [
      "Training until validation scores don't improve for 20 rounds\n",
      "[20]\ttraining's binary_logloss: 0.056551\tvalid_1's binary_logloss: 0.0937422\n",
      "[40]\ttraining's binary_logloss: 0.0206528\tvalid_1's binary_logloss: 0.083574\n",
      "Early stopping, best iteration is:\n",
      "[36]\ttraining's binary_logloss: 0.0253301\tvalid_1's binary_logloss: 0.0822404\n",
      "best_score defaultdict(<class 'collections.OrderedDict'>, {'training': OrderedDict([('binary_logloss', 0.025330091818095563)]), 'valid_1': OrderedDict([('binary_logloss', 0.08224044180834059)])})\n",
      "Training until validation scores don't improve for 20 rounds\n",
      "[20]\ttraining's binary_logloss: 0.0816848\tvalid_1's binary_logloss: 0.0777094\n",
      "[40]\ttraining's binary_logloss: 0.0536683\tvalid_1's binary_logloss: 0.0571285\n",
      "[60]\ttraining's binary_logloss: 0.040993\tvalid_1's binary_logloss: 0.053067\n",
      "[80]\ttraining's binary_logloss: 0.0326449\tvalid_1's binary_logloss: 0.0518713\n",
      "[100]\ttraining's binary_logloss: 0.0266622\tvalid_1's binary_logloss: 0.0505005\n",
      "[120]\ttraining's binary_logloss: 0.022124\tvalid_1's binary_logloss: 0.0493653\n",
      "[140]\ttraining's binary_logloss: 0.0188468\tvalid_1's binary_logloss: 0.0492567\n",
      "[160]\ttraining's binary_logloss: 0.0161696\tvalid_1's binary_logloss: 0.0495911\n",
      "Early stopping, best iteration is:\n",
      "[151]\ttraining's binary_logloss: 0.0171922\tvalid_1's binary_logloss: 0.0485268\n",
      "best_score defaultdict(<class 'collections.OrderedDict'>, {'training': OrderedDict([('binary_logloss', 0.01719217158030082)]), 'valid_1': OrderedDict([('binary_logloss', 0.04852675760186831)])})\n",
      "Training until validation scores don't improve for 20 rounds\n",
      "[20]\ttraining's binary_logloss: 0.082286\tvalid_1's binary_logloss: 0.0780537\n",
      "[40]\ttraining's binary_logloss: 0.0536364\tvalid_1's binary_logloss: 0.0547515\n",
      "[60]\ttraining's binary_logloss: 0.0402308\tvalid_1's binary_logloss: 0.0508405\n",
      "[80]\ttraining's binary_logloss: 0.0325277\tvalid_1's binary_logloss: 0.0496772\n",
      "[100]\ttraining's binary_logloss: 0.0267881\tvalid_1's binary_logloss: 0.0498351\n",
      "[120]\ttraining's binary_logloss: 0.0222179\tvalid_1's binary_logloss: 0.0479996\n",
      "[140]\ttraining's binary_logloss: 0.0189421\tvalid_1's binary_logloss: 0.0485326\n",
      "Early stopping, best iteration is:\n",
      "[124]\ttraining's binary_logloss: 0.0215078\tvalid_1's binary_logloss: 0.0475602\n",
      "best_score defaultdict(<class 'collections.OrderedDict'>, {'training': OrderedDict([('binary_logloss', 0.02150779591186651)]), 'valid_1': OrderedDict([('binary_logloss', 0.0475601878944724)])})\n",
      "Training until validation scores don't improve for 20 rounds\n",
      "[20]\ttraining's binary_logloss: 0.0794436\tvalid_1's binary_logloss: 0.0954764\n",
      "[40]\ttraining's binary_logloss: 0.0513439\tvalid_1's binary_logloss: 0.0742789\n",
      "[60]\ttraining's binary_logloss: 0.040093\tvalid_1's binary_logloss: 0.0700882\n",
      "[80]\ttraining's binary_logloss: 0.0311627\tvalid_1's binary_logloss: 0.0669096\n",
      "[100]\ttraining's binary_logloss: 0.0255998\tvalid_1's binary_logloss: 0.0661347\n",
      "[120]\ttraining's binary_logloss: 0.0211837\tvalid_1's binary_logloss: 0.0655576\n",
      "Early stopping, best iteration is:\n",
      "[111]\ttraining's binary_logloss: 0.0227865\tvalid_1's binary_logloss: 0.0649838\n",
      "best_score defaultdict(<class 'collections.OrderedDict'>, {'training': OrderedDict([('binary_logloss', 0.02278653195196317)]), 'valid_1': OrderedDict([('binary_logloss', 0.06498379075152619)])})\n",
      "Training until validation scores don't improve for 20 rounds\n",
      "[20]\ttraining's binary_logloss: 0.080251\tvalid_1's binary_logloss: 0.0868033\n",
      "[40]\ttraining's binary_logloss: 0.0512859\tvalid_1's binary_logloss: 0.0681986\n",
      "[60]\ttraining's binary_logloss: 0.0388222\tvalid_1's binary_logloss: 0.0657817\n",
      "[80]\ttraining's binary_logloss: 0.0301546\tvalid_1's binary_logloss: 0.0658098\n",
      "[100]\ttraining's binary_logloss: 0.024915\tvalid_1's binary_logloss: 0.0659053\n"
     ]
    },
    {
     "name": "stderr",
     "output_type": "stream",
     "text": [
      "\u001b[32m[I 2021-05-09 16:11:50,545]\u001b[0m Trial 2 finished with value: 0.061303036267541855 and parameters: {'lambda_l1': 2.6406265350738883e-08, 'lambda_l2': 5.802874382490537, 'num_leaves': 21, 'feature_fraction': 0.5304817958797946, 'bagging_fraction': 0.5686575701925095, 'bagging_freq': 2, 'min_child_samples': 51, 'max_depth': 6}. Best is trial 2 with value: 0.061303036267541855.\u001b[0m\n"
     ]
    },
    {
     "name": "stdout",
     "output_type": "stream",
     "text": [
      "Early stopping, best iteration is:\n",
      "[93]\ttraining's binary_logloss: 0.0263515\tvalid_1's binary_logloss: 0.0652253\n",
      "best_score defaultdict(<class 'collections.OrderedDict'>, {'training': OrderedDict([('binary_logloss', 0.026351490202100054)]), 'valid_1': OrderedDict([('binary_logloss', 0.06522529663855313)])})\n",
      "Training until validation scores don't improve for 20 rounds\n",
      "[20]\ttraining's binary_logloss: 0.0773574\tvalid_1's binary_logloss: 0.101272\n",
      "[40]\ttraining's binary_logloss: 0.04947\tvalid_1's binary_logloss: 0.0823431\n",
      "[60]\ttraining's binary_logloss: 0.0374905\tvalid_1's binary_logloss: 0.0808358\n",
      "Early stopping, best iteration is:\n",
      "[55]\ttraining's binary_logloss: 0.0395425\tvalid_1's binary_logloss: 0.0802191\n",
      "best_score defaultdict(<class 'collections.OrderedDict'>, {'training': OrderedDict([('binary_logloss', 0.03954252223138683)]), 'valid_1': OrderedDict([('binary_logloss', 0.08021914845128926)])})\n",
      "Training until validation scores don't improve for 20 rounds\n",
      "[20]\ttraining's binary_logloss: 0.0764269\tvalid_1's binary_logloss: 0.0722903\n",
      "[40]\ttraining's binary_logloss: 0.0457884\tvalid_1's binary_logloss: 0.0556739\n",
      "[60]\ttraining's binary_logloss: 0.0300414\tvalid_1's binary_logloss: 0.0553018\n",
      "[80]\ttraining's binary_logloss: 0.0196518\tvalid_1's binary_logloss: 0.0544515\n",
      "Early stopping, best iteration is:\n",
      "[67]\ttraining's binary_logloss: 0.0257961\tvalid_1's binary_logloss: 0.0527046\n",
      "best_score defaultdict(<class 'collections.OrderedDict'>, {'training': OrderedDict([('binary_logloss', 0.02579610017760718)]), 'valid_1': OrderedDict([('binary_logloss', 0.05270463943283259)])})\n",
      "Training until validation scores don't improve for 20 rounds\n",
      "[20]\ttraining's binary_logloss: 0.0748125\tvalid_1's binary_logloss: 0.0724288\n",
      "[40]\ttraining's binary_logloss: 0.0475743\tvalid_1's binary_logloss: 0.0475533\n",
      "[60]\ttraining's binary_logloss: 0.0284798\tvalid_1's binary_logloss: 0.0420177\n",
      "[80]\ttraining's binary_logloss: 0.0177405\tvalid_1's binary_logloss: 0.0414533\n",
      "Early stopping, best iteration is:\n",
      "[78]\ttraining's binary_logloss: 0.0188514\tvalid_1's binary_logloss: 0.0408046\n",
      "best_score defaultdict(<class 'collections.OrderedDict'>, {'training': OrderedDict([('binary_logloss', 0.018851386962483466)]), 'valid_1': OrderedDict([('binary_logloss', 0.04080460186217717)])})\n",
      "Training until validation scores don't improve for 20 rounds\n",
      "[20]\ttraining's binary_logloss: 0.0716403\tvalid_1's binary_logloss: 0.0876895\n",
      "[40]\ttraining's binary_logloss: 0.0418399\tvalid_1's binary_logloss: 0.0665998\n",
      "[60]\ttraining's binary_logloss: 0.0277575\tvalid_1's binary_logloss: 0.0650661\n",
      "Early stopping, best iteration is:\n",
      "[58]\ttraining's binary_logloss: 0.029119\tvalid_1's binary_logloss: 0.0641857\n",
      "best_score defaultdict(<class 'collections.OrderedDict'>, {'training': OrderedDict([('binary_logloss', 0.029119034525325493)]), 'valid_1': OrderedDict([('binary_logloss', 0.06418567468596732)])})\n",
      "Training until validation scores don't improve for 20 rounds\n",
      "[20]\ttraining's binary_logloss: 0.075044\tvalid_1's binary_logloss: 0.0819316\n",
      "[40]\ttraining's binary_logloss: 0.0428533\tvalid_1's binary_logloss: 0.0665808\n",
      "[60]\ttraining's binary_logloss: 0.0263642\tvalid_1's binary_logloss: 0.0660217\n"
     ]
    },
    {
     "name": "stderr",
     "output_type": "stream",
     "text": [
      "\u001b[32m[I 2021-05-09 16:11:51,260]\u001b[0m Trial 3 finished with value: 0.06053339569345748 and parameters: {'lambda_l1': 0.01934086811550025, 'lambda_l2': 1.8515248392708896e-06, 'num_leaves': 93, 'feature_fraction': 0.5337615529395082, 'bagging_fraction': 0.4788603336852342, 'bagging_freq': 7, 'min_child_samples': 84, 'max_depth': 7}. Best is trial 3 with value: 0.06053339569345748.\u001b[0m\n"
     ]
    },
    {
     "name": "stdout",
     "output_type": "stream",
     "text": [
      "[80]\ttraining's binary_logloss: 0.0178494\tvalid_1's binary_logloss: 0.0668063\n",
      "Early stopping, best iteration is:\n",
      "[69]\ttraining's binary_logloss: 0.0210956\tvalid_1's binary_logloss: 0.0637295\n",
      "best_score defaultdict(<class 'collections.OrderedDict'>, {'training': OrderedDict([('binary_logloss', 0.02109555318694714)]), 'valid_1': OrderedDict([('binary_logloss', 0.06372949312082513)])})\n",
      "Training until validation scores don't improve for 20 rounds\n",
      "[20]\ttraining's binary_logloss: 0.0711609\tvalid_1's binary_logloss: 0.0947727\n",
      "[40]\ttraining's binary_logloss: 0.0423958\tvalid_1's binary_logloss: 0.0840842\n",
      "Early stopping, best iteration is:\n",
      "[36]\ttraining's binary_logloss: 0.0469297\tvalid_1's binary_logloss: 0.0812426\n",
      "best_score defaultdict(<class 'collections.OrderedDict'>, {'training': OrderedDict([('binary_logloss', 0.046929716431082395)]), 'valid_1': OrderedDict([('binary_logloss', 0.08124256936548523)])})\n",
      "Training until validation scores don't improve for 20 rounds\n",
      "[20]\ttraining's binary_logloss: 0.0312748\tvalid_1's binary_logloss: 0.0605835\n",
      "[40]\ttraining's binary_logloss: 0.00558376\tvalid_1's binary_logloss: 0.0536449\n",
      "Early stopping, best iteration is:\n",
      "[32]\ttraining's binary_logloss: 0.0112586\tvalid_1's binary_logloss: 0.0528799\n",
      "best_score defaultdict(<class 'collections.OrderedDict'>, {'training': OrderedDict([('binary_logloss', 0.011258571421088668)]), 'valid_1': OrderedDict([('binary_logloss', 0.05287993229637969)])})\n",
      "Training until validation scores don't improve for 20 rounds\n",
      "[20]\ttraining's binary_logloss: 0.0325705\tvalid_1's binary_logloss: 0.0667693\n",
      "[40]\ttraining's binary_logloss: 0.00612237\tvalid_1's binary_logloss: 0.0582174\n",
      "Early stopping, best iteration is:\n",
      "[33]\ttraining's binary_logloss: 0.0107895\tvalid_1's binary_logloss: 0.0557419\n",
      "best_score defaultdict(<class 'collections.OrderedDict'>, {'training': OrderedDict([('binary_logloss', 0.010789461730219342)]), 'valid_1': OrderedDict([('binary_logloss', 0.055741927856009676)])})\n",
      "Training until validation scores don't improve for 20 rounds\n",
      "[20]\ttraining's binary_logloss: 0.0298443\tvalid_1's binary_logloss: 0.0821199\n",
      "[40]\ttraining's binary_logloss: 0.00558586\tvalid_1's binary_logloss: 0.081553\n",
      "Early stopping, best iteration is:\n",
      "[27]\ttraining's binary_logloss: 0.0162199\tvalid_1's binary_logloss: 0.0752634\n",
      "best_score defaultdict(<class 'collections.OrderedDict'>, {'training': OrderedDict([('binary_logloss', 0.016219887541462186)]), 'valid_1': OrderedDict([('binary_logloss', 0.07526337618122651)])})\n",
      "Training until validation scores don't improve for 20 rounds\n",
      "[20]\ttraining's binary_logloss: 0.031424\tvalid_1's binary_logloss: 0.0754685\n",
      "[40]\ttraining's binary_logloss: 0.00575578\tvalid_1's binary_logloss: 0.075229\n",
      "Early stopping, best iteration is:\n",
      "[27]\ttraining's binary_logloss: 0.0171977\tvalid_1's binary_logloss: 0.0709311\n",
      "best_score defaultdict(<class 'collections.OrderedDict'>, {'training': OrderedDict([('binary_logloss', 0.01719770949391655)]), 'valid_1': OrderedDict([('binary_logloss', 0.07093112672856505)])})\n",
      "Training until validation scores don't improve for 20 rounds\n",
      "[20]\ttraining's binary_logloss: 0.0316421\tvalid_1's binary_logloss: 0.08766\n"
     ]
    },
    {
     "name": "stderr",
     "output_type": "stream",
     "text": [
      "\u001b[32m[I 2021-05-09 16:11:53,407]\u001b[0m Trial 4 finished with value: 0.06810699675792224 and parameters: {'lambda_l1': 0.0002704570670727591, 'lambda_l2': 1.7501552166807053e-05, 'num_leaves': 70, 'feature_fraction': 0.9892908038990758, 'bagging_fraction': 0.9497266668347862, 'bagging_freq': 7, 'min_child_samples': 11, 'max_depth': 12}. Best is trial 3 with value: 0.06053339569345748.\u001b[0m\n"
     ]
    },
    {
     "name": "stdout",
     "output_type": "stream",
     "text": [
      "[40]\ttraining's binary_logloss: 0.00566189\tvalid_1's binary_logloss: 0.0922749\n",
      "Early stopping, best iteration is:\n",
      "[24]\ttraining's binary_logloss: 0.0221863\tvalid_1's binary_logloss: 0.0857186\n",
      "best_score defaultdict(<class 'collections.OrderedDict'>, {'training': OrderedDict([('binary_logloss', 0.02218630496273775)]), 'valid_1': OrderedDict([('binary_logloss', 0.08571862072743032)])})\n",
      "Training until validation scores don't improve for 20 rounds\n",
      "[20]\ttraining's binary_logloss: 0.074085\tvalid_1's binary_logloss: 0.0709813\n",
      "[40]\ttraining's binary_logloss: 0.0436415\tvalid_1's binary_logloss: 0.0562278\n",
      "Early stopping, best iteration is:\n",
      "[38]\ttraining's binary_logloss: 0.0454838\tvalid_1's binary_logloss: 0.0561171\n",
      "best_score defaultdict(<class 'collections.OrderedDict'>, {'training': OrderedDict([('binary_logloss', 0.04548382294389425)]), 'valid_1': OrderedDict([('binary_logloss', 0.05611711344412995)])})\n",
      "Training until validation scores don't improve for 20 rounds\n",
      "[20]\ttraining's binary_logloss: 0.0727718\tvalid_1's binary_logloss: 0.0687065\n",
      "[40]\ttraining's binary_logloss: 0.0426558\tvalid_1's binary_logloss: 0.0479464\n",
      "[60]\ttraining's binary_logloss: 0.0258839\tvalid_1's binary_logloss: 0.0474363\n",
      "[80]\ttraining's binary_logloss: 0.0160385\tvalid_1's binary_logloss: 0.0463897\n",
      "Early stopping, best iteration is:\n",
      "[70]\ttraining's binary_logloss: 0.0194554\tvalid_1's binary_logloss: 0.0459042\n",
      "best_score defaultdict(<class 'collections.OrderedDict'>, {'training': OrderedDict([('binary_logloss', 0.019455420968631097)]), 'valid_1': OrderedDict([('binary_logloss', 0.04590421322055345)])})\n",
      "Training until validation scores don't improve for 20 rounds\n",
      "[20]\ttraining's binary_logloss: 0.0693171\tvalid_1's binary_logloss: 0.0864167\n",
      "[40]\ttraining's binary_logloss: 0.038818\tvalid_1's binary_logloss: 0.068616\n",
      "[60]\ttraining's binary_logloss: 0.0251256\tvalid_1's binary_logloss: 0.0727447\n",
      "Early stopping, best iteration is:\n",
      "[50]\ttraining's binary_logloss: 0.030966\tvalid_1's binary_logloss: 0.0665429\n",
      "best_score defaultdict(<class 'collections.OrderedDict'>, {'training': OrderedDict([('binary_logloss', 0.030966027609458577)]), 'valid_1': OrderedDict([('binary_logloss', 0.06654286798802261)])})\n",
      "Training until validation scores don't improve for 20 rounds\n",
      "[20]\ttraining's binary_logloss: 0.0725328\tvalid_1's binary_logloss: 0.0807315\n",
      "[40]\ttraining's binary_logloss: 0.0396408\tvalid_1's binary_logloss: 0.0689321\n",
      "[60]\ttraining's binary_logloss: 0.0232481\tvalid_1's binary_logloss: 0.0680095\n",
      "Early stopping, best iteration is:\n",
      "[56]\ttraining's binary_logloss: 0.0250792\tvalid_1's binary_logloss: 0.0679057\n",
      "best_score defaultdict(<class 'collections.OrderedDict'>, {'training': OrderedDict([('binary_logloss', 0.02507917079727775)]), 'valid_1': OrderedDict([('binary_logloss', 0.06790567726713198)])})\n",
      "Training until validation scores don't improve for 20 rounds\n",
      "[20]\ttraining's binary_logloss: 0.0704741\tvalid_1's binary_logloss: 0.0943178\n",
      "[40]\ttraining's binary_logloss: 0.0409107\tvalid_1's binary_logloss: 0.0808254\n",
      "[60]\ttraining's binary_logloss: 0.0289246\tvalid_1's binary_logloss: 0.0844495\n"
     ]
    },
    {
     "name": "stderr",
     "output_type": "stream",
     "text": [
      "\u001b[32m[I 2021-05-09 16:11:54,864]\u001b[0m Trial 5 finished with value: 0.06331974510579745 and parameters: {'lambda_l1': 1.6157671761882597e-08, 'lambda_l2': 5.106348572324795e-06, 'num_leaves': 88, 'feature_fraction': 0.7500939759866629, 'bagging_fraction': 0.47373313998851496, 'bagging_freq': 6, 'min_child_samples': 77, 'max_depth': 10}. Best is trial 3 with value: 0.06053339569345748.\u001b[0m\n"
     ]
    },
    {
     "name": "stdout",
     "output_type": "stream",
     "text": [
      "Early stopping, best iteration is:\n",
      "[53]\ttraining's binary_logloss: 0.0319481\tvalid_1's binary_logloss: 0.0801289\n",
      "best_score defaultdict(<class 'collections.OrderedDict'>, {'training': OrderedDict([('binary_logloss', 0.03194811753131265)]), 'valid_1': OrderedDict([('binary_logloss', 0.08012885360914931)])})\n",
      "Training until validation scores don't improve for 20 rounds\n",
      "[20]\ttraining's binary_logloss: 0.0647174\tvalid_1's binary_logloss: 0.0662965\n",
      "[40]\ttraining's binary_logloss: 0.026746\tvalid_1's binary_logloss: 0.0495885\n",
      "[60]\ttraining's binary_logloss: 0.0104613\tvalid_1's binary_logloss: 0.0501167\n",
      "Early stopping, best iteration is:\n",
      "[50]\ttraining's binary_logloss: 0.0165143\tvalid_1's binary_logloss: 0.0477471\n",
      "best_score defaultdict(<class 'collections.OrderedDict'>, {'training': OrderedDict([('binary_logloss', 0.016514259480263)]), 'valid_1': OrderedDict([('binary_logloss', 0.04774708624203151)])})\n",
      "Training until validation scores don't improve for 20 rounds\n",
      "[20]\ttraining's binary_logloss: 0.0652857\tvalid_1's binary_logloss: 0.0708706\n",
      "[40]\ttraining's binary_logloss: 0.0262396\tvalid_1's binary_logloss: 0.0509103\n",
      "[60]\ttraining's binary_logloss: 0.0102888\tvalid_1's binary_logloss: 0.0514873\n",
      "Early stopping, best iteration is:\n",
      "[47]\ttraining's binary_logloss: 0.0190936\tvalid_1's binary_logloss: 0.0498432\n",
      "best_score defaultdict(<class 'collections.OrderedDict'>, {'training': OrderedDict([('binary_logloss', 0.019093586895106655)]), 'valid_1': OrderedDict([('binary_logloss', 0.04984322485050078)])})\n",
      "Training until validation scores don't improve for 20 rounds\n",
      "[20]\ttraining's binary_logloss: 0.0615112\tvalid_1's binary_logloss: 0.083928\n",
      "[40]\ttraining's binary_logloss: 0.026432\tvalid_1's binary_logloss: 0.0677542\n",
      "[60]\ttraining's binary_logloss: 0.0104432\tvalid_1's binary_logloss: 0.0687025\n",
      "Early stopping, best iteration is:\n",
      "[52]\ttraining's binary_logloss: 0.0150784\tvalid_1's binary_logloss: 0.0670301\n",
      "best_score defaultdict(<class 'collections.OrderedDict'>, {'training': OrderedDict([('binary_logloss', 0.015078413085169355)]), 'valid_1': OrderedDict([('binary_logloss', 0.06703009025007199)])})\n",
      "Training until validation scores don't improve for 20 rounds\n",
      "[20]\ttraining's binary_logloss: 0.0626003\tvalid_1's binary_logloss: 0.07878\n",
      "[40]\ttraining's binary_logloss: 0.0256528\tvalid_1's binary_logloss: 0.0645218\n",
      "Early stopping, best iteration is:\n",
      "[38]\ttraining's binary_logloss: 0.0278547\tvalid_1's binary_logloss: 0.0644413\n",
      "best_score defaultdict(<class 'collections.OrderedDict'>, {'training': OrderedDict([('binary_logloss', 0.027854721007173584)]), 'valid_1': OrderedDict([('binary_logloss', 0.06444133122064413)])})\n",
      "Training until validation scores don't improve for 20 rounds\n",
      "[20]\ttraining's binary_logloss: 0.0607967\tvalid_1's binary_logloss: 0.0940947\n",
      "[40]\ttraining's binary_logloss: 0.0237415\tvalid_1's binary_logloss: 0.080089\n"
     ]
    },
    {
     "name": "stderr",
     "output_type": "stream",
     "text": [
      "\u001b[32m[I 2021-05-09 16:11:57,036]\u001b[0m Trial 6 finished with value: 0.06175416636007393 and parameters: {'lambda_l1': 3.522563766547364e-07, 'lambda_l2': 5.0786167276694224e-08, 'num_leaves': 81, 'feature_fraction': 0.4030978538620843, 'bagging_fraction': 0.9272506587305207, 'bagging_freq': 3, 'min_child_samples': 76, 'max_depth': 14}. Best is trial 3 with value: 0.06053339569345748.\u001b[0m\n"
     ]
    },
    {
     "name": "stdout",
     "output_type": "stream",
     "text": [
      "Early stopping, best iteration is:\n",
      "[39]\ttraining's binary_logloss: 0.0249393\tvalid_1's binary_logloss: 0.0797091\n",
      "best_score defaultdict(<class 'collections.OrderedDict'>, {'training': OrderedDict([('binary_logloss', 0.02493930716452545)]), 'valid_1': OrderedDict([('binary_logloss', 0.07970909923712123)])})\n",
      "Training until validation scores don't improve for 20 rounds\n",
      "[20]\ttraining's binary_logloss: 0.0626859\tvalid_1's binary_logloss: 0.0647221\n",
      "[40]\ttraining's binary_logloss: 0.0277776\tvalid_1's binary_logloss: 0.0485577\n",
      "[60]\ttraining's binary_logloss: 0.0145709\tvalid_1's binary_logloss: 0.0490628\n",
      "Early stopping, best iteration is:\n",
      "[42]\ttraining's binary_logloss: 0.0261104\tvalid_1's binary_logloss: 0.0475914\n",
      "best_score defaultdict(<class 'collections.OrderedDict'>, {'training': OrderedDict([('binary_logloss', 0.026110387143961123)]), 'valid_1': OrderedDict([('binary_logloss', 0.04759144886791538)])})\n",
      "Training until validation scores don't improve for 20 rounds\n",
      "[20]\ttraining's binary_logloss: 0.064418\tvalid_1's binary_logloss: 0.0651286\n",
      "[40]\ttraining's binary_logloss: 0.0305877\tvalid_1's binary_logloss: 0.0469006\n",
      "[60]\ttraining's binary_logloss: 0.0144863\tvalid_1's binary_logloss: 0.0462991\n",
      "Early stopping, best iteration is:\n",
      "[53]\ttraining's binary_logloss: 0.0186139\tvalid_1's binary_logloss: 0.0429718\n",
      "best_score defaultdict(<class 'collections.OrderedDict'>, {'training': OrderedDict([('binary_logloss', 0.01861390620479091)]), 'valid_1': OrderedDict([('binary_logloss', 0.04297177958199312)])})\n",
      "Training until validation scores don't improve for 20 rounds\n",
      "[20]\ttraining's binary_logloss: 0.060639\tvalid_1's binary_logloss: 0.0848625\n",
      "[40]\ttraining's binary_logloss: 0.0284889\tvalid_1's binary_logloss: 0.0667741\n",
      "[60]\ttraining's binary_logloss: 0.0153499\tvalid_1's binary_logloss: 0.0671995\n",
      "Early stopping, best iteration is:\n",
      "[48]\ttraining's binary_logloss: 0.0214141\tvalid_1's binary_logloss: 0.0664325\n",
      "best_score defaultdict(<class 'collections.OrderedDict'>, {'training': OrderedDict([('binary_logloss', 0.021414064403913982)]), 'valid_1': OrderedDict([('binary_logloss', 0.06643250677417988)])})\n",
      "Training until validation scores don't improve for 20 rounds\n",
      "[20]\ttraining's binary_logloss: 0.0625144\tvalid_1's binary_logloss: 0.0798966\n",
      "[40]\ttraining's binary_logloss: 0.0279362\tvalid_1's binary_logloss: 0.0654083\n",
      "[60]\ttraining's binary_logloss: 0.0159237\tvalid_1's binary_logloss: 0.0697302\n",
      "Early stopping, best iteration is:\n",
      "[48]\ttraining's binary_logloss: 0.0215757\tvalid_1's binary_logloss: 0.0650271\n",
      "best_score defaultdict(<class 'collections.OrderedDict'>, {'training': OrderedDict([('binary_logloss', 0.02157565935424884)]), 'valid_1': OrderedDict([('binary_logloss', 0.06502710292562339)])})\n",
      "Training until validation scores don't improve for 20 rounds\n",
      "[20]\ttraining's binary_logloss: 0.0599467\tvalid_1's binary_logloss: 0.0944653\n"
     ]
    },
    {
     "name": "stderr",
     "output_type": "stream",
     "text": [
      "\u001b[32m[I 2021-05-09 16:11:57,690]\u001b[0m Trial 7 finished with value: 0.06112805488439973 and parameters: {'lambda_l1': 0.0007643024211513445, 'lambda_l2': 0.039070307649516765, 'num_leaves': 14, 'feature_fraction': 0.46484811552015, 'bagging_fraction': 0.4460449954730465, 'bagging_freq': 3, 'min_child_samples': 26, 'max_depth': 9}. Best is trial 3 with value: 0.06053339569345748.\u001b[0m\n"
     ]
    },
    {
     "name": "stdout",
     "output_type": "stream",
     "text": [
      "[40]\ttraining's binary_logloss: 0.0281341\tvalid_1's binary_logloss: 0.0852589\n",
      "Early stopping, best iteration is:\n",
      "[37]\ttraining's binary_logloss: 0.0313424\tvalid_1's binary_logloss: 0.0836174\n",
      "best_score defaultdict(<class 'collections.OrderedDict'>, {'training': OrderedDict([('binary_logloss', 0.03134237235485677)]), 'valid_1': OrderedDict([('binary_logloss', 0.08361743627228688)])})\n",
      "Training until validation scores don't improve for 20 rounds\n",
      "[20]\ttraining's binary_logloss: 0.054696\tvalid_1's binary_logloss: 0.0672829\n",
      "[40]\ttraining's binary_logloss: 0.0210606\tvalid_1's binary_logloss: 0.0520419\n",
      "[60]\ttraining's binary_logloss: 0.0106789\tvalid_1's binary_logloss: 0.0511928\n",
      "[80]\ttraining's binary_logloss: 0.00617714\tvalid_1's binary_logloss: 0.0516027\n",
      "Early stopping, best iteration is:\n",
      "[73]\ttraining's binary_logloss: 0.0074383\tvalid_1's binary_logloss: 0.050902\n",
      "best_score defaultdict(<class 'collections.OrderedDict'>, {'training': OrderedDict([('binary_logloss', 0.007438298983413243)]), 'valid_1': OrderedDict([('binary_logloss', 0.050901970292557185)])})\n",
      "Training until validation scores don't improve for 20 rounds\n",
      "[20]\ttraining's binary_logloss: 0.0540102\tvalid_1's binary_logloss: 0.0676772\n",
      "[40]\ttraining's binary_logloss: 0.0211434\tvalid_1's binary_logloss: 0.0503351\n",
      "[60]\ttraining's binary_logloss: 0.0108454\tvalid_1's binary_logloss: 0.0481006\n",
      "Early stopping, best iteration is:\n",
      "[59]\ttraining's binary_logloss: 0.0111163\tvalid_1's binary_logloss: 0.0478323\n",
      "best_score defaultdict(<class 'collections.OrderedDict'>, {'training': OrderedDict([('binary_logloss', 0.011116319744377023)]), 'valid_1': OrderedDict([('binary_logloss', 0.04783228550210846)])})\n",
      "Training until validation scores don't improve for 20 rounds\n",
      "[20]\ttraining's binary_logloss: 0.0511232\tvalid_1's binary_logloss: 0.0831389\n",
      "[40]\ttraining's binary_logloss: 0.0200611\tvalid_1's binary_logloss: 0.0684292\n",
      "[60]\ttraining's binary_logloss: 0.0103789\tvalid_1's binary_logloss: 0.0676406\n",
      "Early stopping, best iteration is:\n",
      "[59]\ttraining's binary_logloss: 0.0107076\tvalid_1's binary_logloss: 0.0674207\n",
      "best_score defaultdict(<class 'collections.OrderedDict'>, {'training': OrderedDict([('binary_logloss', 0.01070762371118346)]), 'valid_1': OrderedDict([('binary_logloss', 0.06742066744468633)])})\n",
      "Training until validation scores don't improve for 20 rounds\n",
      "[20]\ttraining's binary_logloss: 0.0531774\tvalid_1's binary_logloss: 0.0769844\n",
      "[40]\ttraining's binary_logloss: 0.0206333\tvalid_1's binary_logloss: 0.0646803\n",
      "Early stopping, best iteration is:\n",
      "[39]\ttraining's binary_logloss: 0.0214372\tvalid_1's binary_logloss: 0.0646521\n",
      "best_score defaultdict(<class 'collections.OrderedDict'>, {'training': OrderedDict([('binary_logloss', 0.02143719338480714)]), 'valid_1': OrderedDict([('binary_logloss', 0.06465209756668988)])})\n",
      "Training until validation scores don't improve for 20 rounds\n",
      "[20]\ttraining's binary_logloss: 0.0532125\tvalid_1's binary_logloss: 0.091994\n"
     ]
    },
    {
     "name": "stderr",
     "output_type": "stream",
     "text": [
      "\u001b[32m[I 2021-05-09 16:12:00,778]\u001b[0m Trial 8 finished with value: 0.06222291764746639 and parameters: {'lambda_l1': 0.0010272165348601374, 'lambda_l2': 1.5028198708074811, 'num_leaves': 42, 'feature_fraction': 0.44349677763670425, 'bagging_fraction': 0.8756643948540728, 'bagging_freq': 5, 'min_child_samples': 13, 'max_depth': 8}. Best is trial 3 with value: 0.06053339569345748.\u001b[0m\n"
     ]
    },
    {
     "name": "stdout",
     "output_type": "stream",
     "text": [
      "[40]\ttraining's binary_logloss: 0.0211788\tvalid_1's binary_logloss: 0.0807021\n",
      "[60]\ttraining's binary_logloss: 0.0109769\tvalid_1's binary_logloss: 0.0842483\n",
      "Early stopping, best iteration is:\n",
      "[42]\ttraining's binary_logloss: 0.0198602\tvalid_1's binary_logloss: 0.0803076\n",
      "best_score defaultdict(<class 'collections.OrderedDict'>, {'training': OrderedDict([('binary_logloss', 0.01986022732665103)]), 'valid_1': OrderedDict([('binary_logloss', 0.08030756743129011)])})\n",
      "Training until validation scores don't improve for 20 rounds\n",
      "[20]\ttraining's binary_logloss: 0.0737497\tvalid_1's binary_logloss: 0.0722103\n",
      "[40]\ttraining's binary_logloss: 0.0421248\tvalid_1's binary_logloss: 0.0576005\n",
      "[60]\ttraining's binary_logloss: 0.024454\tvalid_1's binary_logloss: 0.0556093\n",
      "Early stopping, best iteration is:\n",
      "[59]\ttraining's binary_logloss: 0.0253525\tvalid_1's binary_logloss: 0.0551219\n",
      "best_score defaultdict(<class 'collections.OrderedDict'>, {'training': OrderedDict([('binary_logloss', 0.02535249424772201)]), 'valid_1': OrderedDict([('binary_logloss', 0.05512192983494384)])})\n",
      "Training until validation scores don't improve for 20 rounds\n",
      "[20]\ttraining's binary_logloss: 0.0740776\tvalid_1's binary_logloss: 0.0718994\n",
      "[40]\ttraining's binary_logloss: 0.0436208\tvalid_1's binary_logloss: 0.0526783\n",
      "[60]\ttraining's binary_logloss: 0.0257758\tvalid_1's binary_logloss: 0.0564821\n",
      "Early stopping, best iteration is:\n",
      "[44]\ttraining's binary_logloss: 0.0389199\tvalid_1's binary_logloss: 0.0515248\n",
      "best_score defaultdict(<class 'collections.OrderedDict'>, {'training': OrderedDict([('binary_logloss', 0.03891992890681431)]), 'valid_1': OrderedDict([('binary_logloss', 0.051524839380310834)])})\n",
      "Training until validation scores don't improve for 20 rounds\n",
      "[20]\ttraining's binary_logloss: 0.0700956\tvalid_1's binary_logloss: 0.0858108\n",
      "[40]\ttraining's binary_logloss: 0.0427924\tvalid_1's binary_logloss: 0.0711625\n",
      "[60]\ttraining's binary_logloss: 0.02733\tvalid_1's binary_logloss: 0.0736908\n",
      "Early stopping, best iteration is:\n",
      "[40]\ttraining's binary_logloss: 0.0427924\tvalid_1's binary_logloss: 0.0711625\n",
      "best_score defaultdict(<class 'collections.OrderedDict'>, {'training': OrderedDict([('binary_logloss', 0.0427923651601229)]), 'valid_1': OrderedDict([('binary_logloss', 0.0711624549911196)])})\n",
      "Training until validation scores don't improve for 20 rounds\n",
      "[20]\ttraining's binary_logloss: 0.074166\tvalid_1's binary_logloss: 0.0808259\n",
      "[40]\ttraining's binary_logloss: 0.0421977\tvalid_1's binary_logloss: 0.0665392\n",
      "[60]\ttraining's binary_logloss: 0.0237652\tvalid_1's binary_logloss: 0.0694816\n",
      "Early stopping, best iteration is:\n",
      "[40]\ttraining's binary_logloss: 0.0421977\tvalid_1's binary_logloss: 0.0665392\n",
      "best_score defaultdict(<class 'collections.OrderedDict'>, {'training': OrderedDict([('binary_logloss', 0.04219770472850102)]), 'valid_1': OrderedDict([('binary_logloss', 0.06653915775691424)])})\n",
      "Training until validation scores don't improve for 20 rounds\n",
      "[20]\ttraining's binary_logloss: 0.0710445\tvalid_1's binary_logloss: 0.0948297\n",
      "[40]\ttraining's binary_logloss: 0.0404877\tvalid_1's binary_logloss: 0.0777946\n",
      "[60]\ttraining's binary_logloss: 0.0256998\tvalid_1's binary_logloss: 0.0803121\n"
     ]
    },
    {
     "name": "stderr",
     "output_type": "stream",
     "text": [
      "\u001b[32m[I 2021-05-09 16:12:01,924]\u001b[0m Trial 9 finished with value: 0.06425750266414729 and parameters: {'lambda_l1': 9.311110797164379e-05, 'lambda_l2': 0.0004942439637750851, 'num_leaves': 88, 'feature_fraction': 0.9160985767808698, 'bagging_fraction': 0.4930354152990425, 'bagging_freq': 2, 'min_child_samples': 89, 'max_depth': 6}. Best is trial 3 with value: 0.06053339569345748.\u001b[0m\n"
     ]
    },
    {
     "name": "stdout",
     "output_type": "stream",
     "text": [
      "Early stopping, best iteration is:\n",
      "[42]\ttraining's binary_logloss: 0.0384938\tvalid_1's binary_logloss: 0.0769391\n",
      "best_score defaultdict(<class 'collections.OrderedDict'>, {'training': OrderedDict([('binary_logloss', 0.03849383006353206)]), 'valid_1': OrderedDict([('binary_logloss', 0.07693913135744787)])})\n",
      "Training until validation scores don't improve for 20 rounds\n",
      "[20]\ttraining's binary_logloss: 0.0777535\tvalid_1's binary_logloss: 0.0739792\n",
      "[40]\ttraining's binary_logloss: 0.0489195\tvalid_1's binary_logloss: 0.0555499\n",
      "[60]\ttraining's binary_logloss: 0.033326\tvalid_1's binary_logloss: 0.0520788\n",
      "[80]\ttraining's binary_logloss: 0.0233417\tvalid_1's binary_logloss: 0.0519053\n",
      "[100]\ttraining's binary_logloss: 0.0181969\tvalid_1's binary_logloss: 0.0523859\n",
      "Early stopping, best iteration is:\n",
      "[87]\ttraining's binary_logloss: 0.0212791\tvalid_1's binary_logloss: 0.050901\n",
      "best_score defaultdict(<class 'collections.OrderedDict'>, {'training': OrderedDict([('binary_logloss', 0.021279084532802837)]), 'valid_1': OrderedDict([('binary_logloss', 0.050900969678193776)])})\n",
      "Training until validation scores don't improve for 20 rounds\n",
      "[20]\ttraining's binary_logloss: 0.0775034\tvalid_1's binary_logloss: 0.0750426\n",
      "[40]\ttraining's binary_logloss: 0.0494359\tvalid_1's binary_logloss: 0.0525439\n",
      "[60]\ttraining's binary_logloss: 0.0346096\tvalid_1's binary_logloss: 0.0493247\n",
      "[80]\ttraining's binary_logloss: 0.0255294\tvalid_1's binary_logloss: 0.0477704\n",
      "Early stopping, best iteration is:\n",
      "[78]\ttraining's binary_logloss: 0.0261961\tvalid_1's binary_logloss: 0.0472774\n",
      "best_score defaultdict(<class 'collections.OrderedDict'>, {'training': OrderedDict([('binary_logloss', 0.02619611013581971)]), 'valid_1': OrderedDict([('binary_logloss', 0.047277407390084625)])})\n",
      "Training until validation scores don't improve for 20 rounds\n",
      "[20]\ttraining's binary_logloss: 0.0739835\tvalid_1's binary_logloss: 0.0913144\n",
      "[40]\ttraining's binary_logloss: 0.0455635\tvalid_1's binary_logloss: 0.0695449\n",
      "[60]\ttraining's binary_logloss: 0.0313965\tvalid_1's binary_logloss: 0.0629923\n",
      "[80]\ttraining's binary_logloss: 0.0235015\tvalid_1's binary_logloss: 0.0644255\n",
      "Early stopping, best iteration is:\n",
      "[63]\ttraining's binary_logloss: 0.0297234\tvalid_1's binary_logloss: 0.0627111\n",
      "best_score defaultdict(<class 'collections.OrderedDict'>, {'training': OrderedDict([('binary_logloss', 0.029723374457320515)]), 'valid_1': OrderedDict([('binary_logloss', 0.06271109608144405)])})\n",
      "Training until validation scores don't improve for 20 rounds\n",
      "[20]\ttraining's binary_logloss: 0.076185\tvalid_1's binary_logloss: 0.079969\n",
      "[40]\ttraining's binary_logloss: 0.0462405\tvalid_1's binary_logloss: 0.0650797\n",
      "[60]\ttraining's binary_logloss: 0.0300342\tvalid_1's binary_logloss: 0.0634693\n",
      "Early stopping, best iteration is:\n",
      "[53]\ttraining's binary_logloss: 0.0348209\tvalid_1's binary_logloss: 0.0625054\n",
      "best_score defaultdict(<class 'collections.OrderedDict'>, {'training': OrderedDict([('binary_logloss', 0.03482092523048532)]), 'valid_1': OrderedDict([('binary_logloss', 0.06250535552427362)])})\n",
      "Training until validation scores don't improve for 20 rounds\n",
      "[20]\ttraining's binary_logloss: 0.0708827\tvalid_1's binary_logloss: 0.0960692\n",
      "[40]\ttraining's binary_logloss: 0.0430982\tvalid_1's binary_logloss: 0.0813027\n",
      "[60]\ttraining's binary_logloss: 0.0318702\tvalid_1's binary_logloss: 0.0806138\n"
     ]
    },
    {
     "name": "stderr",
     "output_type": "stream",
     "text": [
      "\u001b[32m[I 2021-05-09 16:12:02,996]\u001b[0m Trial 10 finished with value: 0.0599211266953847 and parameters: {'lambda_l1': 1.549925567966534, 'lambda_l2': 2.4646926277047614e-08, 'num_leaves': 70, 'feature_fraction': 0.589180527693883, 'bagging_fraction': 0.7153899472443699, 'bagging_freq': 7, 'min_child_samples': 98, 'max_depth': 5}. Best is trial 10 with value: 0.0599211266953847.\u001b[0m\n"
     ]
    },
    {
     "name": "stdout",
     "output_type": "stream",
     "text": [
      "[80]\ttraining's binary_logloss: 0.0235057\tvalid_1's binary_logloss: 0.0763925\n",
      "[100]\ttraining's binary_logloss: 0.0184147\tvalid_1's binary_logloss: 0.07803\n",
      "Early stopping, best iteration is:\n",
      "[82]\ttraining's binary_logloss: 0.0229457\tvalid_1's binary_logloss: 0.0762108\n",
      "best_score defaultdict(<class 'collections.OrderedDict'>, {'training': OrderedDict([('binary_logloss', 0.022945715903487714)]), 'valid_1': OrderedDict([('binary_logloss', 0.07621080480292738)])})\n",
      "Training until validation scores don't improve for 20 rounds\n",
      "[20]\ttraining's binary_logloss: 0.078018\tvalid_1's binary_logloss: 0.0732178\n",
      "[40]\ttraining's binary_logloss: 0.0493931\tvalid_1's binary_logloss: 0.0579256\n",
      "[60]\ttraining's binary_logloss: 0.0345611\tvalid_1's binary_logloss: 0.0531223\n",
      "[80]\ttraining's binary_logloss: 0.024689\tvalid_1's binary_logloss: 0.0531628\n",
      "Early stopping, best iteration is:\n",
      "[70]\ttraining's binary_logloss: 0.0294152\tvalid_1's binary_logloss: 0.0523126\n",
      "best_score defaultdict(<class 'collections.OrderedDict'>, {'training': OrderedDict([('binary_logloss', 0.029415246298766084)]), 'valid_1': OrderedDict([('binary_logloss', 0.05231257799998877)])})\n",
      "Training until validation scores don't improve for 20 rounds\n",
      "[20]\ttraining's binary_logloss: 0.0777854\tvalid_1's binary_logloss: 0.0745555\n",
      "[40]\ttraining's binary_logloss: 0.0497458\tvalid_1's binary_logloss: 0.0524784\n",
      "[60]\ttraining's binary_logloss: 0.0346705\tvalid_1's binary_logloss: 0.0492963\n",
      "[80]\ttraining's binary_logloss: 0.0260305\tvalid_1's binary_logloss: 0.0478287\n",
      "Early stopping, best iteration is:\n",
      "[75]\ttraining's binary_logloss: 0.0278438\tvalid_1's binary_logloss: 0.0475823\n",
      "best_score defaultdict(<class 'collections.OrderedDict'>, {'training': OrderedDict([('binary_logloss', 0.027843817893281372)]), 'valid_1': OrderedDict([('binary_logloss', 0.04758230643556933)])})\n",
      "Training until validation scores don't improve for 20 rounds\n",
      "[20]\ttraining's binary_logloss: 0.0739882\tvalid_1's binary_logloss: 0.0906868\n",
      "[40]\ttraining's binary_logloss: 0.0459166\tvalid_1's binary_logloss: 0.0699919\n",
      "[60]\ttraining's binary_logloss: 0.0318769\tvalid_1's binary_logloss: 0.0652138\n",
      "[80]\ttraining's binary_logloss: 0.023609\tvalid_1's binary_logloss: 0.0666422\n",
      "Early stopping, best iteration is:\n",
      "[63]\ttraining's binary_logloss: 0.030014\tvalid_1's binary_logloss: 0.0650527\n",
      "best_score defaultdict(<class 'collections.OrderedDict'>, {'training': OrderedDict([('binary_logloss', 0.030014034922350098)]), 'valid_1': OrderedDict([('binary_logloss', 0.06505269178659212)])})\n",
      "Training until validation scores don't improve for 20 rounds\n",
      "[20]\ttraining's binary_logloss: 0.0760486\tvalid_1's binary_logloss: 0.0804445\n",
      "[40]\ttraining's binary_logloss: 0.0462895\tvalid_1's binary_logloss: 0.0651104\n",
      "[60]\ttraining's binary_logloss: 0.0309068\tvalid_1's binary_logloss: 0.063831\n",
      "Early stopping, best iteration is:\n",
      "[53]\ttraining's binary_logloss: 0.0354952\tvalid_1's binary_logloss: 0.0631877\n",
      "best_score defaultdict(<class 'collections.OrderedDict'>, {'training': OrderedDict([('binary_logloss', 0.035495184651643544)]), 'valid_1': OrderedDict([('binary_logloss', 0.06318773467902768)])})\n",
      "Training until validation scores don't improve for 20 rounds\n",
      "[20]\ttraining's binary_logloss: 0.0715876\tvalid_1's binary_logloss: 0.0963503\n",
      "[40]\ttraining's binary_logloss: 0.0441778\tvalid_1's binary_logloss: 0.0825869\n"
     ]
    },
    {
     "name": "stderr",
     "output_type": "stream",
     "text": [
      "\u001b[32m[I 2021-05-09 16:12:04,102]\u001b[0m Trial 11 finished with value: 0.06158428702135956 and parameters: {'lambda_l1': 1.780143752470679, 'lambda_l2': 1.0413153598568047e-08, 'num_leaves': 66, 'feature_fraction': 0.6005857153089216, 'bagging_fraction': 0.728041277527194, 'bagging_freq': 7, 'min_child_samples': 97, 'max_depth': 5}. Best is trial 10 with value: 0.0599211266953847.\u001b[0m\n"
     ]
    },
    {
     "name": "stdout",
     "output_type": "stream",
     "text": [
      "[60]\ttraining's binary_logloss: 0.0326492\tvalid_1's binary_logloss: 0.0823164\n",
      "[80]\ttraining's binary_logloss: 0.0248285\tvalid_1's binary_logloss: 0.0808349\n",
      "Early stopping, best iteration is:\n",
      "[75]\ttraining's binary_logloss: 0.0263993\tvalid_1's binary_logloss: 0.0797861\n",
      "best_score defaultdict(<class 'collections.OrderedDict'>, {'training': OrderedDict([('binary_logloss', 0.026399326195101)]), 'valid_1': OrderedDict([('binary_logloss', 0.07978612420561991)])})\n",
      "Training until validation scores don't improve for 20 rounds\n",
      "[20]\ttraining's binary_logloss: 0.0778885\tvalid_1's binary_logloss: 0.074204\n",
      "[40]\ttraining's binary_logloss: 0.0487738\tvalid_1's binary_logloss: 0.0560448\n",
      "[60]\ttraining's binary_logloss: 0.0331431\tvalid_1's binary_logloss: 0.0512699\n",
      "[80]\ttraining's binary_logloss: 0.0232866\tvalid_1's binary_logloss: 0.0509711\n",
      "[100]\ttraining's binary_logloss: 0.018357\tvalid_1's binary_logloss: 0.0512418\n",
      "Early stopping, best iteration is:\n",
      "[91]\ttraining's binary_logloss: 0.0201188\tvalid_1's binary_logloss: 0.0496801\n",
      "best_score defaultdict(<class 'collections.OrderedDict'>, {'training': OrderedDict([('binary_logloss', 0.02011884749511364)]), 'valid_1': OrderedDict([('binary_logloss', 0.049680113140000426)])})\n",
      "Training until validation scores don't improve for 20 rounds\n",
      "[20]\ttraining's binary_logloss: 0.0778219\tvalid_1's binary_logloss: 0.0753893\n",
      "[40]\ttraining's binary_logloss: 0.0497072\tvalid_1's binary_logloss: 0.0519926\n",
      "[60]\ttraining's binary_logloss: 0.0349997\tvalid_1's binary_logloss: 0.0485606\n",
      "[80]\ttraining's binary_logloss: 0.0259149\tvalid_1's binary_logloss: 0.0480313\n",
      "Early stopping, best iteration is:\n",
      "[69]\ttraining's binary_logloss: 0.0307532\tvalid_1's binary_logloss: 0.047309\n",
      "best_score defaultdict(<class 'collections.OrderedDict'>, {'training': OrderedDict([('binary_logloss', 0.030753180036375637)]), 'valid_1': OrderedDict([('binary_logloss', 0.04730900843157531)])})\n",
      "Training until validation scores don't improve for 20 rounds\n",
      "[20]\ttraining's binary_logloss: 0.0747052\tvalid_1's binary_logloss: 0.0919703\n",
      "[40]\ttraining's binary_logloss: 0.0459656\tvalid_1's binary_logloss: 0.0699169\n",
      "[60]\ttraining's binary_logloss: 0.0323214\tvalid_1's binary_logloss: 0.0666172\n",
      "[80]\ttraining's binary_logloss: 0.0237527\tvalid_1's binary_logloss: 0.068317\n",
      "Early stopping, best iteration is:\n",
      "[65]\ttraining's binary_logloss: 0.0292429\tvalid_1's binary_logloss: 0.0658703\n",
      "best_score defaultdict(<class 'collections.OrderedDict'>, {'training': OrderedDict([('binary_logloss', 0.02924290255445369)]), 'valid_1': OrderedDict([('binary_logloss', 0.0658703255363799)])})\n",
      "Training until validation scores don't improve for 20 rounds\n",
      "[20]\ttraining's binary_logloss: 0.0761009\tvalid_1's binary_logloss: 0.0814623\n",
      "[40]\ttraining's binary_logloss: 0.0460997\tvalid_1's binary_logloss: 0.0665475\n"
     ]
    },
    {
     "name": "stderr",
     "output_type": "stream",
     "text": [
      "\u001b[32m[I 2021-05-09 16:12:04,922]\u001b[0m Trial 12 finished with value: 0.06102109196347094 and parameters: {'lambda_l1': 1.7174230022054697, 'lambda_l2': 1.507172451012707e-07, 'num_leaves': 100, 'feature_fraction': 0.6158669487073364, 'bagging_fraction': 0.714051097214322, 'bagging_freq': 7, 'min_child_samples': 99, 'max_depth': 7}. Best is trial 10 with value: 0.0599211266953847.\u001b[0m\n"
     ]
    },
    {
     "name": "stdout",
     "output_type": "stream",
     "text": [
      "[60]\ttraining's binary_logloss: 0.0296676\tvalid_1's binary_logloss: 0.0660707\n",
      "Early stopping, best iteration is:\n",
      "[53]\ttraining's binary_logloss: 0.0344846\tvalid_1's binary_logloss: 0.0649181\n",
      "best_score defaultdict(<class 'collections.OrderedDict'>, {'training': OrderedDict([('binary_logloss', 0.03448455200161861)]), 'valid_1': OrderedDict([('binary_logloss', 0.0649181367400713)])})\n",
      "Training until validation scores don't improve for 20 rounds\n",
      "[20]\ttraining's binary_logloss: 0.0712987\tvalid_1's binary_logloss: 0.0962976\n",
      "[40]\ttraining's binary_logloss: 0.0435532\tvalid_1's binary_logloss: 0.0814634\n",
      "[60]\ttraining's binary_logloss: 0.0317029\tvalid_1's binary_logloss: 0.0803428\n",
      "[80]\ttraining's binary_logloss: 0.023381\tvalid_1's binary_logloss: 0.0782744\n",
      "Early stopping, best iteration is:\n",
      "[78]\ttraining's binary_logloss: 0.0239749\tvalid_1's binary_logloss: 0.0773279\n",
      "best_score defaultdict(<class 'collections.OrderedDict'>, {'training': OrderedDict([('binary_logloss', 0.023974933743736052)]), 'valid_1': OrderedDict([('binary_logloss', 0.07732787596932779)])})\n",
      "Training until validation scores don't improve for 20 rounds\n",
      "[20]\ttraining's binary_logloss: 0.0738602\tvalid_1's binary_logloss: 0.0718336\n",
      "[40]\ttraining's binary_logloss: 0.0397732\tvalid_1's binary_logloss: 0.0528137\n",
      "[60]\ttraining's binary_logloss: 0.0234267\tvalid_1's binary_logloss: 0.053643\n",
      "Early stopping, best iteration is:\n",
      "[45]\ttraining's binary_logloss: 0.0348296\tvalid_1's binary_logloss: 0.0515113\n",
      "best_score defaultdict(<class 'collections.OrderedDict'>, {'training': OrderedDict([('binary_logloss', 0.03482955153153271)]), 'valid_1': OrderedDict([('binary_logloss', 0.05151133948787077)])})\n",
      "Training until validation scores don't improve for 20 rounds\n",
      "[20]\ttraining's binary_logloss: 0.0710279\tvalid_1's binary_logloss: 0.0704005\n",
      "[40]\ttraining's binary_logloss: 0.0376485\tvalid_1's binary_logloss: 0.0503756\n",
      "[60]\ttraining's binary_logloss: 0.0224266\tvalid_1's binary_logloss: 0.0475956\n",
      "[80]\ttraining's binary_logloss: 0.0147466\tvalid_1's binary_logloss: 0.0495042\n",
      "Early stopping, best iteration is:\n",
      "[62]\ttraining's binary_logloss: 0.021464\tvalid_1's binary_logloss: 0.0469988\n",
      "best_score defaultdict(<class 'collections.OrderedDict'>, {'training': OrderedDict([('binary_logloss', 0.021464021995350226)]), 'valid_1': OrderedDict([('binary_logloss', 0.04699878664135155)])})\n",
      "Training until validation scores don't improve for 20 rounds\n",
      "[20]\ttraining's binary_logloss: 0.0676944\tvalid_1's binary_logloss: 0.0866832\n",
      "[40]\ttraining's binary_logloss: 0.0374431\tvalid_1's binary_logloss: 0.0708743\n",
      "[60]\ttraining's binary_logloss: 0.0233996\tvalid_1's binary_logloss: 0.0684757\n",
      "[80]\ttraining's binary_logloss: 0.0129575\tvalid_1's binary_logloss: 0.0733227\n",
      "Early stopping, best iteration is:\n",
      "[60]\ttraining's binary_logloss: 0.0233996\tvalid_1's binary_logloss: 0.0684757\n",
      "best_score defaultdict(<class 'collections.OrderedDict'>, {'training': OrderedDict([('binary_logloss', 0.02339959582568555)]), 'valid_1': OrderedDict([('binary_logloss', 0.06847574239879814)])})\n",
      "Training until validation scores don't improve for 20 rounds\n",
      "[20]\ttraining's binary_logloss: 0.0701524\tvalid_1's binary_logloss: 0.07953\n"
     ]
    },
    {
     "name": "stderr",
     "output_type": "stream",
     "text": [
      "\u001b[32m[I 2021-05-09 16:12:05,658]\u001b[0m Trial 13 finished with value: 0.0607838948654442 and parameters: {'lambda_l1': 0.04914005309937112, 'lambda_l2': 5.846579811439404e-07, 'num_leaves': 99, 'feature_fraction': 0.5604360770071173, 'bagging_fraction': 0.6144123843529192, 'bagging_freq': 5, 'min_child_samples': 73, 'max_depth': 5}. Best is trial 10 with value: 0.0599211266953847.\u001b[0m\n"
     ]
    },
    {
     "name": "stdout",
     "output_type": "stream",
     "text": [
      "[40]\ttraining's binary_logloss: 0.0377733\tvalid_1's binary_logloss: 0.0629612\n",
      "[60]\ttraining's binary_logloss: 0.021866\tvalid_1's binary_logloss: 0.0638354\n",
      "Early stopping, best iteration is:\n",
      "[48]\ttraining's binary_logloss: 0.0299351\tvalid_1's binary_logloss: 0.0600425\n",
      "best_score defaultdict(<class 'collections.OrderedDict'>, {'training': OrderedDict([('binary_logloss', 0.029935114751704676)]), 'valid_1': OrderedDict([('binary_logloss', 0.06004248333634328)])})\n",
      "Training until validation scores don't improve for 20 rounds\n",
      "[20]\ttraining's binary_logloss: 0.0677689\tvalid_1's binary_logloss: 0.0948603\n",
      "[40]\ttraining's binary_logloss: 0.0380416\tvalid_1's binary_logloss: 0.0808742\n",
      "[60]\ttraining's binary_logloss: 0.0229462\tvalid_1's binary_logloss: 0.0783221\n",
      "Early stopping, best iteration is:\n",
      "[56]\ttraining's binary_logloss: 0.0247686\tvalid_1's binary_logloss: 0.0768911\n",
      "best_score defaultdict(<class 'collections.OrderedDict'>, {'training': OrderedDict([('binary_logloss', 0.02476864590817972)]), 'valid_1': OrderedDict([('binary_logloss', 0.07689112246285727)])})\n",
      "Training until validation scores don't improve for 20 rounds\n",
      "[20]\ttraining's binary_logloss: 0.0624277\tvalid_1's binary_logloss: 0.0670265\n",
      "[40]\ttraining's binary_logloss: 0.0252465\tvalid_1's binary_logloss: 0.0513756\n",
      "[60]\ttraining's binary_logloss: 0.0115926\tvalid_1's binary_logloss: 0.0529248\n",
      "Early stopping, best iteration is:\n",
      "[47]\ttraining's binary_logloss: 0.018752\tvalid_1's binary_logloss: 0.0512568\n",
      "best_score defaultdict(<class 'collections.OrderedDict'>, {'training': OrderedDict([('binary_logloss', 0.018752002334911467)]), 'valid_1': OrderedDict([('binary_logloss', 0.051256848992203626)])})\n",
      "Training until validation scores don't improve for 20 rounds\n",
      "[20]\ttraining's binary_logloss: 0.0638704\tvalid_1's binary_logloss: 0.067733\n",
      "[40]\ttraining's binary_logloss: 0.0283591\tvalid_1's binary_logloss: 0.0477833\n",
      "[60]\ttraining's binary_logloss: 0.0125597\tvalid_1's binary_logloss: 0.0495056\n",
      "Early stopping, best iteration is:\n",
      "[40]\ttraining's binary_logloss: 0.0283591\tvalid_1's binary_logloss: 0.0477833\n",
      "best_score defaultdict(<class 'collections.OrderedDict'>, {'training': OrderedDict([('binary_logloss', 0.028359064418525908)]), 'valid_1': OrderedDict([('binary_logloss', 0.047783318024477904)])})\n",
      "Training until validation scores don't improve for 20 rounds\n",
      "[20]\ttraining's binary_logloss: 0.0603047\tvalid_1's binary_logloss: 0.0828424\n",
      "[40]\ttraining's binary_logloss: 0.0255334\tvalid_1's binary_logloss: 0.0661344\n",
      "[60]\ttraining's binary_logloss: 0.0106984\tvalid_1's binary_logloss: 0.0704539\n",
      "Early stopping, best iteration is:\n",
      "[49]\ttraining's binary_logloss: 0.0172294\tvalid_1's binary_logloss: 0.0654446\n",
      "best_score defaultdict(<class 'collections.OrderedDict'>, {'training': OrderedDict([('binary_logloss', 0.01722936196244617)]), 'valid_1': OrderedDict([('binary_logloss', 0.06544455787048456)])})\n",
      "Training until validation scores don't improve for 20 rounds\n",
      "[20]\ttraining's binary_logloss: 0.0596806\tvalid_1's binary_logloss: 0.0791057\n",
      "[40]\ttraining's binary_logloss: 0.0249386\tvalid_1's binary_logloss: 0.0665346\n",
      "[60]\ttraining's binary_logloss: 0.010119\tvalid_1's binary_logloss: 0.070655\n",
      "Early stopping, best iteration is:\n",
      "[46]\ttraining's binary_logloss: 0.018649\tvalid_1's binary_logloss: 0.065972\n",
      "best_score defaultdict(<class 'collections.OrderedDict'>, {'training': OrderedDict([('binary_logloss', 0.01864903177321208)]), 'valid_1': OrderedDict([('binary_logloss', 0.06597200374912061)])})\n",
      "Training until validation scores don't improve for 20 rounds\n",
      "[20]\ttraining's binary_logloss: 0.0601007\tvalid_1's binary_logloss: 0.0922356\n"
     ]
    },
    {
     "name": "stderr",
     "output_type": "stream",
     "text": [
      "\u001b[32m[I 2021-05-09 16:12:06,450]\u001b[0m Trial 14 finished with value: 0.06206795288739778 and parameters: {'lambda_l1': 0.04033188569668525, 'lambda_l2': 0.00023329181939133058, 'num_leaves': 67, 'feature_fraction': 0.7006853329769245, 'bagging_fraction': 0.7946784493448518, 'bagging_freq': 6, 'min_child_samples': 64, 'max_depth': 8}. Best is trial 10 with value: 0.0599211266953847.\u001b[0m\n"
     ]
    },
    {
     "name": "stdout",
     "output_type": "stream",
     "text": [
      "[40]\ttraining's binary_logloss: 0.0266613\tvalid_1's binary_logloss: 0.0801241\n",
      "[60]\ttraining's binary_logloss: 0.0107503\tvalid_1's binary_logloss: 0.083902\n",
      "Early stopping, best iteration is:\n",
      "[47]\ttraining's binary_logloss: 0.0204037\tvalid_1's binary_logloss: 0.079883\n",
      "best_score defaultdict(<class 'collections.OrderedDict'>, {'training': OrderedDict([('binary_logloss', 0.020403676903765763)]), 'valid_1': OrderedDict([('binary_logloss', 0.0798830358007022)])})\n",
      "Training until validation scores don't improve for 20 rounds\n",
      "[20]\ttraining's binary_logloss: 0.0749109\tvalid_1's binary_logloss: 0.0727713\n",
      "[40]\ttraining's binary_logloss: 0.0444436\tvalid_1's binary_logloss: 0.0550195\n",
      "[60]\ttraining's binary_logloss: 0.0263833\tvalid_1's binary_logloss: 0.0517516\n",
      "Early stopping, best iteration is:\n",
      "[53]\ttraining's binary_logloss: 0.0312077\tvalid_1's binary_logloss: 0.0492538\n",
      "best_score defaultdict(<class 'collections.OrderedDict'>, {'training': OrderedDict([('binary_logloss', 0.03120771089968267)]), 'valid_1': OrderedDict([('binary_logloss', 0.04925383837785147)])})\n",
      "Training until validation scores don't improve for 20 rounds\n",
      "[20]\ttraining's binary_logloss: 0.0751605\tvalid_1's binary_logloss: 0.0721209\n",
      "[40]\ttraining's binary_logloss: 0.0439013\tvalid_1's binary_logloss: 0.0519471\n",
      "[60]\ttraining's binary_logloss: 0.0263359\tvalid_1's binary_logloss: 0.0484604\n",
      "Early stopping, best iteration is:\n",
      "[58]\ttraining's binary_logloss: 0.0279651\tvalid_1's binary_logloss: 0.0475402\n",
      "best_score defaultdict(<class 'collections.OrderedDict'>, {'training': OrderedDict([('binary_logloss', 0.027965072752863345)]), 'valid_1': OrderedDict([('binary_logloss', 0.04754018773886847)])})\n",
      "Training until validation scores don't improve for 20 rounds\n",
      "[20]\ttraining's binary_logloss: 0.0710649\tvalid_1's binary_logloss: 0.0881666\n",
      "[40]\ttraining's binary_logloss: 0.0421889\tvalid_1's binary_logloss: 0.0711632\n",
      "[60]\ttraining's binary_logloss: 0.0280083\tvalid_1's binary_logloss: 0.0703896\n",
      "[80]\ttraining's binary_logloss: 0.0157833\tvalid_1's binary_logloss: 0.0696464\n",
      "Early stopping, best iteration is:\n",
      "[64]\ttraining's binary_logloss: 0.0237939\tvalid_1's binary_logloss: 0.0675029\n",
      "best_score defaultdict(<class 'collections.OrderedDict'>, {'training': OrderedDict([('binary_logloss', 0.02379386889731306)]), 'valid_1': OrderedDict([('binary_logloss', 0.06750287078479593)])})\n",
      "Training until validation scores don't improve for 20 rounds\n",
      "[20]\ttraining's binary_logloss: 0.0727001\tvalid_1's binary_logloss: 0.0808846\n",
      "[40]\ttraining's binary_logloss: 0.0417262\tvalid_1's binary_logloss: 0.0647046\n",
      "[60]\ttraining's binary_logloss: 0.0252921\tvalid_1's binary_logloss: 0.0648506\n",
      "Early stopping, best iteration is:\n",
      "[42]\ttraining's binary_logloss: 0.0387516\tvalid_1's binary_logloss: 0.0636945\n",
      "best_score defaultdict(<class 'collections.OrderedDict'>, {'training': OrderedDict([('binary_logloss', 0.03875157453528381)]), 'valid_1': OrderedDict([('binary_logloss', 0.06369449599748629)])})\n",
      "Training until validation scores don't improve for 20 rounds\n"
     ]
    },
    {
     "name": "stderr",
     "output_type": "stream",
     "text": [
      "\u001b[32m[I 2021-05-09 16:12:07,129]\u001b[0m Trial 15 finished with value: 0.06111212206405174 and parameters: {'lambda_l1': 0.0668185597154472, 'lambda_l2': 1.0695824350177772e-08, 'num_leaves': 76, 'feature_fraction': 0.48682350794395385, 'bagging_fraction': 0.5446017091214111, 'bagging_freq': 5, 'min_child_samples': 90, 'max_depth': 10}. Best is trial 10 with value: 0.0599211266953847.\u001b[0m\n"
     ]
    },
    {
     "name": "stdout",
     "output_type": "stream",
     "text": [
      "[20]\ttraining's binary_logloss: 0.0713375\tvalid_1's binary_logloss: 0.09589\n",
      "[40]\ttraining's binary_logloss: 0.0434302\tvalid_1's binary_logloss: 0.0817522\n",
      "[60]\ttraining's binary_logloss: 0.0254749\tvalid_1's binary_logloss: 0.0780035\n",
      "Early stopping, best iteration is:\n",
      "[59]\ttraining's binary_logloss: 0.0259462\tvalid_1's binary_logloss: 0.0775692\n",
      "best_score defaultdict(<class 'collections.OrderedDict'>, {'training': OrderedDict([('binary_logloss', 0.025946170730579046)]), 'valid_1': OrderedDict([('binary_logloss', 0.07756921742125655)])})\n",
      "Training until validation scores don't improve for 20 rounds\n",
      "[20]\ttraining's binary_logloss: 0.0854631\tvalid_1's binary_logloss: 0.0797797\n",
      "[40]\ttraining's binary_logloss: 0.0658692\tvalid_1's binary_logloss: 0.0624544\n",
      "[60]\ttraining's binary_logloss: 0.0602522\tvalid_1's binary_logloss: 0.0586113\n",
      "[80]\ttraining's binary_logloss: 0.0588739\tvalid_1's binary_logloss: 0.0573575\n",
      "[100]\ttraining's binary_logloss: 0.0574957\tvalid_1's binary_logloss: 0.0568216\n",
      "[120]\ttraining's binary_logloss: 0.0569082\tvalid_1's binary_logloss: 0.0564632\n",
      "[140]\ttraining's binary_logloss: 0.0567057\tvalid_1's binary_logloss: 0.0565402\n",
      "Early stopping, best iteration is:\n",
      "[122]\ttraining's binary_logloss: 0.0568873\tvalid_1's binary_logloss: 0.0564429\n",
      "best_score defaultdict(<class 'collections.OrderedDict'>, {'training': OrderedDict([('binary_logloss', 0.05688732008533542)]), 'valid_1': OrderedDict([('binary_logloss', 0.056442907861237436)])})\n",
      "Training until validation scores don't improve for 20 rounds\n",
      "[20]\ttraining's binary_logloss: 0.0872121\tvalid_1's binary_logloss: 0.0818236\n",
      "[40]\ttraining's binary_logloss: 0.0656957\tvalid_1's binary_logloss: 0.0600011\n",
      "[60]\ttraining's binary_logloss: 0.0588046\tvalid_1's binary_logloss: 0.0546876\n",
      "[80]\ttraining's binary_logloss: 0.0573107\tvalid_1's binary_logloss: 0.0528947\n",
      "[100]\ttraining's binary_logloss: 0.0567984\tvalid_1's binary_logloss: 0.0524899\n",
      "[120]\ttraining's binary_logloss: 0.0561016\tvalid_1's binary_logloss: 0.0514647\n",
      "[140]\ttraining's binary_logloss: 0.0535362\tvalid_1's binary_logloss: 0.0507956\n",
      "Early stopping, best iteration is:\n",
      "[138]\ttraining's binary_logloss: 0.0537577\tvalid_1's binary_logloss: 0.0507282\n",
      "best_score defaultdict(<class 'collections.OrderedDict'>, {'training': OrderedDict([('binary_logloss', 0.053757724170014606)]), 'valid_1': OrderedDict([('binary_logloss', 0.05072816811341833)])})\n",
      "Training until validation scores don't improve for 20 rounds\n",
      "[20]\ttraining's binary_logloss: 0.0832668\tvalid_1's binary_logloss: 0.0979803\n",
      "[40]\ttraining's binary_logloss: 0.0616235\tvalid_1's binary_logloss: 0.0798258\n",
      "[60]\ttraining's binary_logloss: 0.0553944\tvalid_1's binary_logloss: 0.0753375\n",
      "[80]\ttraining's binary_logloss: 0.0540977\tvalid_1's binary_logloss: 0.0748781\n",
      "[100]\ttraining's binary_logloss: 0.0534543\tvalid_1's binary_logloss: 0.0745261\n",
      "[120]\ttraining's binary_logloss: 0.0520051\tvalid_1's binary_logloss: 0.073409\n",
      "Early stopping, best iteration is:\n",
      "[119]\ttraining's binary_logloss: 0.0520051\tvalid_1's binary_logloss: 0.073409\n",
      "best_score defaultdict(<class 'collections.OrderedDict'>, {'training': OrderedDict([('binary_logloss', 0.052005136916109806)]), 'valid_1': OrderedDict([('binary_logloss', 0.07340899147000755)])})\n",
      "Training until validation scores don't improve for 20 rounds\n",
      "[20]\ttraining's binary_logloss: 0.0844313\tvalid_1's binary_logloss: 0.0854169\n",
      "[40]\ttraining's binary_logloss: 0.0622483\tvalid_1's binary_logloss: 0.0696806\n",
      "[60]\ttraining's binary_logloss: 0.0561924\tvalid_1's binary_logloss: 0.0662164\n",
      "[80]\ttraining's binary_logloss: 0.0560084\tvalid_1's binary_logloss: 0.0661234\n",
      "[100]\ttraining's binary_logloss: 0.0551029\tvalid_1's binary_logloss: 0.0655864\n",
      "[120]\ttraining's binary_logloss: 0.0543473\tvalid_1's binary_logloss: 0.0653768\n",
      "[140]\ttraining's binary_logloss: 0.0523319\tvalid_1's binary_logloss: 0.0648854\n",
      "[160]\ttraining's binary_logloss: 0.0512579\tvalid_1's binary_logloss: 0.0651385\n",
      "Early stopping, best iteration is:\n",
      "[140]\ttraining's binary_logloss: 0.0523319\tvalid_1's binary_logloss: 0.0648854\n",
      "best_score defaultdict(<class 'collections.OrderedDict'>, {'training': OrderedDict([('binary_logloss', 0.052331945139954435)]), 'valid_1': OrderedDict([('binary_logloss', 0.06488538784943511)])})\n"
     ]
    },
    {
     "name": "stderr",
     "output_type": "stream",
     "text": [
      "\u001b[32m[I 2021-05-09 16:12:07,877]\u001b[0m Trial 16 finished with value: 0.06548030718145424 and parameters: {'lambda_l1': 9.270574136627706, 'lambda_l2': 7.643809170893614e-05, 'num_leaves': 57, 'feature_fraction': 0.6549293469073768, 'bagging_fraction': 0.6576954052681953, 'bagging_freq': 7, 'min_child_samples': 86, 'max_depth': 5}. Best is trial 10 with value: 0.0599211266953847.\u001b[0m\n"
     ]
    },
    {
     "name": "stdout",
     "output_type": "stream",
     "text": [
      "Training until validation scores don't improve for 20 rounds\n",
      "[20]\ttraining's binary_logloss: 0.0814084\tvalid_1's binary_logloss: 0.103018\n",
      "[40]\ttraining's binary_logloss: 0.0597959\tvalid_1's binary_logloss: 0.0869156\n",
      "[60]\ttraining's binary_logloss: 0.0550733\tvalid_1's binary_logloss: 0.0844856\n",
      "[80]\ttraining's binary_logloss: 0.0539771\tvalid_1's binary_logloss: 0.083227\n",
      "[100]\ttraining's binary_logloss: 0.0525669\tvalid_1's binary_logloss: 0.0829013\n",
      "[120]\ttraining's binary_logloss: 0.0513633\tvalid_1's binary_logloss: 0.0820522\n",
      "[140]\ttraining's binary_logloss: 0.0512829\tvalid_1's binary_logloss: 0.0819679\n",
      "[160]\ttraining's binary_logloss: 0.0507427\tvalid_1's binary_logloss: 0.0821945\n",
      "Early stopping, best iteration is:\n",
      "[151]\ttraining's binary_logloss: 0.0512252\tvalid_1's binary_logloss: 0.0819361\n",
      "best_score defaultdict(<class 'collections.OrderedDict'>, {'training': OrderedDict([('binary_logloss', 0.05122521769800995)]), 'valid_1': OrderedDict([('binary_logloss', 0.0819360806131728)])})\n",
      "Training until validation scores don't improve for 20 rounds\n",
      "[20]\ttraining's binary_logloss: 0.066343\tvalid_1's binary_logloss: 0.0696445\n",
      "[40]\ttraining's binary_logloss: 0.0302074\tvalid_1's binary_logloss: 0.0549697\n",
      "[60]\ttraining's binary_logloss: 0.014654\tvalid_1's binary_logloss: 0.0535369\n",
      "Early stopping, best iteration is:\n",
      "[55]\ttraining's binary_logloss: 0.0177218\tvalid_1's binary_logloss: 0.0519354\n",
      "best_score defaultdict(<class 'collections.OrderedDict'>, {'training': OrderedDict([('binary_logloss', 0.017721807652010424)]), 'valid_1': OrderedDict([('binary_logloss', 0.05193539581452895)])})\n",
      "Training until validation scores don't improve for 20 rounds\n",
      "[20]\ttraining's binary_logloss: 0.0663093\tvalid_1's binary_logloss: 0.0679861\n",
      "[40]\ttraining's binary_logloss: 0.0308831\tvalid_1's binary_logloss: 0.0510764\n",
      "[60]\ttraining's binary_logloss: 0.015581\tvalid_1's binary_logloss: 0.0498956\n",
      "Early stopping, best iteration is:\n",
      "[58]\ttraining's binary_logloss: 0.0166449\tvalid_1's binary_logloss: 0.0494684\n",
      "best_score defaultdict(<class 'collections.OrderedDict'>, {'training': OrderedDict([('binary_logloss', 0.016644867891319005)]), 'valid_1': OrderedDict([('binary_logloss', 0.049468399995851155)])})\n",
      "Training until validation scores don't improve for 20 rounds\n",
      "[20]\ttraining's binary_logloss: 0.0616578\tvalid_1's binary_logloss: 0.0834472\n",
      "[40]\ttraining's binary_logloss: 0.0271126\tvalid_1's binary_logloss: 0.0662144\n",
      "[60]\ttraining's binary_logloss: 0.0132907\tvalid_1's binary_logloss: 0.0644313\n",
      "Early stopping, best iteration is:\n",
      "[45]\ttraining's binary_logloss: 0.021895\tvalid_1's binary_logloss: 0.0638861\n",
      "best_score defaultdict(<class 'collections.OrderedDict'>, {'training': OrderedDict([('binary_logloss', 0.0218950290439609)]), 'valid_1': OrderedDict([('binary_logloss', 0.06388612718977278)])})\n",
      "Training until validation scores don't improve for 20 rounds\n",
      "[20]\ttraining's binary_logloss: 0.0648089\tvalid_1's binary_logloss: 0.0790497\n"
     ]
    },
    {
     "name": "stderr",
     "output_type": "stream",
     "text": [
      "\u001b[32m[I 2021-05-09 16:12:08,646]\u001b[0m Trial 17 finished with value: 0.060991279999016726 and parameters: {'lambda_l1': 0.3997568086184113, 'lambda_l2': 0.004666015060615487, 'num_leaves': 93, 'feature_fraction': 0.7639186893665711, 'bagging_fraction': 0.7620166790257517, 'bagging_freq': 1, 'min_child_samples': 62, 'max_depth': 7}. Best is trial 10 with value: 0.0599211266953847.\u001b[0m\n"
     ]
    },
    {
     "name": "stdout",
     "output_type": "stream",
     "text": [
      "[40]\ttraining's binary_logloss: 0.0280179\tvalid_1's binary_logloss: 0.0639835\n",
      "[60]\ttraining's binary_logloss: 0.0136514\tvalid_1's binary_logloss: 0.0678764\n",
      "Early stopping, best iteration is:\n",
      "[45]\ttraining's binary_logloss: 0.0231526\tvalid_1's binary_logloss: 0.0634186\n",
      "best_score defaultdict(<class 'collections.OrderedDict'>, {'training': OrderedDict([('binary_logloss', 0.023152593642109278)]), 'valid_1': OrderedDict([('binary_logloss', 0.06341861361187782)])})\n",
      "Training until validation scores don't improve for 20 rounds\n",
      "[20]\ttraining's binary_logloss: 0.0627715\tvalid_1's binary_logloss: 0.0933024\n",
      "[40]\ttraining's binary_logloss: 0.0279171\tvalid_1's binary_logloss: 0.0767862\n",
      "Early stopping, best iteration is:\n",
      "[38]\ttraining's binary_logloss: 0.0305217\tvalid_1's binary_logloss: 0.0762479\n",
      "best_score defaultdict(<class 'collections.OrderedDict'>, {'training': OrderedDict([('binary_logloss', 0.030521658380675117)]), 'valid_1': OrderedDict([('binary_logloss', 0.07624786338305288)])})\n",
      "Training until validation scores don't improve for 20 rounds\n",
      "[20]\ttraining's binary_logloss: 0.0718661\tvalid_1's binary_logloss: 0.0687434\n",
      "[40]\ttraining's binary_logloss: 0.0412917\tvalid_1's binary_logloss: 0.053846\n",
      "[60]\ttraining's binary_logloss: 0.0248506\tvalid_1's binary_logloss: 0.048878\n",
      "Early stopping, best iteration is:\n",
      "[59]\ttraining's binary_logloss: 0.025264\tvalid_1's binary_logloss: 0.0485589\n",
      "best_score defaultdict(<class 'collections.OrderedDict'>, {'training': OrderedDict([('binary_logloss', 0.025264009266932445)]), 'valid_1': OrderedDict([('binary_logloss', 0.04855887396412952)])})\n",
      "Training until validation scores don't improve for 20 rounds\n",
      "[20]\ttraining's binary_logloss: 0.0687159\tvalid_1's binary_logloss: 0.0672466\n",
      "[40]\ttraining's binary_logloss: 0.0406028\tvalid_1's binary_logloss: 0.043781\n",
      "[60]\ttraining's binary_logloss: 0.0254212\tvalid_1's binary_logloss: 0.0459203\n",
      "Early stopping, best iteration is:\n",
      "[42]\ttraining's binary_logloss: 0.0388463\tvalid_1's binary_logloss: 0.0432086\n",
      "best_score defaultdict(<class 'collections.OrderedDict'>, {'training': OrderedDict([('binary_logloss', 0.03884633921095206)]), 'valid_1': OrderedDict([('binary_logloss', 0.043208564456698906)])})\n",
      "Training until validation scores don't improve for 20 rounds\n",
      "[20]\ttraining's binary_logloss: 0.0677111\tvalid_1's binary_logloss: 0.081563\n",
      "[40]\ttraining's binary_logloss: 0.0356211\tvalid_1's binary_logloss: 0.0687473\n",
      "[60]\ttraining's binary_logloss: 0.023\tvalid_1's binary_logloss: 0.0695524\n",
      "Early stopping, best iteration is:\n",
      "[54]\ttraining's binary_logloss: 0.0248287\tvalid_1's binary_logloss: 0.0666083\n",
      "best_score defaultdict(<class 'collections.OrderedDict'>, {'training': OrderedDict([('binary_logloss', 0.024828679675131294)]), 'valid_1': OrderedDict([('binary_logloss', 0.06660833820930696)])})\n",
      "Training until validation scores don't improve for 20 rounds\n",
      "[20]\ttraining's binary_logloss: 0.0691152\tvalid_1's binary_logloss: 0.0798205\n",
      "[40]\ttraining's binary_logloss: 0.0374963\tvalid_1's binary_logloss: 0.0623495\n",
      "Early stopping, best iteration is:\n",
      "[39]\ttraining's binary_logloss: 0.0384525\tvalid_1's binary_logloss: 0.0618909\n",
      "best_score defaultdict(<class 'collections.OrderedDict'>, {'training': OrderedDict([('binary_logloss', 0.03845247745480643)]), 'valid_1': OrderedDict([('binary_logloss', 0.06189094433198296)])})\n",
      "Training until validation scores don't improve for 20 rounds\n"
     ]
    },
    {
     "name": "stderr",
     "output_type": "stream",
     "text": [
      "\u001b[32m[I 2021-05-09 16:12:09,201]\u001b[0m Trial 18 finished with value: 0.06041770970180408 and parameters: {'lambda_l1': 0.005305277102439596, 'lambda_l2': 4.3680813423669813e-07, 'num_leaves': 56, 'feature_fraction': 0.534861054538176, 'bagging_fraction': 0.40692077835070667, 'bagging_freq': 6, 'min_child_samples': 47, 'max_depth': 6}. Best is trial 10 with value: 0.0599211266953847.\u001b[0m\n"
     ]
    },
    {
     "name": "stdout",
     "output_type": "stream",
     "text": [
      "[20]\ttraining's binary_logloss: 0.0655712\tvalid_1's binary_logloss: 0.09267\n",
      "[40]\ttraining's binary_logloss: 0.0381836\tvalid_1's binary_logloss: 0.0820752\n",
      "Early stopping, best iteration is:\n",
      "[32]\ttraining's binary_logloss: 0.0459427\tvalid_1's binary_logloss: 0.0818218\n",
      "best_score defaultdict(<class 'collections.OrderedDict'>, {'training': OrderedDict([('binary_logloss', 0.04594269828314388)]), 'valid_1': OrderedDict([('binary_logloss', 0.08182182754690204)])})\n",
      "Training until validation scores don't improve for 20 rounds\n",
      "[20]\ttraining's binary_logloss: 0.0531564\tvalid_1's binary_logloss: 0.0635859\n",
      "[40]\ttraining's binary_logloss: 0.0158476\tvalid_1's binary_logloss: 0.0483177\n",
      "[60]\ttraining's binary_logloss: 0.00525338\tvalid_1's binary_logloss: 0.0515214\n",
      "Early stopping, best iteration is:\n",
      "[41]\ttraining's binary_logloss: 0.0149403\tvalid_1's binary_logloss: 0.0481217\n",
      "best_score defaultdict(<class 'collections.OrderedDict'>, {'training': OrderedDict([('binary_logloss', 0.014940272425662449)]), 'valid_1': OrderedDict([('binary_logloss', 0.04812171554024856)])})\n",
      "Training until validation scores don't improve for 20 rounds\n",
      "[20]\ttraining's binary_logloss: 0.052318\tvalid_1's binary_logloss: 0.0675083\n",
      "[40]\ttraining's binary_logloss: 0.0162839\tvalid_1's binary_logloss: 0.0500283\n",
      "Early stopping, best iteration is:\n",
      "[39]\ttraining's binary_logloss: 0.0172898\tvalid_1's binary_logloss: 0.0497607\n",
      "best_score defaultdict(<class 'collections.OrderedDict'>, {'training': OrderedDict([('binary_logloss', 0.01728976829467802)]), 'valid_1': OrderedDict([('binary_logloss', 0.04976071505393456)])})\n",
      "Training until validation scores don't improve for 20 rounds\n",
      "[20]\ttraining's binary_logloss: 0.0500116\tvalid_1's binary_logloss: 0.0790754\n",
      "[40]\ttraining's binary_logloss: 0.0164844\tvalid_1's binary_logloss: 0.0684344\n",
      "Early stopping, best iteration is:\n",
      "[37]\ttraining's binary_logloss: 0.0193701\tvalid_1's binary_logloss: 0.0676091\n",
      "best_score defaultdict(<class 'collections.OrderedDict'>, {'training': OrderedDict([('binary_logloss', 0.019370131710748015)]), 'valid_1': OrderedDict([('binary_logloss', 0.06760910955464962)])})\n",
      "Training until validation scores don't improve for 20 rounds\n",
      "[20]\ttraining's binary_logloss: 0.0527478\tvalid_1's binary_logloss: 0.0778064\n",
      "[40]\ttraining's binary_logloss: 0.0160078\tvalid_1's binary_logloss: 0.0684087\n",
      "[60]\ttraining's binary_logloss: 0.00526834\tvalid_1's binary_logloss: 0.0749241\n",
      "Early stopping, best iteration is:\n",
      "[40]\ttraining's binary_logloss: 0.0160078\tvalid_1's binary_logloss: 0.0684087\n",
      "best_score defaultdict(<class 'collections.OrderedDict'>, {'training': OrderedDict([('binary_logloss', 0.01600775125434466)]), 'valid_1': OrderedDict([('binary_logloss', 0.0684087482026522)])})\n",
      "Training until validation scores don't improve for 20 rounds\n"
     ]
    },
    {
     "name": "stderr",
     "output_type": "stream",
     "text": [
      "\u001b[32m[I 2021-05-09 16:12:10,150]\u001b[0m Trial 19 finished with value: 0.06189521819145477 and parameters: {'lambda_l1': 0.003789209663570481, 'lambda_l2': 9.704322959082797e-08, 'num_leaves': 54, 'feature_fraction': 0.7946380027876847, 'bagging_fraction': 0.8342296062370663, 'bagging_freq': 4, 'min_child_samples': 37, 'max_depth': 11}. Best is trial 10 with value: 0.0599211266953847.\u001b[0m\n"
     ]
    },
    {
     "name": "stdout",
     "output_type": "stream",
     "text": [
      "[20]\ttraining's binary_logloss: 0.050611\tvalid_1's binary_logloss: 0.0893949\n",
      "[40]\ttraining's binary_logloss: 0.0168122\tvalid_1's binary_logloss: 0.0779546\n",
      "Early stopping, best iteration is:\n",
      "[36]\ttraining's binary_logloss: 0.0212695\tvalid_1's binary_logloss: 0.0755758\n",
      "best_score defaultdict(<class 'collections.OrderedDict'>, {'training': OrderedDict([('binary_logloss', 0.021269480771854275)]), 'valid_1': OrderedDict([('binary_logloss', 0.07557580260578896)])})\n",
      "Training until validation scores don't improve for 20 rounds\n",
      "[20]\ttraining's binary_logloss: 0.094589\tvalid_1's binary_logloss: 0.086589\n",
      "[40]\ttraining's binary_logloss: 0.0757455\tvalid_1's binary_logloss: 0.068049\n",
      "[60]\ttraining's binary_logloss: 0.070159\tvalid_1's binary_logloss: 0.0633247\n",
      "[80]\ttraining's binary_logloss: 0.068037\tvalid_1's binary_logloss: 0.0620768\n",
      "[100]\ttraining's binary_logloss: 0.0668753\tvalid_1's binary_logloss: 0.0613184\n",
      "[120]\ttraining's binary_logloss: 0.0660439\tvalid_1's binary_logloss: 0.0613022\n",
      "[140]\ttraining's binary_logloss: 0.0653779\tvalid_1's binary_logloss: 0.0608269\n",
      "[160]\ttraining's binary_logloss: 0.0650061\tvalid_1's binary_logloss: 0.0605758\n",
      "[180]\ttraining's binary_logloss: 0.0647372\tvalid_1's binary_logloss: 0.0604301\n",
      "[200]\ttraining's binary_logloss: 0.0644436\tvalid_1's binary_logloss: 0.0602512\n",
      "[220]\ttraining's binary_logloss: 0.0640337\tvalid_1's binary_logloss: 0.0599885\n",
      "[240]\ttraining's binary_logloss: 0.0636839\tvalid_1's binary_logloss: 0.0597388\n",
      "[260]\ttraining's binary_logloss: 0.0633331\tvalid_1's binary_logloss: 0.0593506\n",
      "[280]\ttraining's binary_logloss: 0.0632515\tvalid_1's binary_logloss: 0.0592654\n",
      "[300]\ttraining's binary_logloss: 0.0629869\tvalid_1's binary_logloss: 0.0588334\n",
      "[320]\ttraining's binary_logloss: 0.0624036\tvalid_1's binary_logloss: 0.0587549\n",
      "[340]\ttraining's binary_logloss: 0.0620548\tvalid_1's binary_logloss: 0.0584011\n",
      "[360]\ttraining's binary_logloss: 0.0619017\tvalid_1's binary_logloss: 0.0584055\n",
      "Early stopping, best iteration is:\n",
      "[351]\ttraining's binary_logloss: 0.0619528\tvalid_1's binary_logloss: 0.058392\n",
      "best_score defaultdict(<class 'collections.OrderedDict'>, {'training': OrderedDict([('binary_logloss', 0.06195281919878288)]), 'valid_1': OrderedDict([('binary_logloss', 0.058391953541819905)])})\n",
      "Training until validation scores don't improve for 20 rounds\n",
      "[20]\ttraining's binary_logloss: 0.0963664\tvalid_1's binary_logloss: 0.0884923\n",
      "[40]\ttraining's binary_logloss: 0.0769678\tvalid_1's binary_logloss: 0.067059\n",
      "[60]\ttraining's binary_logloss: 0.0717208\tvalid_1's binary_logloss: 0.0613844\n",
      "[80]\ttraining's binary_logloss: 0.0699016\tvalid_1's binary_logloss: 0.0587488\n",
      "[100]\ttraining's binary_logloss: 0.0688513\tvalid_1's binary_logloss: 0.0572372\n",
      "[120]\ttraining's binary_logloss: 0.0679833\tvalid_1's binary_logloss: 0.0565663\n",
      "[140]\ttraining's binary_logloss: 0.0677012\tvalid_1's binary_logloss: 0.0562972\n",
      "[160]\ttraining's binary_logloss: 0.0672038\tvalid_1's binary_logloss: 0.0559288\n",
      "[180]\ttraining's binary_logloss: 0.0668585\tvalid_1's binary_logloss: 0.0554868\n",
      "[200]\ttraining's binary_logloss: 0.0664101\tvalid_1's binary_logloss: 0.0548383\n",
      "[220]\ttraining's binary_logloss: 0.066209\tvalid_1's binary_logloss: 0.054491\n",
      "[240]\ttraining's binary_logloss: 0.065758\tvalid_1's binary_logloss: 0.0540706\n",
      "[260]\ttraining's binary_logloss: 0.0654472\tvalid_1's binary_logloss: 0.0540592\n",
      "Early stopping, best iteration is:\n",
      "[242]\ttraining's binary_logloss: 0.0656915\tvalid_1's binary_logloss: 0.0539369\n",
      "best_score defaultdict(<class 'collections.OrderedDict'>, {'training': OrderedDict([('binary_logloss', 0.06569146764873765)]), 'valid_1': OrderedDict([('binary_logloss', 0.05393694962669071)])})\n",
      "Training until validation scores don't improve for 20 rounds\n",
      "[20]\ttraining's binary_logloss: 0.0900613\tvalid_1's binary_logloss: 0.103249\n",
      "[40]\ttraining's binary_logloss: 0.0703517\tvalid_1's binary_logloss: 0.0848495\n",
      "[60]\ttraining's binary_logloss: 0.0652984\tvalid_1's binary_logloss: 0.0809352\n",
      "[80]\ttraining's binary_logloss: 0.0634153\tvalid_1's binary_logloss: 0.0797186\n",
      "[100]\ttraining's binary_logloss: 0.0625027\tvalid_1's binary_logloss: 0.0792501\n",
      "[120]\ttraining's binary_logloss: 0.0618334\tvalid_1's binary_logloss: 0.0787132\n",
      "[140]\ttraining's binary_logloss: 0.0615183\tvalid_1's binary_logloss: 0.078472\n",
      "[160]\ttraining's binary_logloss: 0.061025\tvalid_1's binary_logloss: 0.0780685\n",
      "[180]\ttraining's binary_logloss: 0.0607682\tvalid_1's binary_logloss: 0.0779784\n",
      "[200]\ttraining's binary_logloss: 0.060354\tvalid_1's binary_logloss: 0.077762\n",
      "[220]\ttraining's binary_logloss: 0.0601715\tvalid_1's binary_logloss: 0.0777909\n",
      "Early stopping, best iteration is:\n",
      "[209]\ttraining's binary_logloss: 0.0603042\tvalid_1's binary_logloss: 0.0776915\n",
      "best_score defaultdict(<class 'collections.OrderedDict'>, {'training': OrderedDict([('binary_logloss', 0.06030421972424167)]), 'valid_1': OrderedDict([('binary_logloss', 0.07769150621628369)])})\n",
      "Training until validation scores don't improve for 20 rounds\n",
      "[20]\ttraining's binary_logloss: 0.0946435\tvalid_1's binary_logloss: 0.0905915\n",
      "[40]\ttraining's binary_logloss: 0.0751642\tvalid_1's binary_logloss: 0.0735307\n",
      "[60]\ttraining's binary_logloss: 0.0691313\tvalid_1's binary_logloss: 0.0691739\n",
      "[80]\ttraining's binary_logloss: 0.0666567\tvalid_1's binary_logloss: 0.0678391\n",
      "[100]\ttraining's binary_logloss: 0.065304\tvalid_1's binary_logloss: 0.0669954\n",
      "[120]\ttraining's binary_logloss: 0.0642883\tvalid_1's binary_logloss: 0.066711\n",
      "[140]\ttraining's binary_logloss: 0.0638862\tvalid_1's binary_logloss: 0.0664828\n",
      "[160]\ttraining's binary_logloss: 0.0636318\tvalid_1's binary_logloss: 0.0663079\n"
     ]
    },
    {
     "name": "stderr",
     "output_type": "stream",
     "text": [
      "\u001b[32m[I 2021-05-09 16:12:10,862]\u001b[0m Trial 20 finished with value: 0.06789246583338539 and parameters: {'lambda_l1': 9.73937950642874, 'lambda_l2': 2.9265348538739113e-08, 'num_leaves': 2, 'feature_fraction': 0.5942609578451848, 'bagging_fraction': 0.6633724457556189, 'bagging_freq': 6, 'min_child_samples': 48, 'max_depth': 6}. Best is trial 10 with value: 0.0599211266953847.\u001b[0m\n"
     ]
    },
    {
     "name": "stdout",
     "output_type": "stream",
     "text": [
      "[180]\ttraining's binary_logloss: 0.0632926\tvalid_1's binary_logloss: 0.0662091\n",
      "[200]\ttraining's binary_logloss: 0.0630382\tvalid_1's binary_logloss: 0.0660718\n",
      "[220]\ttraining's binary_logloss: 0.0627098\tvalid_1's binary_logloss: 0.0660803\n",
      "Early stopping, best iteration is:\n",
      "[201]\ttraining's binary_logloss: 0.0630323\tvalid_1's binary_logloss: 0.0660617\n",
      "best_score defaultdict(<class 'collections.OrderedDict'>, {'training': OrderedDict([('binary_logloss', 0.0630323387993812)]), 'valid_1': OrderedDict([('binary_logloss', 0.06606174313208509)])})\n",
      "Training until validation scores don't improve for 20 rounds\n",
      "[20]\ttraining's binary_logloss: 0.0900738\tvalid_1's binary_logloss: 0.109787\n",
      "[40]\ttraining's binary_logloss: 0.0700791\tvalid_1's binary_logloss: 0.0922065\n",
      "[60]\ttraining's binary_logloss: 0.0651749\tvalid_1's binary_logloss: 0.0879642\n",
      "[80]\ttraining's binary_logloss: 0.0631234\tvalid_1's binary_logloss: 0.0863552\n",
      "[100]\ttraining's binary_logloss: 0.0615763\tvalid_1's binary_logloss: 0.085343\n",
      "[120]\ttraining's binary_logloss: 0.0606952\tvalid_1's binary_logloss: 0.0843336\n",
      "[140]\ttraining's binary_logloss: 0.0605951\tvalid_1's binary_logloss: 0.0841938\n",
      "[160]\ttraining's binary_logloss: 0.0598876\tvalid_1's binary_logloss: 0.0840088\n",
      "[180]\ttraining's binary_logloss: 0.0595045\tvalid_1's binary_logloss: 0.0837708\n",
      "[200]\ttraining's binary_logloss: 0.0592401\tvalid_1's binary_logloss: 0.0834025\n",
      "Early stopping, best iteration is:\n",
      "[197]\ttraining's binary_logloss: 0.0592619\tvalid_1's binary_logloss: 0.0833802\n",
      "best_score defaultdict(<class 'collections.OrderedDict'>, {'training': OrderedDict([('binary_logloss', 0.05926185940869259)]), 'valid_1': OrderedDict([('binary_logloss', 0.08338017665004756)])})\n",
      "Training until validation scores don't improve for 20 rounds\n",
      "[20]\ttraining's binary_logloss: 0.0745638\tvalid_1's binary_logloss: 0.0717155\n",
      "[40]\ttraining's binary_logloss: 0.045371\tvalid_1's binary_logloss: 0.0526851\n",
      "[60]\ttraining's binary_logloss: 0.0285803\tvalid_1's binary_logloss: 0.0527629\n",
      "[80]\ttraining's binary_logloss: 0.0193466\tvalid_1's binary_logloss: 0.0546696\n",
      "Early stopping, best iteration is:\n",
      "[63]\ttraining's binary_logloss: 0.0266644\tvalid_1's binary_logloss: 0.0519142\n",
      "best_score defaultdict(<class 'collections.OrderedDict'>, {'training': OrderedDict([('binary_logloss', 0.026664407509001793)]), 'valid_1': OrderedDict([('binary_logloss', 0.05191416479327825)])})\n",
      "Training until validation scores don't improve for 20 rounds\n",
      "[20]\ttraining's binary_logloss: 0.0726712\tvalid_1's binary_logloss: 0.0729813\n",
      "[40]\ttraining's binary_logloss: 0.0447173\tvalid_1's binary_logloss: 0.0500753\n",
      "[60]\ttraining's binary_logloss: 0.0266482\tvalid_1's binary_logloss: 0.0535154\n",
      "Early stopping, best iteration is:\n",
      "[46]\ttraining's binary_logloss: 0.0388356\tvalid_1's binary_logloss: 0.0494445\n",
      "best_score defaultdict(<class 'collections.OrderedDict'>, {'training': OrderedDict([('binary_logloss', 0.03883560904071577)]), 'valid_1': OrderedDict([('binary_logloss', 0.049444542764136186)])})\n",
      "Training until validation scores don't improve for 20 rounds\n",
      "[20]\ttraining's binary_logloss: 0.0708424\tvalid_1's binary_logloss: 0.0871669\n",
      "[40]\ttraining's binary_logloss: 0.0395365\tvalid_1's binary_logloss: 0.0690379\n",
      "[60]\ttraining's binary_logloss: 0.0250332\tvalid_1's binary_logloss: 0.0662225\n",
      "Early stopping, best iteration is:\n",
      "[58]\ttraining's binary_logloss: 0.0267639\tvalid_1's binary_logloss: 0.0652747\n",
      "best_score defaultdict(<class 'collections.OrderedDict'>, {'training': OrderedDict([('binary_logloss', 0.026763931391699188)]), 'valid_1': OrderedDict([('binary_logloss', 0.06527470476637443)])})\n",
      "Training until validation scores don't improve for 20 rounds\n",
      "[20]\ttraining's binary_logloss: 0.0730124\tvalid_1's binary_logloss: 0.0801835\n",
      "[40]\ttraining's binary_logloss: 0.0420944\tvalid_1's binary_logloss: 0.0651278\n",
      "[60]\ttraining's binary_logloss: 0.0263328\tvalid_1's binary_logloss: 0.0634661\n",
      "Early stopping, best iteration is:\n",
      "[46]\ttraining's binary_logloss: 0.0362421\tvalid_1's binary_logloss: 0.0627746\n",
      "best_score defaultdict(<class 'collections.OrderedDict'>, {'training': OrderedDict([('binary_logloss', 0.036242129356112165)]), 'valid_1': OrderedDict([('binary_logloss', 0.06277456095054601)])})\n"
     ]
    },
    {
     "name": "stderr",
     "output_type": "stream",
     "text": [
      "\u001b[32m[I 2021-05-09 16:12:11,665]\u001b[0m Trial 21 finished with value: 0.06221621256049566 and parameters: {'lambda_l1': 0.010088798066984265, 'lambda_l2': 7.660639718235148e-07, 'num_leaves': 44, 'feature_fraction': 0.5053651807453146, 'bagging_fraction': 0.40909658663193854, 'bagging_freq': 7, 'min_child_samples': 58, 'max_depth': 7}. Best is trial 10 with value: 0.0599211266953847.\u001b[0m\n"
     ]
    },
    {
     "name": "stdout",
     "output_type": "stream",
     "text": [
      "Training until validation scores don't improve for 20 rounds\n",
      "[20]\ttraining's binary_logloss: 0.069439\tvalid_1's binary_logloss: 0.0949583\n",
      "[40]\ttraining's binary_logloss: 0.0403384\tvalid_1's binary_logloss: 0.0828907\n",
      "Early stopping, best iteration is:\n",
      "[35]\ttraining's binary_logloss: 0.0461417\tvalid_1's binary_logloss: 0.0816731\n",
      "best_score defaultdict(<class 'collections.OrderedDict'>, {'training': OrderedDict([('binary_logloss', 0.04614174494987827)]), 'valid_1': OrderedDict([('binary_logloss', 0.0816730895281434)])})\n",
      "Training until validation scores don't improve for 20 rounds\n",
      "[20]\ttraining's binary_logloss: 0.0716681\tvalid_1's binary_logloss: 0.0702157\n",
      "[40]\ttraining's binary_logloss: 0.040425\tvalid_1's binary_logloss: 0.0534517\n",
      "[60]\ttraining's binary_logloss: 0.024627\tvalid_1's binary_logloss: 0.0492677\n",
      "[80]\ttraining's binary_logloss: 0.0148197\tvalid_1's binary_logloss: 0.0487334\n",
      "Early stopping, best iteration is:\n",
      "[63]\ttraining's binary_logloss: 0.0227388\tvalid_1's binary_logloss: 0.0484492\n",
      "best_score defaultdict(<class 'collections.OrderedDict'>, {'training': OrderedDict([('binary_logloss', 0.022738843893817733)]), 'valid_1': OrderedDict([('binary_logloss', 0.04844915700283163)])})\n",
      "Training until validation scores don't improve for 20 rounds\n",
      "[20]\ttraining's binary_logloss: 0.0694798\tvalid_1's binary_logloss: 0.0687714\n",
      "[40]\ttraining's binary_logloss: 0.0403794\tvalid_1's binary_logloss: 0.0512376\n",
      "[60]\ttraining's binary_logloss: 0.0256175\tvalid_1's binary_logloss: 0.0525848\n",
      "Early stopping, best iteration is:\n",
      "[47]\ttraining's binary_logloss: 0.0349017\tvalid_1's binary_logloss: 0.0508844\n",
      "best_score defaultdict(<class 'collections.OrderedDict'>, {'training': OrderedDict([('binary_logloss', 0.034901746763929625)]), 'valid_1': OrderedDict([('binary_logloss', 0.05088444164498065)])})\n",
      "Training until validation scores don't improve for 20 rounds\n",
      "[20]\ttraining's binary_logloss: 0.0675012\tvalid_1's binary_logloss: 0.0848429\n",
      "[40]\ttraining's binary_logloss: 0.0361255\tvalid_1's binary_logloss: 0.0673599\n",
      "[60]\ttraining's binary_logloss: 0.0238842\tvalid_1's binary_logloss: 0.0668353\n",
      "Early stopping, best iteration is:\n",
      "[55]\ttraining's binary_logloss: 0.0257473\tvalid_1's binary_logloss: 0.0655976\n",
      "best_score defaultdict(<class 'collections.OrderedDict'>, {'training': OrderedDict([('binary_logloss', 0.025747332759962105)]), 'valid_1': OrderedDict([('binary_logloss', 0.06559763491676537)])})\n",
      "Training until validation scores don't improve for 20 rounds\n",
      "[20]\ttraining's binary_logloss: 0.0676947\tvalid_1's binary_logloss: 0.0785854\n",
      "[40]\ttraining's binary_logloss: 0.0385944\tvalid_1's binary_logloss: 0.0675913\n",
      "[60]\ttraining's binary_logloss: 0.0247174\tvalid_1's binary_logloss: 0.0701039\n",
      "Early stopping, best iteration is:\n",
      "[43]\ttraining's binary_logloss: 0.0367838\tvalid_1's binary_logloss: 0.0675066\n",
      "best_score defaultdict(<class 'collections.OrderedDict'>, {'training': OrderedDict([('binary_logloss', 0.036783771038760286)]), 'valid_1': OrderedDict([('binary_logloss', 0.06750655340192357)])})\n",
      "Training until validation scores don't improve for 20 rounds\n",
      "[20]\ttraining's binary_logloss: 0.0653075\tvalid_1's binary_logloss: 0.0939187\n"
     ]
    },
    {
     "name": "stderr",
     "output_type": "stream",
     "text": [
      "\u001b[32m[I 2021-05-09 16:12:12,334]\u001b[0m Trial 22 finished with value: 0.06324502500237039 and parameters: {'lambda_l1': 1.86024516352072e-05, 'lambda_l2': 7.927622631299296e-07, 'num_leaves': 58, 'feature_fraction': 0.40239233031141275, 'bagging_fraction': 0.42971283459539844, 'bagging_freq': 6, 'min_child_samples': 39, 'max_depth': 5}. Best is trial 10 with value: 0.0599211266953847.\u001b[0m\n"
     ]
    },
    {
     "name": "stdout",
     "output_type": "stream",
     "text": [
      "[40]\ttraining's binary_logloss: 0.0381509\tvalid_1's binary_logloss: 0.0879008\n",
      "[60]\ttraining's binary_logloss: 0.0254189\tvalid_1's binary_logloss: 0.0882241\n",
      "[80]\ttraining's binary_logloss: 0.0142621\tvalid_1's binary_logloss: 0.0848008\n",
      "Early stopping, best iteration is:\n",
      "[77]\ttraining's binary_logloss: 0.0156173\tvalid_1's binary_logloss: 0.0837873\n",
      "best_score defaultdict(<class 'collections.OrderedDict'>, {'training': OrderedDict([('binary_logloss', 0.01561730033882248)]), 'valid_1': OrderedDict([('binary_logloss', 0.08378733804535071)])})\n",
      "Training until validation scores don't improve for 20 rounds\n",
      "[20]\ttraining's binary_logloss: 0.0797135\tvalid_1's binary_logloss: 0.0748755\n",
      "[40]\ttraining's binary_logloss: 0.0500105\tvalid_1's binary_logloss: 0.054579\n",
      "[60]\ttraining's binary_logloss: 0.0345774\tvalid_1's binary_logloss: 0.0498118\n",
      "[80]\ttraining's binary_logloss: 0.0238885\tvalid_1's binary_logloss: 0.0471856\n",
      "[100]\ttraining's binary_logloss: 0.0173879\tvalid_1's binary_logloss: 0.0476656\n",
      "Early stopping, best iteration is:\n",
      "[81]\ttraining's binary_logloss: 0.0235523\tvalid_1's binary_logloss: 0.0470705\n",
      "best_score defaultdict(<class 'collections.OrderedDict'>, {'training': OrderedDict([('binary_logloss', 0.023552250583847727)]), 'valid_1': OrderedDict([('binary_logloss', 0.04707054663677251)])})\n",
      "Training until validation scores don't improve for 20 rounds\n",
      "[20]\ttraining's binary_logloss: 0.0782248\tvalid_1's binary_logloss: 0.0751587\n",
      "[40]\ttraining's binary_logloss: 0.0520484\tvalid_1's binary_logloss: 0.0524491\n",
      "[60]\ttraining's binary_logloss: 0.0333811\tvalid_1's binary_logloss: 0.0488617\n",
      "[80]\ttraining's binary_logloss: 0.0242354\tvalid_1's binary_logloss: 0.0445844\n",
      "Early stopping, best iteration is:\n",
      "[76]\ttraining's binary_logloss: 0.0259797\tvalid_1's binary_logloss: 0.0437195\n",
      "best_score defaultdict(<class 'collections.OrderedDict'>, {'training': OrderedDict([('binary_logloss', 0.02597972187747291)]), 'valid_1': OrderedDict([('binary_logloss', 0.043719493648308204)])})\n",
      "Training until validation scores don't improve for 20 rounds\n",
      "[20]\ttraining's binary_logloss: 0.0753096\tvalid_1's binary_logloss: 0.0917864\n",
      "[40]\ttraining's binary_logloss: 0.0459249\tvalid_1's binary_logloss: 0.0713452\n",
      "[60]\ttraining's binary_logloss: 0.0324155\tvalid_1's binary_logloss: 0.0674775\n",
      "[80]\ttraining's binary_logloss: 0.0245882\tvalid_1's binary_logloss: 0.0665713\n",
      "[100]\ttraining's binary_logloss: 0.0175598\tvalid_1's binary_logloss: 0.0673845\n",
      "Early stopping, best iteration is:\n",
      "[93]\ttraining's binary_logloss: 0.0192491\tvalid_1's binary_logloss: 0.0657621\n",
      "best_score defaultdict(<class 'collections.OrderedDict'>, {'training': OrderedDict([('binary_logloss', 0.01924913622554451)]), 'valid_1': OrderedDict([('binary_logloss', 0.06576210247064943)])})\n",
      "Training until validation scores don't improve for 20 rounds\n",
      "[20]\ttraining's binary_logloss: 0.076936\tvalid_1's binary_logloss: 0.0810722\n",
      "[40]\ttraining's binary_logloss: 0.0469424\tvalid_1's binary_logloss: 0.0653734\n",
      "[60]\ttraining's binary_logloss: 0.0320858\tvalid_1's binary_logloss: 0.0645118\n",
      "Early stopping, best iteration is:\n",
      "[55]\ttraining's binary_logloss: 0.0363553\tvalid_1's binary_logloss: 0.0633827\n"
     ]
    },
    {
     "name": "stderr",
     "output_type": "stream",
     "text": [
      "\u001b[32m[I 2021-05-09 16:12:12,997]\u001b[0m Trial 23 finished with value: 0.060627475238761754 and parameters: {'lambda_l1': 0.7369384512952254, 'lambda_l2': 1.0241346650003145e-05, 'num_leaves': 75, 'feature_fraction': 0.5408816768250956, 'bagging_fraction': 0.5410251085131459, 'bagging_freq': 7, 'min_child_samples': 99, 'max_depth': 8}. Best is trial 10 with value: 0.0599211266953847.\u001b[0m\n"
     ]
    },
    {
     "name": "stdout",
     "output_type": "stream",
     "text": [
      "best_score defaultdict(<class 'collections.OrderedDict'>, {'training': OrderedDict([('binary_logloss', 0.036355320996011485)]), 'valid_1': OrderedDict([('binary_logloss', 0.06338272576120269)])})\n",
      "Training until validation scores don't improve for 20 rounds\n",
      "[20]\ttraining's binary_logloss: 0.0731358\tvalid_1's binary_logloss: 0.0968854\n",
      "[40]\ttraining's binary_logloss: 0.046645\tvalid_1's binary_logloss: 0.0841269\n",
      "Early stopping, best iteration is:\n",
      "[38]\ttraining's binary_logloss: 0.0482276\tvalid_1's binary_logloss: 0.0832025\n",
      "best_score defaultdict(<class 'collections.OrderedDict'>, {'training': OrderedDict([('binary_logloss', 0.048227566162420306)]), 'valid_1': OrderedDict([('binary_logloss', 0.08320250767687594)])})\n",
      "Training until validation scores don't improve for 20 rounds\n",
      "[20]\ttraining's binary_logloss: 0.0755819\tvalid_1's binary_logloss: 0.0728157\n",
      "[40]\ttraining's binary_logloss: 0.0461423\tvalid_1's binary_logloss: 0.0546877\n",
      "[60]\ttraining's binary_logloss: 0.0311447\tvalid_1's binary_logloss: 0.0539089\n",
      "Early stopping, best iteration is:\n",
      "[53]\ttraining's binary_logloss: 0.0348938\tvalid_1's binary_logloss: 0.0512149\n",
      "best_score defaultdict(<class 'collections.OrderedDict'>, {'training': OrderedDict([('binary_logloss', 0.03489379463745979)]), 'valid_1': OrderedDict([('binary_logloss', 0.05121491447136182)])})\n",
      "Training until validation scores don't improve for 20 rounds\n",
      "[20]\ttraining's binary_logloss: 0.0740064\tvalid_1's binary_logloss: 0.0685096\n",
      "[40]\ttraining's binary_logloss: 0.0451522\tvalid_1's binary_logloss: 0.0504218\n",
      "[60]\ttraining's binary_logloss: 0.0286195\tvalid_1's binary_logloss: 0.0477856\n",
      "Early stopping, best iteration is:\n",
      "[54]\ttraining's binary_logloss: 0.0336016\tvalid_1's binary_logloss: 0.0459093\n",
      "best_score defaultdict(<class 'collections.OrderedDict'>, {'training': OrderedDict([('binary_logloss', 0.033601632369445904)]), 'valid_1': OrderedDict([('binary_logloss', 0.045909338996384844)])})\n",
      "Training until validation scores don't improve for 20 rounds\n",
      "[20]\ttraining's binary_logloss: 0.0701318\tvalid_1's binary_logloss: 0.08425\n",
      "[40]\ttraining's binary_logloss: 0.0422944\tvalid_1's binary_logloss: 0.0689251\n",
      "[60]\ttraining's binary_logloss: 0.0291898\tvalid_1's binary_logloss: 0.0699441\n",
      "Early stopping, best iteration is:\n",
      "[56]\ttraining's binary_logloss: 0.0307226\tvalid_1's binary_logloss: 0.0662178\n",
      "best_score defaultdict(<class 'collections.OrderedDict'>, {'training': OrderedDict([('binary_logloss', 0.030722614143929475)]), 'valid_1': OrderedDict([('binary_logloss', 0.0662178372731376)])})\n",
      "Training until validation scores don't improve for 20 rounds\n",
      "[20]\ttraining's binary_logloss: 0.0722596\tvalid_1's binary_logloss: 0.07882\n",
      "[40]\ttraining's binary_logloss: 0.0435477\tvalid_1's binary_logloss: 0.067196\n",
      "[60]\ttraining's binary_logloss: 0.0285521\tvalid_1's binary_logloss: 0.067736\n",
      "Early stopping, best iteration is:\n",
      "[53]\ttraining's binary_logloss: 0.0310189\tvalid_1's binary_logloss: 0.0636795\n",
      "best_score defaultdict(<class 'collections.OrderedDict'>, {'training': OrderedDict([('binary_logloss', 0.03101887103148442)]), 'valid_1': OrderedDict([('binary_logloss', 0.06367950188897434)])})\n"
     ]
    },
    {
     "name": "stderr",
     "output_type": "stream",
     "text": [
      "\u001b[32m[I 2021-05-09 16:12:13,686]\u001b[0m Trial 24 finished with value: 0.06137691599267083 and parameters: {'lambda_l1': 0.008577654107839117, 'lambda_l2': 2.1710177690715825e-07, 'num_leaves': 61, 'feature_fraction': 0.6446612536550301, 'bagging_fraction': 0.41363236333121184, 'bagging_freq': 5, 'min_child_samples': 71, 'max_depth': 6}. Best is trial 10 with value: 0.0599211266953847.\u001b[0m\n"
     ]
    },
    {
     "name": "stdout",
     "output_type": "stream",
     "text": [
      "Training until validation scores don't improve for 20 rounds\n",
      "[20]\ttraining's binary_logloss: 0.0706686\tvalid_1's binary_logloss: 0.0951047\n",
      "[40]\ttraining's binary_logloss: 0.0450062\tvalid_1's binary_logloss: 0.0868777\n",
      "[60]\ttraining's binary_logloss: 0.0287334\tvalid_1's binary_logloss: 0.0835286\n",
      "[80]\ttraining's binary_logloss: 0.0209466\tvalid_1's binary_logloss: 0.087947\n",
      "Early stopping, best iteration is:\n",
      "[67]\ttraining's binary_logloss: 0.0244867\tvalid_1's binary_logloss: 0.079863\n",
      "best_score defaultdict(<class 'collections.OrderedDict'>, {'training': OrderedDict([('binary_logloss', 0.024486725104926818)]), 'valid_1': OrderedDict([('binary_logloss', 0.07986298733349559)])})\n",
      "Training until validation scores don't improve for 20 rounds\n",
      "[20]\ttraining's binary_logloss: 0.0763081\tvalid_1's binary_logloss: 0.0713515\n",
      "[40]\ttraining's binary_logloss: 0.0458991\tvalid_1's binary_logloss: 0.0533772\n",
      "[60]\ttraining's binary_logloss: 0.0268995\tvalid_1's binary_logloss: 0.0500975\n",
      "[80]\ttraining's binary_logloss: 0.0173082\tvalid_1's binary_logloss: 0.0503842\n",
      "Early stopping, best iteration is:\n",
      "[69]\ttraining's binary_logloss: 0.0222006\tvalid_1's binary_logloss: 0.0484617\n",
      "best_score defaultdict(<class 'collections.OrderedDict'>, {'training': OrderedDict([('binary_logloss', 0.022200568816619155)]), 'valid_1': OrderedDict([('binary_logloss', 0.04846174511668607)])})\n",
      "Training until validation scores don't improve for 20 rounds\n",
      "[20]\ttraining's binary_logloss: 0.0749\tvalid_1's binary_logloss: 0.0719529\n",
      "[40]\ttraining's binary_logloss: 0.0455643\tvalid_1's binary_logloss: 0.0505666\n",
      "[60]\ttraining's binary_logloss: 0.0275289\tvalid_1's binary_logloss: 0.047257\n",
      "[80]\ttraining's binary_logloss: 0.0178211\tvalid_1's binary_logloss: 0.048333\n",
      "Early stopping, best iteration is:\n",
      "[65]\ttraining's binary_logloss: 0.0242396\tvalid_1's binary_logloss: 0.045706\n",
      "best_score defaultdict(<class 'collections.OrderedDict'>, {'training': OrderedDict([('binary_logloss', 0.024239553793691047)]), 'valid_1': OrderedDict([('binary_logloss', 0.04570596706297358)])})\n",
      "Training until validation scores don't improve for 20 rounds\n",
      "[20]\ttraining's binary_logloss: 0.0713354\tvalid_1's binary_logloss: 0.087901\n",
      "[40]\ttraining's binary_logloss: 0.0407864\tvalid_1's binary_logloss: 0.0695828\n",
      "[60]\ttraining's binary_logloss: 0.0271825\tvalid_1's binary_logloss: 0.0707321\n",
      "Early stopping, best iteration is:\n",
      "[49]\ttraining's binary_logloss: 0.0338745\tvalid_1's binary_logloss: 0.0676976\n",
      "best_score defaultdict(<class 'collections.OrderedDict'>, {'training': OrderedDict([('binary_logloss', 0.03387446410018306)]), 'valid_1': OrderedDict([('binary_logloss', 0.06769762266687211)])})\n",
      "Training until validation scores don't improve for 20 rounds\n",
      "[20]\ttraining's binary_logloss: 0.0741521\tvalid_1's binary_logloss: 0.0814711\n",
      "[40]\ttraining's binary_logloss: 0.0437405\tvalid_1's binary_logloss: 0.0670428\n"
     ]
    },
    {
     "name": "stderr",
     "output_type": "stream",
     "text": [
      "\u001b[32m[I 2021-05-09 16:12:14,354]\u001b[0m Trial 25 finished with value: 0.06192036250786197 and parameters: {'lambda_l1': 0.22644415104153892, 'lambda_l2': 1.2017432555911966e-08, 'num_leaves': 82, 'feature_fraction': 0.5678229220196189, 'bagging_fraction': 0.5051529789942145, 'bagging_freq': 6, 'min_child_samples': 82, 'max_depth': 9}. Best is trial 10 with value: 0.0599211266953847.\u001b[0m\n"
     ]
    },
    {
     "name": "stdout",
     "output_type": "stream",
     "text": [
      "[60]\ttraining's binary_logloss: 0.0267948\tvalid_1's binary_logloss: 0.0684536\n",
      "Early stopping, best iteration is:\n",
      "[45]\ttraining's binary_logloss: 0.03981\tvalid_1's binary_logloss: 0.0659145\n",
      "best_score defaultdict(<class 'collections.OrderedDict'>, {'training': OrderedDict([('binary_logloss', 0.039809955545281446)]), 'valid_1': OrderedDict([('binary_logloss', 0.06591450035820969)])})\n",
      "Training until validation scores don't improve for 20 rounds\n",
      "[20]\ttraining's binary_logloss: 0.0714388\tvalid_1's binary_logloss: 0.0948827\n",
      "[40]\ttraining's binary_logloss: 0.0430779\tvalid_1's binary_logloss: 0.0822657\n",
      "Early stopping, best iteration is:\n",
      "[34]\ttraining's binary_logloss: 0.049166\tvalid_1's binary_logloss: 0.081822\n",
      "best_score defaultdict(<class 'collections.OrderedDict'>, {'training': OrderedDict([('binary_logloss', 0.04916599117934574)]), 'valid_1': OrderedDict([('binary_logloss', 0.0818219773345684)])})\n",
      "Training until validation scores don't improve for 20 rounds\n",
      "[20]\ttraining's binary_logloss: 0.0588646\tvalid_1's binary_logloss: 0.0682079\n",
      "[40]\ttraining's binary_logloss: 0.0210725\tvalid_1's binary_logloss: 0.0541686\n",
      "[60]\ttraining's binary_logloss: 0.00933461\tvalid_1's binary_logloss: 0.0550896\n",
      "Early stopping, best iteration is:\n",
      "[40]\ttraining's binary_logloss: 0.0210725\tvalid_1's binary_logloss: 0.0541686\n",
      "best_score defaultdict(<class 'collections.OrderedDict'>, {'training': OrderedDict([('binary_logloss', 0.021072459588071028)]), 'valid_1': OrderedDict([('binary_logloss', 0.05416855335247822)])})\n",
      "Training until validation scores don't improve for 20 rounds\n",
      "[20]\ttraining's binary_logloss: 0.0564639\tvalid_1's binary_logloss: 0.0677745\n",
      "[40]\ttraining's binary_logloss: 0.0206548\tvalid_1's binary_logloss: 0.0514719\n",
      "[60]\ttraining's binary_logloss: 0.00904565\tvalid_1's binary_logloss: 0.0516932\n",
      "Early stopping, best iteration is:\n",
      "[57]\ttraining's binary_logloss: 0.0103145\tvalid_1's binary_logloss: 0.049809\n",
      "best_score defaultdict(<class 'collections.OrderedDict'>, {'training': OrderedDict([('binary_logloss', 0.01031453209159121)]), 'valid_1': OrderedDict([('binary_logloss', 0.049809001297248794)])})\n",
      "Training until validation scores don't improve for 20 rounds\n",
      "[20]\ttraining's binary_logloss: 0.0542196\tvalid_1's binary_logloss: 0.0819332\n",
      "[40]\ttraining's binary_logloss: 0.0203731\tvalid_1's binary_logloss: 0.0680791\n",
      "Early stopping, best iteration is:\n",
      "[36]\ttraining's binary_logloss: 0.0238562\tvalid_1's binary_logloss: 0.0674059\n",
      "best_score defaultdict(<class 'collections.OrderedDict'>, {'training': OrderedDict([('binary_logloss', 0.02385619606094011)]), 'valid_1': OrderedDict([('binary_logloss', 0.06740593779635556)])})\n",
      "Training until validation scores don't improve for 20 rounds\n",
      "[20]\ttraining's binary_logloss: 0.0562068\tvalid_1's binary_logloss: 0.0776392\n",
      "[40]\ttraining's binary_logloss: 0.0201411\tvalid_1's binary_logloss: 0.0656202\n",
      "Early stopping, best iteration is:\n",
      "[36]\ttraining's binary_logloss: 0.0247038\tvalid_1's binary_logloss: 0.0651273\n",
      "best_score defaultdict(<class 'collections.OrderedDict'>, {'training': OrderedDict([('binary_logloss', 0.02470381418951265)]), 'valid_1': OrderedDict([('binary_logloss', 0.06512728879218055)])})\n",
      "Training until validation scores don't improve for 20 rounds\n",
      "[20]\ttraining's binary_logloss: 0.0565945\tvalid_1's binary_logloss: 0.090471\n",
      "[40]\ttraining's binary_logloss: 0.0213489\tvalid_1's binary_logloss: 0.0801334\n"
     ]
    },
    {
     "name": "stderr",
     "output_type": "stream",
     "text": [
      "\u001b[32m[I 2021-05-09 16:12:15,173]\u001b[0m Trial 26 finished with value: 0.06332884353726255 and parameters: {'lambda_l1': 0.001819955410853246, 'lambda_l2': 4.3955376239621355e-05, 'num_leaves': 34, 'feature_fraction': 0.4448625978054424, 'bagging_fraction': 0.6778143885048068, 'bagging_freq': 4, 'min_child_samples': 28, 'max_depth': 7}. Best is trial 10 with value: 0.0599211266953847.\u001b[0m\n"
     ]
    },
    {
     "name": "stdout",
     "output_type": "stream",
     "text": [
      "[60]\ttraining's binary_logloss: 0.00942742\tvalid_1's binary_logloss: 0.089006\n",
      "Early stopping, best iteration is:\n",
      "[40]\ttraining's binary_logloss: 0.0213489\tvalid_1's binary_logloss: 0.0801334\n",
      "best_score defaultdict(<class 'collections.OrderedDict'>, {'training': OrderedDict([('binary_logloss', 0.021348858984178768)]), 'valid_1': OrderedDict([('binary_logloss', 0.0801334364480496)])})\n",
      "Training until validation scores don't improve for 20 rounds\n",
      "[20]\ttraining's binary_logloss: 0.0679504\tvalid_1's binary_logloss: 0.069223\n",
      "[40]\ttraining's binary_logloss: 0.0347232\tvalid_1's binary_logloss: 0.0511323\n",
      "[60]\ttraining's binary_logloss: 0.0197156\tvalid_1's binary_logloss: 0.0478032\n",
      "[80]\ttraining's binary_logloss: 0.0113727\tvalid_1's binary_logloss: 0.0520164\n",
      "Early stopping, best iteration is:\n",
      "[64]\ttraining's binary_logloss: 0.017728\tvalid_1's binary_logloss: 0.0476933\n",
      "best_score defaultdict(<class 'collections.OrderedDict'>, {'training': OrderedDict([('binary_logloss', 0.017728028414227246)]), 'valid_1': OrderedDict([('binary_logloss', 0.047693307467182464)])})\n",
      "Training until validation scores don't improve for 20 rounds\n",
      "[20]\ttraining's binary_logloss: 0.0688488\tvalid_1's binary_logloss: 0.069621\n",
      "[40]\ttraining's binary_logloss: 0.0366389\tvalid_1's binary_logloss: 0.0496399\n",
      "[60]\ttraining's binary_logloss: 0.020202\tvalid_1's binary_logloss: 0.0489315\n",
      "Early stopping, best iteration is:\n",
      "[48]\ttraining's binary_logloss: 0.0292695\tvalid_1's binary_logloss: 0.0474387\n",
      "best_score defaultdict(<class 'collections.OrderedDict'>, {'training': OrderedDict([('binary_logloss', 0.02926946883951398)]), 'valid_1': OrderedDict([('binary_logloss', 0.047438705695290184)])})\n",
      "Training until validation scores don't improve for 20 rounds\n",
      "[20]\ttraining's binary_logloss: 0.0650431\tvalid_1's binary_logloss: 0.0844345\n",
      "[40]\ttraining's binary_logloss: 0.0335749\tvalid_1's binary_logloss: 0.0656602\n",
      "[60]\ttraining's binary_logloss: 0.0189604\tvalid_1's binary_logloss: 0.0650537\n",
      "Early stopping, best iteration is:\n",
      "[58]\ttraining's binary_logloss: 0.0200964\tvalid_1's binary_logloss: 0.0642411\n",
      "best_score defaultdict(<class 'collections.OrderedDict'>, {'training': OrderedDict([('binary_logloss', 0.020096392317674877)]), 'valid_1': OrderedDict([('binary_logloss', 0.0642410944607635)])})\n",
      "Training until validation scores don't improve for 20 rounds\n"
     ]
    },
    {
     "name": "stderr",
     "output_type": "stream",
     "text": [
      "\u001b[32m[I 2021-05-09 16:12:15,780]\u001b[0m Trial 27 finished with value: 0.06070992697016271 and parameters: {'lambda_l1': 0.02335561347267632, 'lambda_l2': 5.890095970215887e-07, 'num_leaves': 45, 'feature_fraction': 0.5083692666594244, 'bagging_fraction': 0.6005336934162303, 'bagging_freq': 7, 'min_child_samples': 46, 'max_depth': 5}. Best is trial 10 with value: 0.0599211266953847.\u001b[0m\n"
     ]
    },
    {
     "name": "stdout",
     "output_type": "stream",
     "text": [
      "[20]\ttraining's binary_logloss: 0.0658114\tvalid_1's binary_logloss: 0.0794842\n",
      "[40]\ttraining's binary_logloss: 0.034368\tvalid_1's binary_logloss: 0.0653947\n",
      "[60]\ttraining's binary_logloss: 0.0192589\tvalid_1's binary_logloss: 0.0685102\n",
      "Early stopping, best iteration is:\n",
      "[49]\ttraining's binary_logloss: 0.027079\tvalid_1's binary_logloss: 0.065112\n",
      "best_score defaultdict(<class 'collections.OrderedDict'>, {'training': OrderedDict([('binary_logloss', 0.027078961328219686)]), 'valid_1': OrderedDict([('binary_logloss', 0.06511196396371018)])})\n",
      "Training until validation scores don't improve for 20 rounds\n",
      "[20]\ttraining's binary_logloss: 0.0626601\tvalid_1's binary_logloss: 0.0933024\n",
      "[40]\ttraining's binary_logloss: 0.0326806\tvalid_1's binary_logloss: 0.0803721\n",
      "Early stopping, best iteration is:\n",
      "[37]\ttraining's binary_logloss: 0.0356933\tvalid_1's binary_logloss: 0.0790646\n",
      "best_score defaultdict(<class 'collections.OrderedDict'>, {'training': OrderedDict([('binary_logloss', 0.035693343118000626)]), 'valid_1': OrderedDict([('binary_logloss', 0.07906456326386721)])})\n",
      "Training until validation scores don't improve for 20 rounds\n",
      "[20]\ttraining's binary_logloss: 0.0638569\tvalid_1's binary_logloss: 0.0665107\n",
      "[40]\ttraining's binary_logloss: 0.0275938\tvalid_1's binary_logloss: 0.0494069\n",
      "[60]\ttraining's binary_logloss: 0.0139939\tvalid_1's binary_logloss: 0.0499388\n",
      "Early stopping, best iteration is:\n",
      "[50]\ttraining's binary_logloss: 0.0198242\tvalid_1's binary_logloss: 0.0478788\n",
      "best_score defaultdict(<class 'collections.OrderedDict'>, {'training': OrderedDict([('binary_logloss', 0.01982419669740012)]), 'valid_1': OrderedDict([('binary_logloss', 0.0478787640955548)])})\n",
      "Training until validation scores don't improve for 20 rounds\n",
      "[20]\ttraining's binary_logloss: 0.0625881\tvalid_1's binary_logloss: 0.0702306\n",
      "[40]\ttraining's binary_logloss: 0.0264653\tvalid_1's binary_logloss: 0.0505117\n",
      "[60]\ttraining's binary_logloss: 0.0131387\tvalid_1's binary_logloss: 0.0499457\n",
      "Early stopping, best iteration is:\n",
      "[51]\ttraining's binary_logloss: 0.0177042\tvalid_1's binary_logloss: 0.0489288\n",
      "best_score defaultdict(<class 'collections.OrderedDict'>, {'training': OrderedDict([('binary_logloss', 0.017704229076884837)]), 'valid_1': OrderedDict([('binary_logloss', 0.04892881340845221)])})\n",
      "Training until validation scores don't improve for 20 rounds\n",
      "[20]\ttraining's binary_logloss: 0.0577538\tvalid_1's binary_logloss: 0.0850555\n",
      "[40]\ttraining's binary_logloss: 0.0241662\tvalid_1's binary_logloss: 0.0677177\n",
      "[60]\ttraining's binary_logloss: 0.0117395\tvalid_1's binary_logloss: 0.0691262\n",
      "Early stopping, best iteration is:\n",
      "[41]\ttraining's binary_logloss: 0.0231767\tvalid_1's binary_logloss: 0.0670391\n",
      "best_score defaultdict(<class 'collections.OrderedDict'>, {'training': OrderedDict([('binary_logloss', 0.02317667834548334)]), 'valid_1': OrderedDict([('binary_logloss', 0.0670391443349321)])})\n",
      "Training until validation scores don't improve for 20 rounds\n"
     ]
    },
    {
     "name": "stderr",
     "output_type": "stream",
     "text": [
      "\u001b[32m[I 2021-05-09 16:12:16,482]\u001b[0m Trial 28 finished with value: 0.06279111826923721 and parameters: {'lambda_l1': 0.11420694683427922, 'lambda_l2': 1.2538519967884296e-06, 'num_leaves': 94, 'feature_fraction': 0.6452824784045639, 'bagging_fraction': 0.9941434398625556, 'bagging_freq': 6, 'min_child_samples': 67, 'max_depth': 6}. Best is trial 10 with value: 0.0599211266953847.\u001b[0m\n"
     ]
    },
    {
     "name": "stdout",
     "output_type": "stream",
     "text": [
      "[20]\ttraining's binary_logloss: 0.0616444\tvalid_1's binary_logloss: 0.0793784\n",
      "[40]\ttraining's binary_logloss: 0.0254081\tvalid_1's binary_logloss: 0.0676959\n",
      "[60]\ttraining's binary_logloss: 0.0123182\tvalid_1's binary_logloss: 0.0689613\n",
      "Early stopping, best iteration is:\n",
      "[45]\ttraining's binary_logloss: 0.0204873\tvalid_1's binary_logloss: 0.0670265\n",
      "best_score defaultdict(<class 'collections.OrderedDict'>, {'training': OrderedDict([('binary_logloss', 0.020487289256540784)]), 'valid_1': OrderedDict([('binary_logloss', 0.06702648095645229)])})\n",
      "Training until validation scores don't improve for 20 rounds\n",
      "[20]\ttraining's binary_logloss: 0.0582638\tvalid_1's binary_logloss: 0.0934601\n",
      "[40]\ttraining's binary_logloss: 0.0238171\tvalid_1's binary_logloss: 0.0835886\n",
      "[60]\ttraining's binary_logloss: 0.011495\tvalid_1's binary_logloss: 0.0868535\n",
      "Early stopping, best iteration is:\n",
      "[48]\ttraining's binary_logloss: 0.0183223\tvalid_1's binary_logloss: 0.0830824\n",
      "best_score defaultdict(<class 'collections.OrderedDict'>, {'training': OrderedDict([('binary_logloss', 0.018322337412286168)]), 'valid_1': OrderedDict([('binary_logloss', 0.08308238855079465)])})\n",
      "Training until validation scores don't improve for 20 rounds\n",
      "[20]\ttraining's binary_logloss: 0.075472\tvalid_1's binary_logloss: 0.0704768\n",
      "[40]\ttraining's binary_logloss: 0.0450556\tvalid_1's binary_logloss: 0.0538273\n",
      "[60]\ttraining's binary_logloss: 0.0304916\tvalid_1's binary_logloss: 0.0527768\n",
      "[80]\ttraining's binary_logloss: 0.02337\tvalid_1's binary_logloss: 0.0520743\n",
      "Early stopping, best iteration is:\n",
      "[73]\ttraining's binary_logloss: 0.0253311\tvalid_1's binary_logloss: 0.0514353\n",
      "best_score defaultdict(<class 'collections.OrderedDict'>, {'training': OrderedDict([('binary_logloss', 0.025331102735578582)]), 'valid_1': OrderedDict([('binary_logloss', 0.05143531051356884)])})\n",
      "Training until validation scores don't improve for 20 rounds\n",
      "[20]\ttraining's binary_logloss: 0.0736466\tvalid_1's binary_logloss: 0.0718607\n",
      "[40]\ttraining's binary_logloss: 0.0441476\tvalid_1's binary_logloss: 0.0517672\n",
      "[60]\ttraining's binary_logloss: 0.0297711\tvalid_1's binary_logloss: 0.0479204\n",
      "[80]\ttraining's binary_logloss: 0.0234131\tvalid_1's binary_logloss: 0.0483477\n",
      "Early stopping, best iteration is:\n",
      "[70]\ttraining's binary_logloss: 0.0262542\tvalid_1's binary_logloss: 0.0472034\n",
      "best_score defaultdict(<class 'collections.OrderedDict'>, {'training': OrderedDict([('binary_logloss', 0.026254179902303162)]), 'valid_1': OrderedDict([('binary_logloss', 0.04720340118614241)])})\n",
      "Training until validation scores don't improve for 20 rounds\n",
      "[20]\ttraining's binary_logloss: 0.0701817\tvalid_1's binary_logloss: 0.0883665\n",
      "[40]\ttraining's binary_logloss: 0.0420888\tvalid_1's binary_logloss: 0.0720069\n",
      "[60]\ttraining's binary_logloss: 0.0291791\tvalid_1's binary_logloss: 0.0701945\n",
      "[80]\ttraining's binary_logloss: 0.0217363\tvalid_1's binary_logloss: 0.0686054\n",
      "[100]\ttraining's binary_logloss: 0.0179677\tvalid_1's binary_logloss: 0.0682511\n",
      "[120]\ttraining's binary_logloss: 0.016038\tvalid_1's binary_logloss: 0.0683343\n",
      "Early stopping, best iteration is:\n",
      "[111]\ttraining's binary_logloss: 0.016745\tvalid_1's binary_logloss: 0.0680111\n",
      "best_score defaultdict(<class 'collections.OrderedDict'>, {'training': OrderedDict([('binary_logloss', 0.01674500205741277)]), 'valid_1': OrderedDict([('binary_logloss', 0.06801108380531463)])})\n",
      "Training until validation scores don't improve for 20 rounds\n",
      "[20]\ttraining's binary_logloss: 0.0727665\tvalid_1's binary_logloss: 0.0809979\n",
      "[40]\ttraining's binary_logloss: 0.0421592\tvalid_1's binary_logloss: 0.0654423\n",
      "[60]\ttraining's binary_logloss: 0.0283848\tvalid_1's binary_logloss: 0.0641164\n",
      "Early stopping, best iteration is:\n",
      "[58]\ttraining's binary_logloss: 0.0295807\tvalid_1's binary_logloss: 0.0638184\n",
      "best_score defaultdict(<class 'collections.OrderedDict'>, {'training': OrderedDict([('binary_logloss', 0.02958065646796263)]), 'valid_1': OrderedDict([('binary_logloss', 0.0638184447587216)])})\n",
      "Training until validation scores don't improve for 20 rounds\n",
      "[20]\ttraining's binary_logloss: 0.0702263\tvalid_1's binary_logloss: 0.0978418\n"
     ]
    },
    {
     "name": "stderr",
     "output_type": "stream",
     "text": [
      "\u001b[32m[I 2021-05-09 16:12:17,255]\u001b[0m Trial 29 finished with value: 0.0616207219196388 and parameters: {'lambda_l1': 2.333095886478458, 'lambda_l2': 2.689142029974687e-06, 'num_leaves': 31, 'feature_fraction': 0.5687677942554944, 'bagging_fraction': 0.7500733801947492, 'bagging_freq': 5, 'min_child_samples': 55, 'max_depth': 9}. Best is trial 10 with value: 0.0599211266953847.\u001b[0m\n"
     ]
    },
    {
     "name": "stdout",
     "output_type": "stream",
     "text": [
      "[40]\ttraining's binary_logloss: 0.0409389\tvalid_1's binary_logloss: 0.083551\n",
      "[60]\ttraining's binary_logloss: 0.0280433\tvalid_1's binary_logloss: 0.0783425\n",
      "[80]\ttraining's binary_logloss: 0.0219075\tvalid_1's binary_logloss: 0.08085\n",
      "Early stopping, best iteration is:\n",
      "[64]\ttraining's binary_logloss: 0.0265888\tvalid_1's binary_logloss: 0.0776354\n",
      "best_score defaultdict(<class 'collections.OrderedDict'>, {'training': OrderedDict([('binary_logloss', 0.026588775223981575)]), 'valid_1': OrderedDict([('binary_logloss', 0.07763536933444647)])})\n",
      "Training until validation scores don't improve for 20 rounds\n",
      "[20]\ttraining's binary_logloss: 0.0730951\tvalid_1's binary_logloss: 0.0705887\n",
      "[40]\ttraining's binary_logloss: 0.0392817\tvalid_1's binary_logloss: 0.0543911\n",
      "[60]\ttraining's binary_logloss: 0.0214672\tvalid_1's binary_logloss: 0.0517184\n",
      "[80]\ttraining's binary_logloss: 0.0116206\tvalid_1's binary_logloss: 0.0533982\n",
      "Early stopping, best iteration is:\n",
      "[70]\ttraining's binary_logloss: 0.0161514\tvalid_1's binary_logloss: 0.0508841\n",
      "best_score defaultdict(<class 'collections.OrderedDict'>, {'training': OrderedDict([('binary_logloss', 0.01615144943230143)]), 'valid_1': OrderedDict([('binary_logloss', 0.05088412755353074)])})\n",
      "Training until validation scores don't improve for 20 rounds\n",
      "[20]\ttraining's binary_logloss: 0.0709401\tvalid_1's binary_logloss: 0.0725102\n",
      "[40]\ttraining's binary_logloss: 0.0400572\tvalid_1's binary_logloss: 0.0527026\n",
      "[60]\ttraining's binary_logloss: 0.0211517\tvalid_1's binary_logloss: 0.0512183\n",
      "Early stopping, best iteration is:\n",
      "[47]\ttraining's binary_logloss: 0.0319266\tvalid_1's binary_logloss: 0.0504979\n",
      "best_score defaultdict(<class 'collections.OrderedDict'>, {'training': OrderedDict([('binary_logloss', 0.03192662123995792)]), 'valid_1': OrderedDict([('binary_logloss', 0.0504979074183525)])})\n",
      "Training until validation scores don't improve for 20 rounds\n",
      "[20]\ttraining's binary_logloss: 0.0679276\tvalid_1's binary_logloss: 0.0880441\n",
      "[40]\ttraining's binary_logloss: 0.0358345\tvalid_1's binary_logloss: 0.0668127\n",
      "[60]\ttraining's binary_logloss: 0.0194229\tvalid_1's binary_logloss: 0.0641914\n",
      "Early stopping, best iteration is:\n",
      "[59]\ttraining's binary_logloss: 0.0201324\tvalid_1's binary_logloss: 0.0632905\n",
      "best_score defaultdict(<class 'collections.OrderedDict'>, {'training': OrderedDict([('binary_logloss', 0.0201324036702187)]), 'valid_1': OrderedDict([('binary_logloss', 0.06329054619721919)])})\n",
      "Training until validation scores don't improve for 20 rounds\n",
      "[20]\ttraining's binary_logloss: 0.070829\tvalid_1's binary_logloss: 0.0787691\n",
      "[40]\ttraining's binary_logloss: 0.036525\tvalid_1's binary_logloss: 0.0657007\n",
      "[60]\ttraining's binary_logloss: 0.0206696\tvalid_1's binary_logloss: 0.0662636\n",
      "Early stopping, best iteration is:\n",
      "[49]\ttraining's binary_logloss: 0.0282372\tvalid_1's binary_logloss: 0.0650197\n",
      "best_score defaultdict(<class 'collections.OrderedDict'>, {'training': OrderedDict([('binary_logloss', 0.028237153731926166)]), 'valid_1': OrderedDict([('binary_logloss', 0.06501970392956594)])})\n",
      "Training until validation scores don't improve for 20 rounds\n"
     ]
    },
    {
     "name": "stderr",
     "output_type": "stream",
     "text": [
      "\u001b[32m[I 2021-05-09 16:12:17,992]\u001b[0m Trial 30 finished with value: 0.06169625149053504 and parameters: {'lambda_l1': 0.00015058808515686412, 'lambda_l2': 4.0061638751738666e-08, 'num_leaves': 73, 'feature_fraction': 0.4232756785298915, 'bagging_fraction': 0.6342154892942262, 'bagging_freq': 7, 'min_child_samples': 80, 'max_depth': 8}. Best is trial 10 with value: 0.0599211266953847.\u001b[0m\n"
     ]
    },
    {
     "name": "stdout",
     "output_type": "stream",
     "text": [
      "[20]\ttraining's binary_logloss: 0.0676104\tvalid_1's binary_logloss: 0.0949007\n",
      "[40]\ttraining's binary_logloss: 0.0365763\tvalid_1's binary_logloss: 0.0798037\n",
      "Early stopping, best iteration is:\n",
      "[37]\ttraining's binary_logloss: 0.0395936\tvalid_1's binary_logloss: 0.078789\n",
      "best_score defaultdict(<class 'collections.OrderedDict'>, {'training': OrderedDict([('binary_logloss', 0.03959358372176318)]), 'valid_1': OrderedDict([('binary_logloss', 0.0787889723540068)])})\n",
      "Training until validation scores don't improve for 20 rounds\n",
      "[20]\ttraining's binary_logloss: 0.0808304\tvalid_1's binary_logloss: 0.0759094\n",
      "[40]\ttraining's binary_logloss: 0.0520668\tvalid_1's binary_logloss: 0.0557203\n",
      "[60]\ttraining's binary_logloss: 0.0376286\tvalid_1's binary_logloss: 0.0518412\n",
      "[80]\ttraining's binary_logloss: 0.0267898\tvalid_1's binary_logloss: 0.0488478\n",
      "[100]\ttraining's binary_logloss: 0.0204105\tvalid_1's binary_logloss: 0.0482454\n",
      "Early stopping, best iteration is:\n",
      "[89]\ttraining's binary_logloss: 0.0233821\tvalid_1's binary_logloss: 0.0473614\n",
      "best_score defaultdict(<class 'collections.OrderedDict'>, {'training': OrderedDict([('binary_logloss', 0.0233821208135961)]), 'valid_1': OrderedDict([('binary_logloss', 0.04736137677992221)])})\n",
      "Training until validation scores don't improve for 20 rounds\n",
      "[20]\ttraining's binary_logloss: 0.0792944\tvalid_1's binary_logloss: 0.0755859\n",
      "[40]\ttraining's binary_logloss: 0.0535516\tvalid_1's binary_logloss: 0.0527192\n",
      "[60]\ttraining's binary_logloss: 0.0355355\tvalid_1's binary_logloss: 0.0489352\n",
      "[80]\ttraining's binary_logloss: 0.0267018\tvalid_1's binary_logloss: 0.0438165\n",
      "Early stopping, best iteration is:\n",
      "[79]\ttraining's binary_logloss: 0.027147\tvalid_1's binary_logloss: 0.0436294\n",
      "best_score defaultdict(<class 'collections.OrderedDict'>, {'training': OrderedDict([('binary_logloss', 0.02714698037014188)]), 'valid_1': OrderedDict([('binary_logloss', 0.04362943178660764)])})\n",
      "Training until validation scores don't improve for 20 rounds\n",
      "[20]\ttraining's binary_logloss: 0.0758774\tvalid_1's binary_logloss: 0.0917754\n",
      "[40]\ttraining's binary_logloss: 0.0480771\tvalid_1's binary_logloss: 0.0722396\n",
      "[60]\ttraining's binary_logloss: 0.0349902\tvalid_1's binary_logloss: 0.0675168\n",
      "[80]\ttraining's binary_logloss: 0.0265398\tvalid_1's binary_logloss: 0.0647307\n",
      "[100]\ttraining's binary_logloss: 0.0202224\tvalid_1's binary_logloss: 0.0652136\n",
      "Early stopping, best iteration is:\n",
      "[91]\ttraining's binary_logloss: 0.0221281\tvalid_1's binary_logloss: 0.0638734\n",
      "best_score defaultdict(<class 'collections.OrderedDict'>, {'training': OrderedDict([('binary_logloss', 0.022128085482934406)]), 'valid_1': OrderedDict([('binary_logloss', 0.06387337073075747)])})\n",
      "Training until validation scores don't improve for 20 rounds\n",
      "[20]\ttraining's binary_logloss: 0.0775099\tvalid_1's binary_logloss: 0.0816285\n",
      "[40]\ttraining's binary_logloss: 0.0491184\tvalid_1's binary_logloss: 0.0651631\n"
     ]
    },
    {
     "name": "stderr",
     "output_type": "stream",
     "text": [
      "\u001b[32m[I 2021-05-09 16:12:18,929]\u001b[0m Trial 31 finished with value: 0.06008030409632864 and parameters: {'lambda_l1': 1.092469585572488, 'lambda_l2': 9.001881506158933e-06, 'num_leaves': 79, 'feature_fraction': 0.53592574567884, 'bagging_fraction': 0.5415419234936101, 'bagging_freq': 7, 'min_child_samples': 100, 'max_depth': 8}. Best is trial 10 with value: 0.0599211266953847.\u001b[0m\n"
     ]
    },
    {
     "name": "stdout",
     "output_type": "stream",
     "text": [
      "[60]\ttraining's binary_logloss: 0.0343713\tvalid_1's binary_logloss: 0.06205\n",
      "[80]\ttraining's binary_logloss: 0.0253231\tvalid_1's binary_logloss: 0.0632062\n",
      "Early stopping, best iteration is:\n",
      "[70]\ttraining's binary_logloss: 0.0278376\tvalid_1's binary_logloss: 0.0612712\n",
      "best_score defaultdict(<class 'collections.OrderedDict'>, {'training': OrderedDict([('binary_logloss', 0.027837554475063437)]), 'valid_1': OrderedDict([('binary_logloss', 0.061271166840824724)])})\n",
      "Training until validation scores don't improve for 20 rounds\n",
      "[20]\ttraining's binary_logloss: 0.0738613\tvalid_1's binary_logloss: 0.097629\n",
      "[40]\ttraining's binary_logloss: 0.0481721\tvalid_1's binary_logloss: 0.0852536\n",
      "Early stopping, best iteration is:\n",
      "[37]\ttraining's binary_logloss: 0.0502035\tvalid_1's binary_logloss: 0.0842662\n",
      "best_score defaultdict(<class 'collections.OrderedDict'>, {'training': OrderedDict([('binary_logloss', 0.050203521997926014)]), 'valid_1': OrderedDict([('binary_logloss', 0.08426617434353115)])})\n",
      "Training until validation scores don't improve for 20 rounds\n",
      "[20]\ttraining's binary_logloss: 0.0856858\tvalid_1's binary_logloss: 0.0796952\n",
      "[40]\ttraining's binary_logloss: 0.0636138\tvalid_1's binary_logloss: 0.0591503\n",
      "[60]\ttraining's binary_logloss: 0.0546512\tvalid_1's binary_logloss: 0.0545808\n",
      "[80]\ttraining's binary_logloss: 0.0486221\tvalid_1's binary_logloss: 0.0521644\n",
      "[100]\ttraining's binary_logloss: 0.0456389\tvalid_1's binary_logloss: 0.0509968\n",
      "[120]\ttraining's binary_logloss: 0.0411867\tvalid_1's binary_logloss: 0.0518561\n",
      "Early stopping, best iteration is:\n",
      "[111]\ttraining's binary_logloss: 0.043225\tvalid_1's binary_logloss: 0.0509402\n",
      "best_score defaultdict(<class 'collections.OrderedDict'>, {'training': OrderedDict([('binary_logloss', 0.04322500909524247)]), 'valid_1': OrderedDict([('binary_logloss', 0.050940211521881704)])})\n",
      "Training until validation scores don't improve for 20 rounds\n",
      "[20]\ttraining's binary_logloss: 0.0859633\tvalid_1's binary_logloss: 0.0789678\n",
      "[40]\ttraining's binary_logloss: 0.0631234\tvalid_1's binary_logloss: 0.0568469\n",
      "[60]\ttraining's binary_logloss: 0.0543048\tvalid_1's binary_logloss: 0.052162\n",
      "[80]\ttraining's binary_logloss: 0.0486368\tvalid_1's binary_logloss: 0.0500917\n",
      "[100]\ttraining's binary_logloss: 0.0449046\tvalid_1's binary_logloss: 0.0480162\n",
      "Early stopping, best iteration is:\n",
      "[95]\ttraining's binary_logloss: 0.0458716\tvalid_1's binary_logloss: 0.047691\n",
      "best_score defaultdict(<class 'collections.OrderedDict'>, {'training': OrderedDict([('binary_logloss', 0.045871557200050365)]), 'valid_1': OrderedDict([('binary_logloss', 0.04769101992374869)])})\n",
      "Training until validation scores don't improve for 20 rounds\n",
      "[20]\ttraining's binary_logloss: 0.081162\tvalid_1's binary_logloss: 0.0946355\n",
      "[40]\ttraining's binary_logloss: 0.0589846\tvalid_1's binary_logloss: 0.075905\n",
      "[60]\ttraining's binary_logloss: 0.0507246\tvalid_1's binary_logloss: 0.0718191\n",
      "[80]\ttraining's binary_logloss: 0.0453097\tvalid_1's binary_logloss: 0.0699159\n",
      "[100]\ttraining's binary_logloss: 0.0420308\tvalid_1's binary_logloss: 0.0691802\n",
      "[120]\ttraining's binary_logloss: 0.0392038\tvalid_1's binary_logloss: 0.0672355\n",
      "[140]\ttraining's binary_logloss: 0.0376041\tvalid_1's binary_logloss: 0.0672603\n",
      "[160]\ttraining's binary_logloss: 0.0370183\tvalid_1's binary_logloss: 0.0665714\n",
      "Early stopping, best iteration is:\n",
      "[150]\ttraining's binary_logloss: 0.0370183\tvalid_1's binary_logloss: 0.0665714\n",
      "best_score defaultdict(<class 'collections.OrderedDict'>, {'training': OrderedDict([('binary_logloss', 0.03701825178670031)]), 'valid_1': OrderedDict([('binary_logloss', 0.06657135504685154)])})\n",
      "Training until validation scores don't improve for 20 rounds\n",
      "[20]\ttraining's binary_logloss: 0.0842623\tvalid_1's binary_logloss: 0.0859394\n",
      "[40]\ttraining's binary_logloss: 0.0593802\tvalid_1's binary_logloss: 0.069521\n",
      "[60]\ttraining's binary_logloss: 0.0501414\tvalid_1's binary_logloss: 0.0685204\n",
      "[80]\ttraining's binary_logloss: 0.0458858\tvalid_1's binary_logloss: 0.0664692\n"
     ]
    },
    {
     "name": "stderr",
     "output_type": "stream",
     "text": [
      "\u001b[32m[I 2021-05-09 16:12:19,553]\u001b[0m Trial 32 finished with value: 0.06090936460017608 and parameters: {'lambda_l1': 4.142780565885865, 'lambda_l2': 4.0373856491193525e-06, 'num_leaves': 83, 'feature_fraction': 0.4832487118215959, 'bagging_fraction': 0.4627152717115891, 'bagging_freq': 6, 'min_child_samples': 94, 'max_depth': 7}. Best is trial 10 with value: 0.0599211266953847.\u001b[0m\n"
     ]
    },
    {
     "name": "stdout",
     "output_type": "stream",
     "text": [
      "[100]\ttraining's binary_logloss: 0.0414321\tvalid_1's binary_logloss: 0.0644102\n",
      "[120]\ttraining's binary_logloss: 0.0381551\tvalid_1's binary_logloss: 0.0639157\n",
      "Early stopping, best iteration is:\n",
      "[113]\ttraining's binary_logloss: 0.0391085\tvalid_1's binary_logloss: 0.0631009\n",
      "best_score defaultdict(<class 'collections.OrderedDict'>, {'training': OrderedDict([('binary_logloss', 0.039108537662426786)]), 'valid_1': OrderedDict([('binary_logloss', 0.06310089013319886)])})\n",
      "Training until validation scores don't improve for 20 rounds\n",
      "[20]\ttraining's binary_logloss: 0.0794826\tvalid_1's binary_logloss: 0.100328\n",
      "[40]\ttraining's binary_logloss: 0.0569945\tvalid_1's binary_logloss: 0.0838295\n",
      "[60]\ttraining's binary_logloss: 0.0507017\tvalid_1's binary_logloss: 0.0808366\n",
      "[80]\ttraining's binary_logloss: 0.0441973\tvalid_1's binary_logloss: 0.0762433\n",
      "[100]\ttraining's binary_logloss: 0.0415118\tvalid_1's binary_logloss: 0.0786625\n",
      "Early stopping, best iteration is:\n",
      "[80]\ttraining's binary_logloss: 0.0441973\tvalid_1's binary_logloss: 0.0762433\n",
      "best_score defaultdict(<class 'collections.OrderedDict'>, {'training': OrderedDict([('binary_logloss', 0.0441973087474912)]), 'valid_1': OrderedDict([('binary_logloss', 0.07624334637519965)])})\n",
      "Training until validation scores don't improve for 20 rounds\n",
      "[20]\ttraining's binary_logloss: 0.077827\tvalid_1's binary_logloss: 0.0741931\n",
      "[40]\ttraining's binary_logloss: 0.047951\tvalid_1's binary_logloss: 0.0565995\n",
      "[60]\ttraining's binary_logloss: 0.0332962\tvalid_1's binary_logloss: 0.051404\n",
      "[80]\ttraining's binary_logloss: 0.0222732\tvalid_1's binary_logloss: 0.0508848\n",
      "Early stopping, best iteration is:\n",
      "[68]\ttraining's binary_logloss: 0.0282571\tvalid_1's binary_logloss: 0.0496696\n",
      "best_score defaultdict(<class 'collections.OrderedDict'>, {'training': OrderedDict([('binary_logloss', 0.02825707534180471)]), 'valid_1': OrderedDict([('binary_logloss', 0.04966964192933415)])})\n",
      "Training until validation scores don't improve for 20 rounds\n",
      "[20]\ttraining's binary_logloss: 0.0766331\tvalid_1's binary_logloss: 0.0746579\n",
      "[40]\ttraining's binary_logloss: 0.0496784\tvalid_1's binary_logloss: 0.0529074\n",
      "[60]\ttraining's binary_logloss: 0.031106\tvalid_1's binary_logloss: 0.0512651\n",
      "[80]\ttraining's binary_logloss: 0.0205889\tvalid_1's binary_logloss: 0.0482942\n",
      "Early stopping, best iteration is:\n",
      "[73]\ttraining's binary_logloss: 0.0235085\tvalid_1's binary_logloss: 0.0473526\n",
      "best_score defaultdict(<class 'collections.OrderedDict'>, {'training': OrderedDict([('binary_logloss', 0.023508506366122645)]), 'valid_1': OrderedDict([('binary_logloss', 0.047352603369656646)])})\n",
      "Training until validation scores don't improve for 20 rounds\n",
      "[20]\ttraining's binary_logloss: 0.0736968\tvalid_1's binary_logloss: 0.0915562\n",
      "[40]\ttraining's binary_logloss: 0.0443778\tvalid_1's binary_logloss: 0.073734\n",
      "[60]\ttraining's binary_logloss: 0.0306137\tvalid_1's binary_logloss: 0.0683479\n",
      "Early stopping, best iteration is:\n",
      "[58]\ttraining's binary_logloss: 0.0321252\tvalid_1's binary_logloss: 0.0680528\n",
      "best_score defaultdict(<class 'collections.OrderedDict'>, {'training': OrderedDict([('binary_logloss', 0.032125214821890895)]), 'valid_1': OrderedDict([('binary_logloss', 0.06805275024528538)])})\n",
      "Training until validation scores don't improve for 20 rounds\n",
      "[20]\ttraining's binary_logloss: 0.0760147\tvalid_1's binary_logloss: 0.0823632\n"
     ]
    },
    {
     "name": "stderr",
     "output_type": "stream",
     "text": [
      "\u001b[32m[I 2021-05-09 16:12:20,579]\u001b[0m Trial 33 finished with value: 0.06176343764396519 and parameters: {'lambda_l1': 0.3362064874439117, 'lambda_l2': 2.3464479860050388e-05, 'num_leaves': 66, 'feature_fraction': 0.5282171697546285, 'bagging_fraction': 0.5156598563654935, 'bagging_freq': 7, 'min_child_samples': 93, 'max_depth': 6}. Best is trial 10 with value: 0.0599211266953847.\u001b[0m\n"
     ]
    },
    {
     "name": "stdout",
     "output_type": "stream",
     "text": [
      "[40]\ttraining's binary_logloss: 0.0456161\tvalid_1's binary_logloss: 0.0676632\n",
      "[60]\ttraining's binary_logloss: 0.0295803\tvalid_1's binary_logloss: 0.0648771\n",
      "Early stopping, best iteration is:\n",
      "[57]\ttraining's binary_logloss: 0.0324489\tvalid_1's binary_logloss: 0.0643953\n",
      "best_score defaultdict(<class 'collections.OrderedDict'>, {'training': OrderedDict([('binary_logloss', 0.03244890534593938)]), 'valid_1': OrderedDict([('binary_logloss', 0.06439526831116052)])})\n",
      "Training until validation scores don't improve for 20 rounds\n",
      "[20]\ttraining's binary_logloss: 0.0717411\tvalid_1's binary_logloss: 0.0949882\n",
      "[40]\ttraining's binary_logloss: 0.0445908\tvalid_1's binary_logloss: 0.0817495\n",
      "[60]\ttraining's binary_logloss: 0.0309565\tvalid_1's binary_logloss: 0.0803127\n",
      "[80]\ttraining's binary_logloss: 0.0205384\tvalid_1's binary_logloss: 0.0808643\n",
      "Early stopping, best iteration is:\n",
      "[62]\ttraining's binary_logloss: 0.0291626\tvalid_1's binary_logloss: 0.0793469\n",
      "best_score defaultdict(<class 'collections.OrderedDict'>, {'training': OrderedDict([('binary_logloss', 0.029162603273919264)]), 'valid_1': OrderedDict([('binary_logloss', 0.07934692436438927)])})\n",
      "Training until validation scores don't improve for 20 rounds\n",
      "[20]\ttraining's binary_logloss: 0.073394\tvalid_1's binary_logloss: 0.0704028\n",
      "[40]\ttraining's binary_logloss: 0.0403751\tvalid_1's binary_logloss: 0.0512721\n",
      "[60]\ttraining's binary_logloss: 0.0232374\tvalid_1's binary_logloss: 0.05153\n",
      "Early stopping, best iteration is:\n",
      "[54]\ttraining's binary_logloss: 0.0272026\tvalid_1's binary_logloss: 0.0501942\n",
      "best_score defaultdict(<class 'collections.OrderedDict'>, {'training': OrderedDict([('binary_logloss', 0.027202612237647306)]), 'valid_1': OrderedDict([('binary_logloss', 0.05019416293676434)])})\n",
      "Training until validation scores don't improve for 20 rounds\n",
      "[20]\ttraining's binary_logloss: 0.0715658\tvalid_1's binary_logloss: 0.0689201\n",
      "[40]\ttraining's binary_logloss: 0.0398931\tvalid_1's binary_logloss: 0.047753\n",
      "[60]\ttraining's binary_logloss: 0.0201308\tvalid_1's binary_logloss: 0.0463543\n",
      "[80]\ttraining's binary_logloss: 0.0117013\tvalid_1's binary_logloss: 0.047732\n",
      "Early stopping, best iteration is:\n",
      "[66]\ttraining's binary_logloss: 0.016534\tvalid_1's binary_logloss: 0.0454721\n",
      "best_score defaultdict(<class 'collections.OrderedDict'>, {'training': OrderedDict([('binary_logloss', 0.01653401517675362)]), 'valid_1': OrderedDict([('binary_logloss', 0.04547212922211407)])})\n",
      "Training until validation scores don't improve for 20 rounds\n",
      "[20]\ttraining's binary_logloss: 0.0691966\tvalid_1's binary_logloss: 0.0887709\n",
      "[40]\ttraining's binary_logloss: 0.036708\tvalid_1's binary_logloss: 0.0693374\n",
      "[60]\ttraining's binary_logloss: 0.0208792\tvalid_1's binary_logloss: 0.0732968\n",
      "Early stopping, best iteration is:\n",
      "[45]\ttraining's binary_logloss: 0.0321682\tvalid_1's binary_logloss: 0.0680552\n",
      "best_score defaultdict(<class 'collections.OrderedDict'>, {'training': OrderedDict([('binary_logloss', 0.032168234868195686)]), 'valid_1': OrderedDict([('binary_logloss', 0.0680552306090754)])})\n",
      "Training until validation scores don't improve for 20 rounds\n",
      "[20]\ttraining's binary_logloss: 0.0712415\tvalid_1's binary_logloss: 0.078304\n",
      "[40]\ttraining's binary_logloss: 0.0371597\tvalid_1's binary_logloss: 0.0646651\n",
      "[60]\ttraining's binary_logloss: 0.0197564\tvalid_1's binary_logloss: 0.0638084\n",
      "Early stopping, best iteration is:\n",
      "[53]\ttraining's binary_logloss: 0.0245563\tvalid_1's binary_logloss: 0.0624281\n",
      "best_score defaultdict(<class 'collections.OrderedDict'>, {'training': OrderedDict([('binary_logloss', 0.024556270417043943)]), 'valid_1': OrderedDict([('binary_logloss', 0.06242809604709743)])})\n"
     ]
    },
    {
     "name": "stderr",
     "output_type": "stream",
     "text": [
      "\u001b[32m[I 2021-05-09 16:12:21,384]\u001b[0m Trial 34 finished with value: 0.06098100051325842 and parameters: {'lambda_l1': 0.0061090496999569605, 'lambda_l2': 2.452831008653104e-07, 'num_leaves': 49, 'feature_fraction': 0.7012956665463115, 'bagging_fraction': 0.5879832282337212, 'bagging_freq': 6, 'min_child_samples': 86, 'max_depth': 8}. Best is trial 10 with value: 0.0599211266953847.\u001b[0m\n"
     ]
    },
    {
     "name": "stdout",
     "output_type": "stream",
     "text": [
      "Training until validation scores don't improve for 20 rounds\n",
      "[20]\ttraining's binary_logloss: 0.0696924\tvalid_1's binary_logloss: 0.0955121\n",
      "[40]\ttraining's binary_logloss: 0.0387621\tvalid_1's binary_logloss: 0.0787554\n",
      "[60]\ttraining's binary_logloss: 0.0220359\tvalid_1's binary_logloss: 0.0833873\n",
      "Early stopping, best iteration is:\n",
      "[40]\ttraining's binary_logloss: 0.0387621\tvalid_1's binary_logloss: 0.0787554\n",
      "best_score defaultdict(<class 'collections.OrderedDict'>, {'training': OrderedDict([('binary_logloss', 0.03876212738877981)]), 'valid_1': OrderedDict([('binary_logloss', 0.07875538375124085)])})\n",
      "Training until validation scores don't improve for 20 rounds\n",
      "[20]\ttraining's binary_logloss: 0.07601\tvalid_1's binary_logloss: 0.0718316\n",
      "[40]\ttraining's binary_logloss: 0.0443769\tvalid_1's binary_logloss: 0.05167\n",
      "[60]\ttraining's binary_logloss: 0.0273535\tvalid_1's binary_logloss: 0.0477597\n",
      "[80]\ttraining's binary_logloss: 0.0153538\tvalid_1's binary_logloss: 0.0525011\n",
      "Early stopping, best iteration is:\n",
      "[64]\ttraining's binary_logloss: 0.024481\tvalid_1's binary_logloss: 0.047412\n",
      "best_score defaultdict(<class 'collections.OrderedDict'>, {'training': OrderedDict([('binary_logloss', 0.02448103596722163)]), 'valid_1': OrderedDict([('binary_logloss', 0.04741199840137234)])})\n",
      "Training until validation scores don't improve for 20 rounds\n",
      "[20]\ttraining's binary_logloss: 0.0753107\tvalid_1's binary_logloss: 0.0724183\n",
      "[40]\ttraining's binary_logloss: 0.0460055\tvalid_1's binary_logloss: 0.0497187\n",
      "[60]\ttraining's binary_logloss: 0.0260986\tvalid_1's binary_logloss: 0.0459223\n",
      "[80]\ttraining's binary_logloss: 0.0161036\tvalid_1's binary_logloss: 0.0452041\n",
      "Early stopping, best iteration is:\n",
      "[75]\ttraining's binary_logloss: 0.0179513\tvalid_1's binary_logloss: 0.0443698\n",
      "best_score defaultdict(<class 'collections.OrderedDict'>, {'training': OrderedDict([('binary_logloss', 0.01795131090687018)]), 'valid_1': OrderedDict([('binary_logloss', 0.04436981655850779)])})\n",
      "Training until validation scores don't improve for 20 rounds\n",
      "[20]\ttraining's binary_logloss: 0.0715648\tvalid_1's binary_logloss: 0.0917956\n",
      "[40]\ttraining's binary_logloss: 0.0420298\tvalid_1's binary_logloss: 0.0693281\n",
      "[60]\ttraining's binary_logloss: 0.0273853\tvalid_1's binary_logloss: 0.0698056\n",
      "Early stopping, best iteration is:\n",
      "[56]\ttraining's binary_logloss: 0.0309881\tvalid_1's binary_logloss: 0.0670125\n",
      "best_score defaultdict(<class 'collections.OrderedDict'>, {'training': OrderedDict([('binary_logloss', 0.030988142367238646)]), 'valid_1': OrderedDict([('binary_logloss', 0.06701246699413345)])})\n",
      "Training until validation scores don't improve for 20 rounds\n",
      "[20]\ttraining's binary_logloss: 0.073568\tvalid_1's binary_logloss: 0.0794455\n",
      "[40]\ttraining's binary_logloss: 0.0403525\tvalid_1's binary_logloss: 0.064295\n",
      "[60]\ttraining's binary_logloss: 0.0238099\tvalid_1's binary_logloss: 0.0590654\n",
      "Early stopping, best iteration is:\n",
      "[56]\ttraining's binary_logloss: 0.0277637\tvalid_1's binary_logloss: 0.0578765\n",
      "best_score defaultdict(<class 'collections.OrderedDict'>, {'training': OrderedDict([('binary_logloss', 0.027763748343333113)]), 'valid_1': OrderedDict([('binary_logloss', 0.05787645846339323)])})\n"
     ]
    },
    {
     "name": "stderr",
     "output_type": "stream",
     "text": [
      "\u001b[32m[I 2021-05-09 16:12:22,266]\u001b[0m Trial 35 finished with value: 0.05946529087966085 and parameters: {'lambda_l1': 3.1510533256462115e-05, 'lambda_l2': 0.0001827005217028645, 'num_leaves': 79, 'feature_fraction': 0.6046434091911356, 'bagging_fraction': 0.56973565192141, 'bagging_freq': 7, 'min_child_samples': 100, 'max_depth': 7}. Best is trial 35 with value: 0.05946529087966085.\u001b[0m\n"
     ]
    },
    {
     "name": "stdout",
     "output_type": "stream",
     "text": [
      "Training until validation scores don't improve for 20 rounds\n",
      "[20]\ttraining's binary_logloss: 0.0705231\tvalid_1's binary_logloss: 0.0941902\n",
      "[40]\ttraining's binary_logloss: 0.0407225\tvalid_1's binary_logloss: 0.0820563\n",
      "Early stopping, best iteration is:\n",
      "[35]\ttraining's binary_logloss: 0.0475266\tvalid_1's binary_logloss: 0.0806557\n",
      "best_score defaultdict(<class 'collections.OrderedDict'>, {'training': OrderedDict([('binary_logloss', 0.04752662221264211)]), 'valid_1': OrderedDict([('binary_logloss', 0.08065571398089744)])})\n",
      "Training until validation scores don't improve for 20 rounds\n",
      "[20]\ttraining's binary_logloss: 0.0621837\tvalid_1's binary_logloss: 0.0661765\n",
      "[40]\ttraining's binary_logloss: 0.0285617\tvalid_1's binary_logloss: 0.0492537\n",
      "[60]\ttraining's binary_logloss: 0.0147519\tvalid_1's binary_logloss: 0.0490991\n",
      "Early stopping, best iteration is:\n",
      "[48]\ttraining's binary_logloss: 0.0218205\tvalid_1's binary_logloss: 0.0474638\n",
      "best_score defaultdict(<class 'collections.OrderedDict'>, {'training': OrderedDict([('binary_logloss', 0.0218205013886253)]), 'valid_1': OrderedDict([('binary_logloss', 0.04746379682395622)])})\n",
      "Training until validation scores don't improve for 20 rounds\n",
      "[20]\ttraining's binary_logloss: 0.0616707\tvalid_1's binary_logloss: 0.0674518\n",
      "[40]\ttraining's binary_logloss: 0.0293852\tvalid_1's binary_logloss: 0.0479919\n",
      "[60]\ttraining's binary_logloss: 0.0132896\tvalid_1's binary_logloss: 0.0490952\n",
      "Early stopping, best iteration is:\n",
      "[48]\ttraining's binary_logloss: 0.022775\tvalid_1's binary_logloss: 0.0463776\n",
      "best_score defaultdict(<class 'collections.OrderedDict'>, {'training': OrderedDict([('binary_logloss', 0.022774970941004582)]), 'valid_1': OrderedDict([('binary_logloss', 0.046377592032935115)])})\n",
      "Training until validation scores don't improve for 20 rounds\n",
      "[20]\ttraining's binary_logloss: 0.0589454\tvalid_1's binary_logloss: 0.0856527\n",
      "[40]\ttraining's binary_logloss: 0.0274008\tvalid_1's binary_logloss: 0.0684318\n",
      "[60]\ttraining's binary_logloss: 0.0158739\tvalid_1's binary_logloss: 0.0702302\n",
      "Early stopping, best iteration is:\n",
      "[43]\ttraining's binary_logloss: 0.0251654\tvalid_1's binary_logloss: 0.0680705\n",
      "best_score defaultdict(<class 'collections.OrderedDict'>, {'training': OrderedDict([('binary_logloss', 0.02516540223414297)]), 'valid_1': OrderedDict([('binary_logloss', 0.06807054627683967)])})\n",
      "Training until validation scores don't improve for 20 rounds\n",
      "[20]\ttraining's binary_logloss: 0.060085\tvalid_1's binary_logloss: 0.0809187\n",
      "[40]\ttraining's binary_logloss: 0.0252142\tvalid_1's binary_logloss: 0.0671329\n",
      "[60]\ttraining's binary_logloss: 0.0133458\tvalid_1's binary_logloss: 0.0706061\n"
     ]
    },
    {
     "name": "stderr",
     "output_type": "stream",
     "text": [
      "\u001b[32m[I 2021-05-09 16:12:22,929]\u001b[0m Trial 36 finished with value: 0.0618561497798535 and parameters: {'lambda_l1': 6.71534571731035e-06, 'lambda_l2': 0.0016035354691326803, 'num_leaves': 76, 'feature_fraction': 0.6758621642787719, 'bagging_fraction': 0.5614122393458763, 'bagging_freq': 7, 'min_child_samples': 33, 'max_depth': 6}. Best is trial 35 with value: 0.05946529087966085.\u001b[0m\n"
     ]
    },
    {
     "name": "stdout",
     "output_type": "stream",
     "text": [
      "Early stopping, best iteration is:\n",
      "[42]\ttraining's binary_logloss: 0.0241133\tvalid_1's binary_logloss: 0.0659446\n",
      "best_score defaultdict(<class 'collections.OrderedDict'>, {'training': OrderedDict([('binary_logloss', 0.024113330507127134)]), 'valid_1': OrderedDict([('binary_logloss', 0.06594458269319625)])})\n",
      "Training until validation scores don't improve for 20 rounds\n",
      "[20]\ttraining's binary_logloss: 0.0594874\tvalid_1's binary_logloss: 0.0909238\n",
      "[40]\ttraining's binary_logloss: 0.0303086\tvalid_1's binary_logloss: 0.0858294\n",
      "Early stopping, best iteration is:\n",
      "[33]\ttraining's binary_logloss: 0.0385252\tvalid_1's binary_logloss: 0.0814242\n",
      "best_score defaultdict(<class 'collections.OrderedDict'>, {'training': OrderedDict([('binary_logloss', 0.03852522109696143)]), 'valid_1': OrderedDict([('binary_logloss', 0.0814242310723402)])})\n",
      "Training until validation scores don't improve for 20 rounds\n",
      "[20]\ttraining's binary_logloss: 0.0601825\tvalid_1's binary_logloss: 0.0666148\n",
      "[40]\ttraining's binary_logloss: 0.0236778\tvalid_1's binary_logloss: 0.0510632\n",
      "Early stopping, best iteration is:\n",
      "[38]\ttraining's binary_logloss: 0.0261641\tvalid_1's binary_logloss: 0.0504623\n",
      "best_score defaultdict(<class 'collections.OrderedDict'>, {'training': OrderedDict([('binary_logloss', 0.02616410343510339)]), 'valid_1': OrderedDict([('binary_logloss', 0.05046225342727803)])})\n",
      "Training until validation scores don't improve for 20 rounds\n",
      "[20]\ttraining's binary_logloss: 0.0599484\tvalid_1's binary_logloss: 0.0688504\n",
      "[40]\ttraining's binary_logloss: 0.0254331\tvalid_1's binary_logloss: 0.051314\n",
      "[60]\ttraining's binary_logloss: 0.0094453\tvalid_1's binary_logloss: 0.0523356\n",
      "Early stopping, best iteration is:\n",
      "[44]\ttraining's binary_logloss: 0.0204585\tvalid_1's binary_logloss: 0.0496864\n",
      "best_score defaultdict(<class 'collections.OrderedDict'>, {'training': OrderedDict([('binary_logloss', 0.020458497333628155)]), 'valid_1': OrderedDict([('binary_logloss', 0.04968643147767821)])})\n",
      "Training until validation scores don't improve for 20 rounds\n",
      "[20]\ttraining's binary_logloss: 0.0581524\tvalid_1's binary_logloss: 0.0845415\n",
      "[40]\ttraining's binary_logloss: 0.023352\tvalid_1's binary_logloss: 0.0689214\n",
      "Early stopping, best iteration is:\n",
      "[38]\ttraining's binary_logloss: 0.0253374\tvalid_1's binary_logloss: 0.0676823\n",
      "best_score defaultdict(<class 'collections.OrderedDict'>, {'training': OrderedDict([('binary_logloss', 0.025337424618471497)]), 'valid_1': OrderedDict([('binary_logloss', 0.0676823089873304)])})\n",
      "Training until validation scores don't improve for 20 rounds\n",
      "[20]\ttraining's binary_logloss: 0.0577753\tvalid_1's binary_logloss: 0.0775032\n",
      "[40]\ttraining's binary_logloss: 0.0217763\tvalid_1's binary_logloss: 0.0627972\n",
      "[60]\ttraining's binary_logloss: 0.00835584\tvalid_1's binary_logloss: 0.0627229\n",
      "Early stopping, best iteration is:\n",
      "[48]\ttraining's binary_logloss: 0.0146855\tvalid_1's binary_logloss: 0.0612048\n",
      "best_score defaultdict(<class 'collections.OrderedDict'>, {'training': OrderedDict([('binary_logloss', 0.01468553110673846)]), 'valid_1': OrderedDict([('binary_logloss', 0.06120484728183121)])})\n",
      "Training until validation scores don't improve for 20 rounds\n",
      "[20]\ttraining's binary_logloss: 0.0574738\tvalid_1's binary_logloss: 0.0928695\n",
      "[40]\ttraining's binary_logloss: 0.0240975\tvalid_1's binary_logloss: 0.0849052\n",
      "[60]\ttraining's binary_logloss: 0.0103301\tvalid_1's binary_logloss: 0.0916733\n",
      "Early stopping, best iteration is:\n",
      "[42]\ttraining's binary_logloss: 0.0223802\tvalid_1's binary_logloss: 0.0842049\n"
     ]
    },
    {
     "name": "stderr",
     "output_type": "stream",
     "text": [
      "\u001b[32m[I 2021-05-09 16:12:23,711]\u001b[0m Trial 37 finished with value: 0.06264814769569274 and parameters: {'lambda_l1': 5.235326379458039e-07, 'lambda_l2': 0.00013875452299538977, 'num_leaves': 63, 'feature_fraction': 0.6037401216401825, 'bagging_fraction': 0.7009236836570657, 'bagging_freq': 6, 'min_child_samples': 42, 'max_depth': 9}. Best is trial 35 with value: 0.05946529087966085.\u001b[0m\n"
     ]
    },
    {
     "name": "stdout",
     "output_type": "stream",
     "text": [
      "best_score defaultdict(<class 'collections.OrderedDict'>, {'training': OrderedDict([('binary_logloss', 0.022380180317628527)]), 'valid_1': OrderedDict([('binary_logloss', 0.0842048973043459)])})\n",
      "Training until validation scores don't improve for 20 rounds\n",
      "[20]\ttraining's binary_logloss: 0.0737212\tvalid_1's binary_logloss: 0.0710872\n",
      "[40]\ttraining's binary_logloss: 0.040548\tvalid_1's binary_logloss: 0.0561837\n",
      "[60]\ttraining's binary_logloss: 0.0247719\tvalid_1's binary_logloss: 0.0536752\n",
      "Early stopping, best iteration is:\n",
      "[58]\ttraining's binary_logloss: 0.02643\tvalid_1's binary_logloss: 0.053283\n",
      "best_score defaultdict(<class 'collections.OrderedDict'>, {'training': OrderedDict([('binary_logloss', 0.026430014992109487)]), 'valid_1': OrderedDict([('binary_logloss', 0.053283036235823596)])})\n",
      "Training until validation scores don't improve for 20 rounds\n",
      "[20]\ttraining's binary_logloss: 0.0731123\tvalid_1's binary_logloss: 0.0701562\n",
      "[40]\ttraining's binary_logloss: 0.0436087\tvalid_1's binary_logloss: 0.0506228\n",
      "[60]\ttraining's binary_logloss: 0.0225588\tvalid_1's binary_logloss: 0.0483481\n",
      "[80]\ttraining's binary_logloss: 0.0129959\tvalid_1's binary_logloss: 0.0463914\n",
      "Early stopping, best iteration is:\n",
      "[76]\ttraining's binary_logloss: 0.014224\tvalid_1's binary_logloss: 0.045816\n",
      "best_score defaultdict(<class 'collections.OrderedDict'>, {'training': OrderedDict([('binary_logloss', 0.014224039062442444)]), 'valid_1': OrderedDict([('binary_logloss', 0.045816007635690756)])})\n",
      "Training until validation scores don't improve for 20 rounds\n",
      "[20]\ttraining's binary_logloss: 0.0693349\tvalid_1's binary_logloss: 0.0895566\n",
      "[40]\ttraining's binary_logloss: 0.0382856\tvalid_1's binary_logloss: 0.0658838\n",
      "[60]\ttraining's binary_logloss: 0.0213713\tvalid_1's binary_logloss: 0.0636269\n",
      "Early stopping, best iteration is:\n",
      "[56]\ttraining's binary_logloss: 0.0255821\tvalid_1's binary_logloss: 0.0623092\n",
      "best_score defaultdict(<class 'collections.OrderedDict'>, {'training': OrderedDict([('binary_logloss', 0.025582096293234505)]), 'valid_1': OrderedDict([('binary_logloss', 0.06230922280420096)])})\n",
      "Training until validation scores don't improve for 20 rounds\n",
      "[20]\ttraining's binary_logloss: 0.0714305\tvalid_1's binary_logloss: 0.0792837\n",
      "[40]\ttraining's binary_logloss: 0.0389951\tvalid_1's binary_logloss: 0.0656765\n",
      "[60]\ttraining's binary_logloss: 0.0223168\tvalid_1's binary_logloss: 0.0637163\n"
     ]
    },
    {
     "name": "stderr",
     "output_type": "stream",
     "text": [
      "\u001b[32m[I 2021-05-09 16:12:24,497]\u001b[0m Trial 38 finished with value: 0.061156794349439846 and parameters: {'lambda_l1': 3.965877298928453e-05, 'lambda_l2': 0.006799554120265558, 'num_leaves': 86, 'feature_fraction': 0.6220468934357378, 'bagging_fraction': 0.6423663740146273, 'bagging_freq': 7, 'min_child_samples': 99, 'max_depth': 11}. Best is trial 35 with value: 0.05946529087966085.\u001b[0m\n"
     ]
    },
    {
     "name": "stdout",
     "output_type": "stream",
     "text": [
      "[80]\ttraining's binary_logloss: 0.0129824\tvalid_1's binary_logloss: 0.0648984\n",
      "Early stopping, best iteration is:\n",
      "[62]\ttraining's binary_logloss: 0.0211323\tvalid_1's binary_logloss: 0.0629187\n",
      "best_score defaultdict(<class 'collections.OrderedDict'>, {'training': OrderedDict([('binary_logloss', 0.02113232010454494)]), 'valid_1': OrderedDict([('binary_logloss', 0.06291865254052387)])})\n",
      "Training until validation scores don't improve for 20 rounds\n",
      "[20]\ttraining's binary_logloss: 0.068851\tvalid_1's binary_logloss: 0.094022\n",
      "[40]\ttraining's binary_logloss: 0.0389022\tvalid_1's binary_logloss: 0.0825535\n",
      "Early stopping, best iteration is:\n",
      "[37]\ttraining's binary_logloss: 0.0426375\tvalid_1's binary_logloss: 0.0814571\n",
      "best_score defaultdict(<class 'collections.OrderedDict'>, {'training': OrderedDict([('binary_logloss', 0.04263749675401086)]), 'valid_1': OrderedDict([('binary_logloss', 0.08145705253096006)])})\n",
      "Training until validation scores don't improve for 20 rounds\n",
      "[20]\ttraining's binary_logloss: 0.0681243\tvalid_1's binary_logloss: 0.0695079\n",
      "[40]\ttraining's binary_logloss: 0.0316173\tvalid_1's binary_logloss: 0.0491232\n",
      "[60]\ttraining's binary_logloss: 0.0159035\tvalid_1's binary_logloss: 0.047242\n",
      "Early stopping, best iteration is:\n",
      "[57]\ttraining's binary_logloss: 0.0177572\tvalid_1's binary_logloss: 0.0460314\n",
      "best_score defaultdict(<class 'collections.OrderedDict'>, {'training': OrderedDict([('binary_logloss', 0.017757210103804908)]), 'valid_1': OrderedDict([('binary_logloss', 0.046031416663078764)])})\n",
      "Training until validation scores don't improve for 20 rounds\n",
      "[20]\ttraining's binary_logloss: 0.0650208\tvalid_1's binary_logloss: 0.067279\n",
      "[40]\ttraining's binary_logloss: 0.0327133\tvalid_1's binary_logloss: 0.0509242\n",
      "[60]\ttraining's binary_logloss: 0.0143026\tvalid_1's binary_logloss: 0.0500578\n",
      "Early stopping, best iteration is:\n",
      "[57]\ttraining's binary_logloss: 0.0158532\tvalid_1's binary_logloss: 0.0493537\n",
      "best_score defaultdict(<class 'collections.OrderedDict'>, {'training': OrderedDict([('binary_logloss', 0.015853211657325096)]), 'valid_1': OrderedDict([('binary_logloss', 0.04935367651149128)])})\n",
      "Training until validation scores don't improve for 20 rounds\n",
      "[20]\ttraining's binary_logloss: 0.0650459\tvalid_1's binary_logloss: 0.0847212\n",
      "[40]\ttraining's binary_logloss: 0.0311236\tvalid_1's binary_logloss: 0.0675835\n",
      "[60]\ttraining's binary_logloss: 0.0151735\tvalid_1's binary_logloss: 0.0662196\n",
      "[80]\ttraining's binary_logloss: 0.00738491\tvalid_1's binary_logloss: 0.0711747\n",
      "Early stopping, best iteration is:\n",
      "[62]\ttraining's binary_logloss: 0.0140204\tvalid_1's binary_logloss: 0.0657079\n",
      "best_score defaultdict(<class 'collections.OrderedDict'>, {'training': OrderedDict([('binary_logloss', 0.014020400284514836)]), 'valid_1': OrderedDict([('binary_logloss', 0.06570785202755203)])})\n",
      "Training until validation scores don't improve for 20 rounds\n",
      "[20]\ttraining's binary_logloss: 0.0637668\tvalid_1's binary_logloss: 0.0803983\n",
      "[40]\ttraining's binary_logloss: 0.0308378\tvalid_1's binary_logloss: 0.0641251\n",
      "[60]\ttraining's binary_logloss: 0.0150385\tvalid_1's binary_logloss: 0.0676876\n",
      "Early stopping, best iteration is:\n",
      "[43]\ttraining's binary_logloss: 0.0278417\tvalid_1's binary_logloss: 0.0636321\n",
      "best_score defaultdict(<class 'collections.OrderedDict'>, {'training': OrderedDict([('binary_logloss', 0.027841709626802612)]), 'valid_1': OrderedDict([('binary_logloss', 0.06363212648971463)])})\n",
      "Training until validation scores don't improve for 20 rounds\n",
      "[20]\ttraining's binary_logloss: 0.0636239\tvalid_1's binary_logloss: 0.0935358\n"
     ]
    },
    {
     "name": "stderr",
     "output_type": "stream",
     "text": [
      "\u001b[32m[I 2021-05-09 16:12:25,615]\u001b[0m Trial 39 finished with value: 0.06104395870009423 and parameters: {'lambda_l1': 4.5095064299818534e-07, 'lambda_l2': 1.1375762331750034e-05, 'num_leaves': 71, 'feature_fraction': 0.5719077754670745, 'bagging_fraction': 0.587553709975497, 'bagging_freq': 6, 'min_child_samples': 54, 'max_depth': 15}. Best is trial 35 with value: 0.05946529087966085.\u001b[0m\n"
     ]
    },
    {
     "name": "stdout",
     "output_type": "stream",
     "text": [
      "[40]\ttraining's binary_logloss: 0.0308853\tvalid_1's binary_logloss: 0.0806512\n",
      "Early stopping, best iteration is:\n",
      "[38]\ttraining's binary_logloss: 0.0330428\tvalid_1's binary_logloss: 0.0804947\n",
      "best_score defaultdict(<class 'collections.OrderedDict'>, {'training': OrderedDict([('binary_logloss', 0.033042801086207885)]), 'valid_1': OrderedDict([('binary_logloss', 0.08049472180863443)])})\n"
     ]
    }
   ],
   "source": [
    "def objective(trial, return_info=False):\n",
    "    folds = 5\n",
    "    seed = 42\n",
    "    shuffle = True\n",
    "    kf = KFold(n_splits=folds, shuffle=shuffle, random_state=seed)\n",
    "\n",
    "    param = {\n",
    "        'objective': 'binary',\n",
    "        'metric': 'binary_logloss',\n",
    "        #'learning_rate': 0.1,\n",
    "        'verbosity': -1,\n",
    "        'lambda_l1': trial.suggest_loguniform('lambda_l1', 1e-8, 10.0),\n",
    "        'lambda_l2': trial.suggest_loguniform('lambda_l2', 1e-8, 10.0),\n",
    "        'num_leaves': trial.suggest_int('num_leaves', 2, 100),\n",
    "        'feature_fraction': trial.suggest_uniform('feature_fraction', 0.4, 1.0),\n",
    "        'bagging_fraction': trial.suggest_uniform('bagging_fraction', 0.4, 1.0),\n",
    "        'bagging_freq': trial.suggest_int('bagging_freq', 1, 7),\n",
    "        'min_child_samples': trial.suggest_int('min_child_samples', 5, 100),\n",
    "        'max_depth':trial.suggest_int('max_depth',5,15)\n",
    "    }\n",
    "\n",
    "    \n",
    "    models = []\n",
    "    valid_score = 0\n",
    "    losses = []\n",
    "    for train_idx, valid_idx in kf.split(X_train, y_train):\n",
    "        train_x,train_y = X_train.iloc[train_idx,:], y_train[train_idx]\n",
    "        valid_x,valid_y = X_train.iloc[valid_idx,:], y_train[valid_idx]\n",
    "        d_train = lgb.Dataset(train_x,train_y)\n",
    "        d_valid = lgb.Dataset(valid_x,valid_y)\n",
    "        watchlist = [d_train, d_valid]\n",
    "        early_stop = 20\n",
    "        verbose_eval = 20\n",
    "        model = lgb.train(param,\n",
    "                          train_set=d_train,\n",
    "                          num_boost_round=1500,\n",
    "                          valid_sets=watchlist,\n",
    "                          verbose_eval=verbose_eval,\n",
    "                          early_stopping_rounds=early_stop)\n",
    "        y_pred_valid = model.predict(X_valid, num_iteration=model.best_iteration)\n",
    "        \n",
    "        print('best_score', model.best_score)\n",
    "        log = {'train': model.best_score['training']['binary_logloss'],\n",
    "               'valid': model.best_score['valid_1']['binary_logloss']} \n",
    "        \n",
    "        models.append(model)\n",
    "        valid_score += log[\"valid\"]\n",
    "    valid_score /= len(models)\n",
    "    \n",
    "    if return_info:\n",
    "        return valid_score, models\n",
    "    else:\n",
    "        return valid_score\n",
    "study = optuna.create_study()\n",
    "study.optimize(objective, n_trials=40)"
   ]
  },
  {
   "cell_type": "code",
   "execution_count": 11,
   "id": "blocked-enzyme",
   "metadata": {},
   "outputs": [
    {
     "name": "stdout",
     "output_type": "stream",
     "text": [
      "Best trial: score 0.05946529087966085, params {'lambda_l1': 3.1510533256462115e-05, 'lambda_l2': 0.0001827005217028645, 'num_leaves': 79, 'feature_fraction': 0.6046434091911356, 'bagging_fraction': 0.56973565192141, 'bagging_freq': 7, 'min_child_samples': 100, 'max_depth': 7}\n"
     ]
    }
   ],
   "source": [
    "print('Best trial: score {}, params {}'.format(study.best_trial.value, study.best_trial.params))"
   ]
  },
  {
   "cell_type": "code",
   "execution_count": 12,
   "id": "reported-paintball",
   "metadata": {},
   "outputs": [
    {
     "name": "stdout",
     "output_type": "stream",
     "text": [
      "Training until validation scores don't improve for 20 rounds\n",
      "[20]\ttraining's binary_logloss: 0.0662859\tvalid_1's binary_logloss: 0.0728906\n",
      "[40]\ttraining's binary_logloss: 0.0361768\tvalid_1's binary_logloss: 0.0498894\n",
      "[60]\ttraining's binary_logloss: 0.0210851\tvalid_1's binary_logloss: 0.0474592\n",
      "Early stopping, best iteration is:\n",
      "[53]\ttraining's binary_logloss: 0.0254509\tvalid_1's binary_logloss: 0.0470348\n"
     ]
    }
   ],
   "source": [
    "early_stop = 20\n",
    "verbose_eval = 20\n",
    "d_train = lgb.Dataset(X_train,y_train)\n",
    "d_valid = lgb.Dataset(X_valid,y_valid)\n",
    "watchlist = [d_train, d_valid]\n",
    "param = {\n",
    "        'objective': 'binary',\n",
    "        'metric': 'binary_logloss',\n",
    "        'verbose':-1,\n",
    "        'lambda_l1': 7.902601989395657e-07, \n",
    "        'lambda_l2': 5.648254437122679e-07, \n",
    "        'num_leaves': 67, \n",
    "        'feature_fraction': 0.6998029478945647, \n",
    "        'bagging_fraction': 0.5584550389770908, \n",
    "        'bagging_freq': 4, \n",
    "        'min_child_samples': 60, \n",
    "        'max_depth': 5\n",
    "    }\n",
    "model1 = lgb.train(param,train_set=d_train,num_boost_round=1500,valid_sets=watchlist,\n",
    "                  verbose_eval=verbose_eval,early_stopping_rounds=early_stop)"
   ]
  },
  {
   "cell_type": "markdown",
   "id": "breathing-sight",
   "metadata": {},
   "source": [
    "Now let's test all feature importance ideas!"
   ]
  },
  {
   "cell_type": "markdown",
   "id": "modular-brooks",
   "metadata": {},
   "source": [
    "### Drop Column Importance <a class=\"anchor\" id=\"model1\"></a>"
   ]
  },
  {
   "cell_type": "markdown",
   "id": "hairy-catch",
   "metadata": {},
   "source": [
    "I choose two metrics to generate feature importance: one is accuracy, another one is log loss."
   ]
  },
  {
   "cell_type": "markdown",
   "id": "tested-trial",
   "metadata": {},
   "source": [
    "#### Accuracy"
   ]
  },
  {
   "cell_type": "code",
   "execution_count": 13,
   "id": "informal-allergy",
   "metadata": {},
   "outputs": [],
   "source": [
    "model = lgb.LGBMClassifier(**param)"
   ]
  },
  {
   "cell_type": "code",
   "execution_count": 14,
   "id": "oriental-infection",
   "metadata": {
    "scrolled": true
   },
   "outputs": [
    {
     "name": "stdout",
     "output_type": "stream",
     "text": [
      "Finished loading model, total used 100 iterations\n",
      "[LightGBM] [Warning] bagging_fraction is set=0.5584550389770908, subsample=1.0 will be ignored. Current value: bagging_fraction=0.5584550389770908\n",
      "[LightGBM] [Warning] feature_fraction is set=0.6998029478945647, colsample_bytree=1.0 will be ignored. Current value: feature_fraction=0.6998029478945647\n",
      "[LightGBM] [Warning] bagging_freq is set=4, subsample_freq=0 will be ignored. Current value: bagging_freq=4\n",
      "[LightGBM] [Warning] lambda_l2 is set=5.648254437122679e-07, reg_lambda=0.0 will be ignored. Current value: lambda_l2=5.648254437122679e-07\n",
      "[LightGBM] [Warning] lambda_l1 is set=7.902601989395657e-07, reg_alpha=0.0 will be ignored. Current value: lambda_l1=7.902601989395657e-07\n",
      "Finished loading model, total used 100 iterations\n",
      "[LightGBM] [Warning] bagging_fraction is set=0.5584550389770908, subsample=1.0 will be ignored. Current value: bagging_fraction=0.5584550389770908\n",
      "[LightGBM] [Warning] feature_fraction is set=0.6998029478945647, colsample_bytree=1.0 will be ignored. Current value: feature_fraction=0.6998029478945647\n",
      "[LightGBM] [Warning] bagging_freq is set=4, subsample_freq=0 will be ignored. Current value: bagging_freq=4\n",
      "[LightGBM] [Warning] lambda_l2 is set=5.648254437122679e-07, reg_lambda=0.0 will be ignored. Current value: lambda_l2=5.648254437122679e-07\n",
      "[LightGBM] [Warning] lambda_l1 is set=7.902601989395657e-07, reg_alpha=0.0 will be ignored. Current value: lambda_l1=7.902601989395657e-07\n",
      "Finished loading model, total used 100 iterations\n",
      "[LightGBM] [Warning] bagging_fraction is set=0.5584550389770908, subsample=1.0 will be ignored. Current value: bagging_fraction=0.5584550389770908\n",
      "[LightGBM] [Warning] feature_fraction is set=0.6998029478945647, colsample_bytree=1.0 will be ignored. Current value: feature_fraction=0.6998029478945647\n",
      "[LightGBM] [Warning] bagging_freq is set=4, subsample_freq=0 will be ignored. Current value: bagging_freq=4\n",
      "[LightGBM] [Warning] lambda_l2 is set=5.648254437122679e-07, reg_lambda=0.0 will be ignored. Current value: lambda_l2=5.648254437122679e-07\n",
      "[LightGBM] [Warning] lambda_l1 is set=7.902601989395657e-07, reg_alpha=0.0 will be ignored. Current value: lambda_l1=7.902601989395657e-07\n",
      "Finished loading model, total used 100 iterations\n",
      "[LightGBM] [Warning] bagging_fraction is set=0.5584550389770908, subsample=1.0 will be ignored. Current value: bagging_fraction=0.5584550389770908\n",
      "[LightGBM] [Warning] feature_fraction is set=0.6998029478945647, colsample_bytree=1.0 will be ignored. Current value: feature_fraction=0.6998029478945647\n",
      "[LightGBM] [Warning] bagging_freq is set=4, subsample_freq=0 will be ignored. Current value: bagging_freq=4\n",
      "[LightGBM] [Warning] lambda_l2 is set=5.648254437122679e-07, reg_lambda=0.0 will be ignored. Current value: lambda_l2=5.648254437122679e-07\n",
      "[LightGBM] [Warning] lambda_l1 is set=7.902601989395657e-07, reg_alpha=0.0 will be ignored. Current value: lambda_l1=7.902601989395657e-07\n",
      "Finished loading model, total used 100 iterations\n",
      "[LightGBM] [Warning] bagging_fraction is set=0.5584550389770908, subsample=1.0 will be ignored. Current value: bagging_fraction=0.5584550389770908\n",
      "[LightGBM] [Warning] feature_fraction is set=0.6998029478945647, colsample_bytree=1.0 will be ignored. Current value: feature_fraction=0.6998029478945647\n",
      "[LightGBM] [Warning] bagging_freq is set=4, subsample_freq=0 will be ignored. Current value: bagging_freq=4\n",
      "[LightGBM] [Warning] lambda_l2 is set=5.648254437122679e-07, reg_lambda=0.0 will be ignored. Current value: lambda_l2=5.648254437122679e-07\n",
      "[LightGBM] [Warning] lambda_l1 is set=7.902601989395657e-07, reg_alpha=0.0 will be ignored. Current value: lambda_l1=7.902601989395657e-07\n",
      "Finished loading model, total used 100 iterations\n",
      "[LightGBM] [Warning] bagging_fraction is set=0.5584550389770908, subsample=1.0 will be ignored. Current value: bagging_fraction=0.5584550389770908\n",
      "[LightGBM] [Warning] feature_fraction is set=0.6998029478945647, colsample_bytree=1.0 will be ignored. Current value: feature_fraction=0.6998029478945647\n",
      "[LightGBM] [Warning] bagging_freq is set=4, subsample_freq=0 will be ignored. Current value: bagging_freq=4\n",
      "[LightGBM] [Warning] lambda_l2 is set=5.648254437122679e-07, reg_lambda=0.0 will be ignored. Current value: lambda_l2=5.648254437122679e-07\n",
      "[LightGBM] [Warning] lambda_l1 is set=7.902601989395657e-07, reg_alpha=0.0 will be ignored. Current value: lambda_l1=7.902601989395657e-07\n",
      "Finished loading model, total used 100 iterations\n",
      "[LightGBM] [Warning] bagging_fraction is set=0.5584550389770908, subsample=1.0 will be ignored. Current value: bagging_fraction=0.5584550389770908\n",
      "[LightGBM] [Warning] feature_fraction is set=0.6998029478945647, colsample_bytree=1.0 will be ignored. Current value: feature_fraction=0.6998029478945647\n",
      "[LightGBM] [Warning] bagging_freq is set=4, subsample_freq=0 will be ignored. Current value: bagging_freq=4\n",
      "[LightGBM] [Warning] lambda_l2 is set=5.648254437122679e-07, reg_lambda=0.0 will be ignored. Current value: lambda_l2=5.648254437122679e-07\n",
      "[LightGBM] [Warning] lambda_l1 is set=7.902601989395657e-07, reg_alpha=0.0 will be ignored. Current value: lambda_l1=7.902601989395657e-07\n",
      "Finished loading model, total used 100 iterations\n",
      "[LightGBM] [Warning] bagging_fraction is set=0.5584550389770908, subsample=1.0 will be ignored. Current value: bagging_fraction=0.5584550389770908\n",
      "[LightGBM] [Warning] feature_fraction is set=0.6998029478945647, colsample_bytree=1.0 will be ignored. Current value: feature_fraction=0.6998029478945647\n",
      "[LightGBM] [Warning] bagging_freq is set=4, subsample_freq=0 will be ignored. Current value: bagging_freq=4\n",
      "[LightGBM] [Warning] lambda_l2 is set=5.648254437122679e-07, reg_lambda=0.0 will be ignored. Current value: lambda_l2=5.648254437122679e-07\n",
      "[LightGBM] [Warning] lambda_l1 is set=7.902601989395657e-07, reg_alpha=0.0 will be ignored. Current value: lambda_l1=7.902601989395657e-07\n",
      "Finished loading model, total used 100 iterations\n",
      "[LightGBM] [Warning] bagging_fraction is set=0.5584550389770908, subsample=1.0 will be ignored. Current value: bagging_fraction=0.5584550389770908\n",
      "[LightGBM] [Warning] feature_fraction is set=0.6998029478945647, colsample_bytree=1.0 will be ignored. Current value: feature_fraction=0.6998029478945647\n",
      "[LightGBM] [Warning] bagging_freq is set=4, subsample_freq=0 will be ignored. Current value: bagging_freq=4\n",
      "[LightGBM] [Warning] lambda_l2 is set=5.648254437122679e-07, reg_lambda=0.0 will be ignored. Current value: lambda_l2=5.648254437122679e-07\n",
      "[LightGBM] [Warning] lambda_l1 is set=7.902601989395657e-07, reg_alpha=0.0 will be ignored. Current value: lambda_l1=7.902601989395657e-07\n",
      "Finished loading model, total used 100 iterations\n",
      "[LightGBM] [Warning] bagging_fraction is set=0.5584550389770908, subsample=1.0 will be ignored. Current value: bagging_fraction=0.5584550389770908\n",
      "[LightGBM] [Warning] feature_fraction is set=0.6998029478945647, colsample_bytree=1.0 will be ignored. Current value: feature_fraction=0.6998029478945647\n",
      "[LightGBM] [Warning] bagging_freq is set=4, subsample_freq=0 will be ignored. Current value: bagging_freq=4\n",
      "[LightGBM] [Warning] lambda_l2 is set=5.648254437122679e-07, reg_lambda=0.0 will be ignored. Current value: lambda_l2=5.648254437122679e-07\n",
      "[LightGBM] [Warning] lambda_l1 is set=7.902601989395657e-07, reg_alpha=0.0 will be ignored. Current value: lambda_l1=7.902601989395657e-07\n",
      "Finished loading model, total used 100 iterations\n",
      "[LightGBM] [Warning] bagging_fraction is set=0.5584550389770908, subsample=1.0 will be ignored. Current value: bagging_fraction=0.5584550389770908\n",
      "[LightGBM] [Warning] feature_fraction is set=0.6998029478945647, colsample_bytree=1.0 will be ignored. Current value: feature_fraction=0.6998029478945647\n",
      "[LightGBM] [Warning] bagging_freq is set=4, subsample_freq=0 will be ignored. Current value: bagging_freq=4\n",
      "[LightGBM] [Warning] lambda_l2 is set=5.648254437122679e-07, reg_lambda=0.0 will be ignored. Current value: lambda_l2=5.648254437122679e-07\n",
      "[LightGBM] [Warning] lambda_l1 is set=7.902601989395657e-07, reg_alpha=0.0 will be ignored. Current value: lambda_l1=7.902601989395657e-07\n",
      "Finished loading model, total used 100 iterations\n",
      "[LightGBM] [Warning] bagging_fraction is set=0.5584550389770908, subsample=1.0 will be ignored. Current value: bagging_fraction=0.5584550389770908\n",
      "[LightGBM] [Warning] feature_fraction is set=0.6998029478945647, colsample_bytree=1.0 will be ignored. Current value: feature_fraction=0.6998029478945647\n",
      "[LightGBM] [Warning] bagging_freq is set=4, subsample_freq=0 will be ignored. Current value: bagging_freq=4\n",
      "[LightGBM] [Warning] lambda_l2 is set=5.648254437122679e-07, reg_lambda=0.0 will be ignored. Current value: lambda_l2=5.648254437122679e-07\n",
      "[LightGBM] [Warning] lambda_l1 is set=7.902601989395657e-07, reg_alpha=0.0 will be ignored. Current value: lambda_l1=7.902601989395657e-07\n"
     ]
    },
    {
     "name": "stdout",
     "output_type": "stream",
     "text": [
      "Finished loading model, total used 100 iterations\n",
      "[LightGBM] [Warning] bagging_fraction is set=0.5584550389770908, subsample=1.0 will be ignored. Current value: bagging_fraction=0.5584550389770908\n",
      "[LightGBM] [Warning] feature_fraction is set=0.6998029478945647, colsample_bytree=1.0 will be ignored. Current value: feature_fraction=0.6998029478945647\n",
      "[LightGBM] [Warning] bagging_freq is set=4, subsample_freq=0 will be ignored. Current value: bagging_freq=4\n",
      "[LightGBM] [Warning] lambda_l2 is set=5.648254437122679e-07, reg_lambda=0.0 will be ignored. Current value: lambda_l2=5.648254437122679e-07\n",
      "[LightGBM] [Warning] lambda_l1 is set=7.902601989395657e-07, reg_alpha=0.0 will be ignored. Current value: lambda_l1=7.902601989395657e-07\n",
      "Finished loading model, total used 100 iterations\n",
      "[LightGBM] [Warning] bagging_fraction is set=0.5584550389770908, subsample=1.0 will be ignored. Current value: bagging_fraction=0.5584550389770908\n",
      "[LightGBM] [Warning] feature_fraction is set=0.6998029478945647, colsample_bytree=1.0 will be ignored. Current value: feature_fraction=0.6998029478945647\n",
      "[LightGBM] [Warning] bagging_freq is set=4, subsample_freq=0 will be ignored. Current value: bagging_freq=4\n",
      "[LightGBM] [Warning] lambda_l2 is set=5.648254437122679e-07, reg_lambda=0.0 will be ignored. Current value: lambda_l2=5.648254437122679e-07\n",
      "[LightGBM] [Warning] lambda_l1 is set=7.902601989395657e-07, reg_alpha=0.0 will be ignored. Current value: lambda_l1=7.902601989395657e-07\n",
      "Finished loading model, total used 100 iterations\n",
      "[LightGBM] [Warning] bagging_fraction is set=0.5584550389770908, subsample=1.0 will be ignored. Current value: bagging_fraction=0.5584550389770908\n",
      "[LightGBM] [Warning] feature_fraction is set=0.6998029478945647, colsample_bytree=1.0 will be ignored. Current value: feature_fraction=0.6998029478945647\n",
      "[LightGBM] [Warning] bagging_freq is set=4, subsample_freq=0 will be ignored. Current value: bagging_freq=4\n",
      "[LightGBM] [Warning] lambda_l2 is set=5.648254437122679e-07, reg_lambda=0.0 will be ignored. Current value: lambda_l2=5.648254437122679e-07\n",
      "[LightGBM] [Warning] lambda_l1 is set=7.902601989395657e-07, reg_alpha=0.0 will be ignored. Current value: lambda_l1=7.902601989395657e-07\n",
      "Finished loading model, total used 100 iterations\n",
      "[LightGBM] [Warning] bagging_fraction is set=0.5584550389770908, subsample=1.0 will be ignored. Current value: bagging_fraction=0.5584550389770908\n",
      "[LightGBM] [Warning] feature_fraction is set=0.6998029478945647, colsample_bytree=1.0 will be ignored. Current value: feature_fraction=0.6998029478945647\n",
      "[LightGBM] [Warning] bagging_freq is set=4, subsample_freq=0 will be ignored. Current value: bagging_freq=4\n",
      "[LightGBM] [Warning] lambda_l2 is set=5.648254437122679e-07, reg_lambda=0.0 will be ignored. Current value: lambda_l2=5.648254437122679e-07\n",
      "[LightGBM] [Warning] lambda_l1 is set=7.902601989395657e-07, reg_alpha=0.0 will be ignored. Current value: lambda_l1=7.902601989395657e-07\n",
      "Finished loading model, total used 100 iterations\n",
      "[LightGBM] [Warning] bagging_fraction is set=0.5584550389770908, subsample=1.0 will be ignored. Current value: bagging_fraction=0.5584550389770908\n",
      "[LightGBM] [Warning] feature_fraction is set=0.6998029478945647, colsample_bytree=1.0 will be ignored. Current value: feature_fraction=0.6998029478945647\n",
      "[LightGBM] [Warning] bagging_freq is set=4, subsample_freq=0 will be ignored. Current value: bagging_freq=4\n",
      "[LightGBM] [Warning] lambda_l2 is set=5.648254437122679e-07, reg_lambda=0.0 will be ignored. Current value: lambda_l2=5.648254437122679e-07\n",
      "[LightGBM] [Warning] lambda_l1 is set=7.902601989395657e-07, reg_alpha=0.0 will be ignored. Current value: lambda_l1=7.902601989395657e-07\n",
      "Finished loading model, total used 100 iterations\n",
      "[LightGBM] [Warning] bagging_fraction is set=0.5584550389770908, subsample=1.0 will be ignored. Current value: bagging_fraction=0.5584550389770908\n",
      "[LightGBM] [Warning] feature_fraction is set=0.6998029478945647, colsample_bytree=1.0 will be ignored. Current value: feature_fraction=0.6998029478945647\n",
      "[LightGBM] [Warning] bagging_freq is set=4, subsample_freq=0 will be ignored. Current value: bagging_freq=4\n",
      "[LightGBM] [Warning] lambda_l2 is set=5.648254437122679e-07, reg_lambda=0.0 will be ignored. Current value: lambda_l2=5.648254437122679e-07\n",
      "[LightGBM] [Warning] lambda_l1 is set=7.902601989395657e-07, reg_alpha=0.0 will be ignored. Current value: lambda_l1=7.902601989395657e-07\n",
      "Finished loading model, total used 100 iterations\n",
      "[LightGBM] [Warning] bagging_fraction is set=0.5584550389770908, subsample=1.0 will be ignored. Current value: bagging_fraction=0.5584550389770908\n",
      "[LightGBM] [Warning] feature_fraction is set=0.6998029478945647, colsample_bytree=1.0 will be ignored. Current value: feature_fraction=0.6998029478945647\n",
      "[LightGBM] [Warning] bagging_freq is set=4, subsample_freq=0 will be ignored. Current value: bagging_freq=4\n",
      "[LightGBM] [Warning] lambda_l2 is set=5.648254437122679e-07, reg_lambda=0.0 will be ignored. Current value: lambda_l2=5.648254437122679e-07\n",
      "[LightGBM] [Warning] lambda_l1 is set=7.902601989395657e-07, reg_alpha=0.0 will be ignored. Current value: lambda_l1=7.902601989395657e-07\n",
      "Finished loading model, total used 100 iterations\n",
      "[LightGBM] [Warning] bagging_fraction is set=0.5584550389770908, subsample=1.0 will be ignored. Current value: bagging_fraction=0.5584550389770908\n",
      "[LightGBM] [Warning] feature_fraction is set=0.6998029478945647, colsample_bytree=1.0 will be ignored. Current value: feature_fraction=0.6998029478945647\n",
      "[LightGBM] [Warning] bagging_freq is set=4, subsample_freq=0 will be ignored. Current value: bagging_freq=4\n",
      "[LightGBM] [Warning] lambda_l2 is set=5.648254437122679e-07, reg_lambda=0.0 will be ignored. Current value: lambda_l2=5.648254437122679e-07\n",
      "[LightGBM] [Warning] lambda_l1 is set=7.902601989395657e-07, reg_alpha=0.0 will be ignored. Current value: lambda_l1=7.902601989395657e-07\n",
      "Finished loading model, total used 100 iterations\n",
      "[LightGBM] [Warning] bagging_fraction is set=0.5584550389770908, subsample=1.0 will be ignored. Current value: bagging_fraction=0.5584550389770908\n",
      "[LightGBM] [Warning] feature_fraction is set=0.6998029478945647, colsample_bytree=1.0 will be ignored. Current value: feature_fraction=0.6998029478945647\n",
      "[LightGBM] [Warning] bagging_freq is set=4, subsample_freq=0 will be ignored. Current value: bagging_freq=4\n",
      "[LightGBM] [Warning] lambda_l2 is set=5.648254437122679e-07, reg_lambda=0.0 will be ignored. Current value: lambda_l2=5.648254437122679e-07\n",
      "[LightGBM] [Warning] lambda_l1 is set=7.902601989395657e-07, reg_alpha=0.0 will be ignored. Current value: lambda_l1=7.902601989395657e-07\n",
      "Finished loading model, total used 100 iterations\n",
      "[LightGBM] [Warning] bagging_fraction is set=0.5584550389770908, subsample=1.0 will be ignored. Current value: bagging_fraction=0.5584550389770908\n",
      "[LightGBM] [Warning] feature_fraction is set=0.6998029478945647, colsample_bytree=1.0 will be ignored. Current value: feature_fraction=0.6998029478945647\n",
      "[LightGBM] [Warning] bagging_freq is set=4, subsample_freq=0 will be ignored. Current value: bagging_freq=4\n",
      "[LightGBM] [Warning] lambda_l2 is set=5.648254437122679e-07, reg_lambda=0.0 will be ignored. Current value: lambda_l2=5.648254437122679e-07\n",
      "[LightGBM] [Warning] lambda_l1 is set=7.902601989395657e-07, reg_alpha=0.0 will be ignored. Current value: lambda_l1=7.902601989395657e-07\n",
      "Finished loading model, total used 100 iterations\n",
      "[LightGBM] [Warning] bagging_fraction is set=0.5584550389770908, subsample=1.0 will be ignored. Current value: bagging_fraction=0.5584550389770908\n",
      "[LightGBM] [Warning] feature_fraction is set=0.6998029478945647, colsample_bytree=1.0 will be ignored. Current value: feature_fraction=0.6998029478945647\n",
      "[LightGBM] [Warning] bagging_freq is set=4, subsample_freq=0 will be ignored. Current value: bagging_freq=4\n",
      "[LightGBM] [Warning] lambda_l2 is set=5.648254437122679e-07, reg_lambda=0.0 will be ignored. Current value: lambda_l2=5.648254437122679e-07\n",
      "[LightGBM] [Warning] lambda_l1 is set=7.902601989395657e-07, reg_alpha=0.0 will be ignored. Current value: lambda_l1=7.902601989395657e-07\n",
      "Finished loading model, total used 100 iterations\n",
      "[LightGBM] [Warning] bagging_fraction is set=0.5584550389770908, subsample=1.0 will be ignored. Current value: bagging_fraction=0.5584550389770908\n",
      "[LightGBM] [Warning] feature_fraction is set=0.6998029478945647, colsample_bytree=1.0 will be ignored. Current value: feature_fraction=0.6998029478945647\n",
      "[LightGBM] [Warning] bagging_freq is set=4, subsample_freq=0 will be ignored. Current value: bagging_freq=4\n",
      "[LightGBM] [Warning] lambda_l2 is set=5.648254437122679e-07, reg_lambda=0.0 will be ignored. Current value: lambda_l2=5.648254437122679e-07\n",
      "[LightGBM] [Warning] lambda_l1 is set=7.902601989395657e-07, reg_alpha=0.0 will be ignored. Current value: lambda_l1=7.902601989395657e-07\n",
      "Finished loading model, total used 100 iterations\n",
      "[LightGBM] [Warning] bagging_fraction is set=0.5584550389770908, subsample=1.0 will be ignored. Current value: bagging_fraction=0.5584550389770908\n",
      "[LightGBM] [Warning] feature_fraction is set=0.6998029478945647, colsample_bytree=1.0 will be ignored. Current value: feature_fraction=0.6998029478945647\n",
      "[LightGBM] [Warning] bagging_freq is set=4, subsample_freq=0 will be ignored. Current value: bagging_freq=4\n",
      "[LightGBM] [Warning] lambda_l2 is set=5.648254437122679e-07, reg_lambda=0.0 will be ignored. Current value: lambda_l2=5.648254437122679e-07\n",
      "[LightGBM] [Warning] lambda_l1 is set=7.902601989395657e-07, reg_alpha=0.0 will be ignored. Current value: lambda_l1=7.902601989395657e-07\n"
     ]
    },
    {
     "name": "stdout",
     "output_type": "stream",
     "text": [
      "Finished loading model, total used 100 iterations\n",
      "[LightGBM] [Warning] bagging_fraction is set=0.5584550389770908, subsample=1.0 will be ignored. Current value: bagging_fraction=0.5584550389770908\n",
      "[LightGBM] [Warning] feature_fraction is set=0.6998029478945647, colsample_bytree=1.0 will be ignored. Current value: feature_fraction=0.6998029478945647\n",
      "[LightGBM] [Warning] bagging_freq is set=4, subsample_freq=0 will be ignored. Current value: bagging_freq=4\n",
      "[LightGBM] [Warning] lambda_l2 is set=5.648254437122679e-07, reg_lambda=0.0 will be ignored. Current value: lambda_l2=5.648254437122679e-07\n",
      "[LightGBM] [Warning] lambda_l1 is set=7.902601989395657e-07, reg_alpha=0.0 will be ignored. Current value: lambda_l1=7.902601989395657e-07\n",
      "Finished loading model, total used 100 iterations\n",
      "[LightGBM] [Warning] bagging_fraction is set=0.5584550389770908, subsample=1.0 will be ignored. Current value: bagging_fraction=0.5584550389770908\n",
      "[LightGBM] [Warning] feature_fraction is set=0.6998029478945647, colsample_bytree=1.0 will be ignored. Current value: feature_fraction=0.6998029478945647\n",
      "[LightGBM] [Warning] bagging_freq is set=4, subsample_freq=0 will be ignored. Current value: bagging_freq=4\n",
      "[LightGBM] [Warning] lambda_l2 is set=5.648254437122679e-07, reg_lambda=0.0 will be ignored. Current value: lambda_l2=5.648254437122679e-07\n",
      "[LightGBM] [Warning] lambda_l1 is set=7.902601989395657e-07, reg_alpha=0.0 will be ignored. Current value: lambda_l1=7.902601989395657e-07\n",
      "Finished loading model, total used 100 iterations\n",
      "[LightGBM] [Warning] bagging_fraction is set=0.5584550389770908, subsample=1.0 will be ignored. Current value: bagging_fraction=0.5584550389770908\n",
      "[LightGBM] [Warning] feature_fraction is set=0.6998029478945647, colsample_bytree=1.0 will be ignored. Current value: feature_fraction=0.6998029478945647\n",
      "[LightGBM] [Warning] bagging_freq is set=4, subsample_freq=0 will be ignored. Current value: bagging_freq=4\n",
      "[LightGBM] [Warning] lambda_l2 is set=5.648254437122679e-07, reg_lambda=0.0 will be ignored. Current value: lambda_l2=5.648254437122679e-07\n",
      "[LightGBM] [Warning] lambda_l1 is set=7.902601989395657e-07, reg_alpha=0.0 will be ignored. Current value: lambda_l1=7.902601989395657e-07\n",
      "Finished loading model, total used 100 iterations\n",
      "[LightGBM] [Warning] bagging_fraction is set=0.5584550389770908, subsample=1.0 will be ignored. Current value: bagging_fraction=0.5584550389770908\n",
      "[LightGBM] [Warning] feature_fraction is set=0.6998029478945647, colsample_bytree=1.0 will be ignored. Current value: feature_fraction=0.6998029478945647\n",
      "[LightGBM] [Warning] bagging_freq is set=4, subsample_freq=0 will be ignored. Current value: bagging_freq=4\n",
      "[LightGBM] [Warning] lambda_l2 is set=5.648254437122679e-07, reg_lambda=0.0 will be ignored. Current value: lambda_l2=5.648254437122679e-07\n",
      "[LightGBM] [Warning] lambda_l1 is set=7.902601989395657e-07, reg_alpha=0.0 will be ignored. Current value: lambda_l1=7.902601989395657e-07\n",
      "Finished loading model, total used 100 iterations\n",
      "[LightGBM] [Warning] bagging_fraction is set=0.5584550389770908, subsample=1.0 will be ignored. Current value: bagging_fraction=0.5584550389770908\n",
      "[LightGBM] [Warning] feature_fraction is set=0.6998029478945647, colsample_bytree=1.0 will be ignored. Current value: feature_fraction=0.6998029478945647\n",
      "[LightGBM] [Warning] bagging_freq is set=4, subsample_freq=0 will be ignored. Current value: bagging_freq=4\n",
      "[LightGBM] [Warning] lambda_l2 is set=5.648254437122679e-07, reg_lambda=0.0 will be ignored. Current value: lambda_l2=5.648254437122679e-07\n",
      "[LightGBM] [Warning] lambda_l1 is set=7.902601989395657e-07, reg_alpha=0.0 will be ignored. Current value: lambda_l1=7.902601989395657e-07\n"
     ]
    }
   ],
   "source": [
    "## Accuracy as metric\n",
    "imp = dropcol_importances(model,X_train, y_train, X_valid, y_valid,accuracy_score)"
   ]
  },
  {
   "cell_type": "code",
   "execution_count": 15,
   "id": "liberal-watch",
   "metadata": {},
   "outputs": [],
   "source": [
    "col_list = list(df.columns)\n",
    "col_list.remove('Class')"
   ]
  },
  {
   "cell_type": "code",
   "execution_count": 16,
   "id": "atomic-stevens",
   "metadata": {},
   "outputs": [
    {
     "data": {
      "image/png": "[encoded data removed]",
      "text/plain": [
       "<Figure size 432x1080 with 1 Axes>"
      ]
     },
     "metadata": {
      "needs_background": "light"
     },
     "output_type": "display_data"
    }
   ],
   "source": [
    "# \n",
    "imp_result_drop_acc = defaultdict(float)\n",
    "for i,item in enumerate(col_list):\n",
    "    imp_result_drop_acc[item] = abs(imp[i])\n",
    "importance_plot(imp_result_drop_acc)"
   ]
  },
  {
   "cell_type": "markdown",
   "id": "configured-creek",
   "metadata": {},
   "source": [
    "#### Log loss"
   ]
  },
  {
   "cell_type": "code",
   "execution_count": 17,
   "id": "scientific-living",
   "metadata": {},
   "outputs": [
    {
     "name": "stdout",
     "output_type": "stream",
     "text": [
      "[LightGBM] [Warning] bagging_fraction is set=0.5584550389770908, subsample=1.0 will be ignored. Current value: bagging_fraction=0.5584550389770908\n",
      "[LightGBM] [Warning] feature_fraction is set=0.6998029478945647, colsample_bytree=1.0 will be ignored. Current value: feature_fraction=0.6998029478945647\n",
      "[LightGBM] [Warning] bagging_freq is set=4, subsample_freq=0 will be ignored. Current value: bagging_freq=4\n",
      "[LightGBM] [Warning] lambda_l2 is set=5.648254437122679e-07, reg_lambda=0.0 will be ignored. Current value: lambda_l2=5.648254437122679e-07\n",
      "[LightGBM] [Warning] lambda_l1 is set=7.902601989395657e-07, reg_alpha=0.0 will be ignored. Current value: lambda_l1=7.902601989395657e-07\n",
      "Finished loading model, total used 100 iterations\n",
      "[LightGBM] [Warning] bagging_fraction is set=0.5584550389770908, subsample=1.0 will be ignored. Current value: bagging_fraction=0.5584550389770908\n",
      "[LightGBM] [Warning] feature_fraction is set=0.6998029478945647, colsample_bytree=1.0 will be ignored. Current value: feature_fraction=0.6998029478945647\n",
      "[LightGBM] [Warning] bagging_freq is set=4, subsample_freq=0 will be ignored. Current value: bagging_freq=4\n",
      "[LightGBM] [Warning] lambda_l2 is set=5.648254437122679e-07, reg_lambda=0.0 will be ignored. Current value: lambda_l2=5.648254437122679e-07\n",
      "[LightGBM] [Warning] lambda_l1 is set=7.902601989395657e-07, reg_alpha=0.0 will be ignored. Current value: lambda_l1=7.902601989395657e-07\n",
      "Finished loading model, total used 100 iterations\n",
      "[LightGBM] [Warning] bagging_fraction is set=0.5584550389770908, subsample=1.0 will be ignored. Current value: bagging_fraction=0.5584550389770908\n",
      "[LightGBM] [Warning] feature_fraction is set=0.6998029478945647, colsample_bytree=1.0 will be ignored. Current value: feature_fraction=0.6998029478945647\n",
      "[LightGBM] [Warning] bagging_freq is set=4, subsample_freq=0 will be ignored. Current value: bagging_freq=4\n",
      "[LightGBM] [Warning] lambda_l2 is set=5.648254437122679e-07, reg_lambda=0.0 will be ignored. Current value: lambda_l2=5.648254437122679e-07\n",
      "[LightGBM] [Warning] lambda_l1 is set=7.902601989395657e-07, reg_alpha=0.0 will be ignored. Current value: lambda_l1=7.902601989395657e-07\n",
      "Finished loading model, total used 100 iterations\n",
      "[LightGBM] [Warning] bagging_fraction is set=0.5584550389770908, subsample=1.0 will be ignored. Current value: bagging_fraction=0.5584550389770908\n",
      "[LightGBM] [Warning] feature_fraction is set=0.6998029478945647, colsample_bytree=1.0 will be ignored. Current value: feature_fraction=0.6998029478945647\n",
      "[LightGBM] [Warning] bagging_freq is set=4, subsample_freq=0 will be ignored. Current value: bagging_freq=4\n",
      "[LightGBM] [Warning] lambda_l2 is set=5.648254437122679e-07, reg_lambda=0.0 will be ignored. Current value: lambda_l2=5.648254437122679e-07\n",
      "[LightGBM] [Warning] lambda_l1 is set=7.902601989395657e-07, reg_alpha=0.0 will be ignored. Current value: lambda_l1=7.902601989395657e-07\n",
      "Finished loading model, total used 100 iterations\n",
      "[LightGBM] [Warning] bagging_fraction is set=0.5584550389770908, subsample=1.0 will be ignored. Current value: bagging_fraction=0.5584550389770908\n",
      "[LightGBM] [Warning] feature_fraction is set=0.6998029478945647, colsample_bytree=1.0 will be ignored. Current value: feature_fraction=0.6998029478945647\n",
      "[LightGBM] [Warning] bagging_freq is set=4, subsample_freq=0 will be ignored. Current value: bagging_freq=4\n",
      "[LightGBM] [Warning] lambda_l2 is set=5.648254437122679e-07, reg_lambda=0.0 will be ignored. Current value: lambda_l2=5.648254437122679e-07\n",
      "[LightGBM] [Warning] lambda_l1 is set=7.902601989395657e-07, reg_alpha=0.0 will be ignored. Current value: lambda_l1=7.902601989395657e-07\n",
      "Finished loading model, total used 100 iterations\n",
      "[LightGBM] [Warning] bagging_fraction is set=0.5584550389770908, subsample=1.0 will be ignored. Current value: bagging_fraction=0.5584550389770908\n",
      "[LightGBM] [Warning] feature_fraction is set=0.6998029478945647, colsample_bytree=1.0 will be ignored. Current value: feature_fraction=0.6998029478945647\n",
      "[LightGBM] [Warning] bagging_freq is set=4, subsample_freq=0 will be ignored. Current value: bagging_freq=4\n",
      "[LightGBM] [Warning] lambda_l2 is set=5.648254437122679e-07, reg_lambda=0.0 will be ignored. Current value: lambda_l2=5.648254437122679e-07\n",
      "[LightGBM] [Warning] lambda_l1 is set=7.902601989395657e-07, reg_alpha=0.0 will be ignored. Current value: lambda_l1=7.902601989395657e-07\n",
      "Finished loading model, total used 100 iterations\n",
      "[LightGBM] [Warning] bagging_fraction is set=0.5584550389770908, subsample=1.0 will be ignored. Current value: bagging_fraction=0.5584550389770908\n",
      "[LightGBM] [Warning] feature_fraction is set=0.6998029478945647, colsample_bytree=1.0 will be ignored. Current value: feature_fraction=0.6998029478945647\n",
      "[LightGBM] [Warning] bagging_freq is set=4, subsample_freq=0 will be ignored. Current value: bagging_freq=4\n",
      "[LightGBM] [Warning] lambda_l2 is set=5.648254437122679e-07, reg_lambda=0.0 will be ignored. Current value: lambda_l2=5.648254437122679e-07\n",
      "[LightGBM] [Warning] lambda_l1 is set=7.902601989395657e-07, reg_alpha=0.0 will be ignored. Current value: lambda_l1=7.902601989395657e-07\n",
      "Finished loading model, total used 100 iterations\n",
      "[LightGBM] [Warning] bagging_fraction is set=0.5584550389770908, subsample=1.0 will be ignored. Current value: bagging_fraction=0.5584550389770908\n",
      "[LightGBM] [Warning] feature_fraction is set=0.6998029478945647, colsample_bytree=1.0 will be ignored. Current value: feature_fraction=0.6998029478945647\n",
      "[LightGBM] [Warning] bagging_freq is set=4, subsample_freq=0 will be ignored. Current value: bagging_freq=4\n",
      "[LightGBM] [Warning] lambda_l2 is set=5.648254437122679e-07, reg_lambda=0.0 will be ignored. Current value: lambda_l2=5.648254437122679e-07\n",
      "[LightGBM] [Warning] lambda_l1 is set=7.902601989395657e-07, reg_alpha=0.0 will be ignored. Current value: lambda_l1=7.902601989395657e-07\n",
      "Finished loading model, total used 100 iterations\n",
      "[LightGBM] [Warning] bagging_fraction is set=0.5584550389770908, subsample=1.0 will be ignored. Current value: bagging_fraction=0.5584550389770908\n",
      "[LightGBM] [Warning] feature_fraction is set=0.6998029478945647, colsample_bytree=1.0 will be ignored. Current value: feature_fraction=0.6998029478945647\n",
      "[LightGBM] [Warning] bagging_freq is set=4, subsample_freq=0 will be ignored. Current value: bagging_freq=4\n",
      "[LightGBM] [Warning] lambda_l2 is set=5.648254437122679e-07, reg_lambda=0.0 will be ignored. Current value: lambda_l2=5.648254437122679e-07\n",
      "[LightGBM] [Warning] lambda_l1 is set=7.902601989395657e-07, reg_alpha=0.0 will be ignored. Current value: lambda_l1=7.902601989395657e-07\n",
      "Finished loading model, total used 100 iterations\n",
      "[LightGBM] [Warning] bagging_fraction is set=0.5584550389770908, subsample=1.0 will be ignored. Current value: bagging_fraction=0.5584550389770908\n",
      "[LightGBM] [Warning] feature_fraction is set=0.6998029478945647, colsample_bytree=1.0 will be ignored. Current value: feature_fraction=0.6998029478945647\n",
      "[LightGBM] [Warning] bagging_freq is set=4, subsample_freq=0 will be ignored. Current value: bagging_freq=4\n",
      "[LightGBM] [Warning] lambda_l2 is set=5.648254437122679e-07, reg_lambda=0.0 will be ignored. Current value: lambda_l2=5.648254437122679e-07\n",
      "[LightGBM] [Warning] lambda_l1 is set=7.902601989395657e-07, reg_alpha=0.0 will be ignored. Current value: lambda_l1=7.902601989395657e-07\n",
      "Finished loading model, total used 100 iterations\n",
      "[LightGBM] [Warning] bagging_fraction is set=0.5584550389770908, subsample=1.0 will be ignored. Current value: bagging_fraction=0.5584550389770908\n",
      "[LightGBM] [Warning] feature_fraction is set=0.6998029478945647, colsample_bytree=1.0 will be ignored. Current value: feature_fraction=0.6998029478945647\n",
      "[LightGBM] [Warning] bagging_freq is set=4, subsample_freq=0 will be ignored. Current value: bagging_freq=4\n",
      "[LightGBM] [Warning] lambda_l2 is set=5.648254437122679e-07, reg_lambda=0.0 will be ignored. Current value: lambda_l2=5.648254437122679e-07\n",
      "[LightGBM] [Warning] lambda_l1 is set=7.902601989395657e-07, reg_alpha=0.0 will be ignored. Current value: lambda_l1=7.902601989395657e-07\n",
      "Finished loading model, total used 100 iterations\n",
      "[LightGBM] [Warning] bagging_fraction is set=0.5584550389770908, subsample=1.0 will be ignored. Current value: bagging_fraction=0.5584550389770908\n",
      "[LightGBM] [Warning] feature_fraction is set=0.6998029478945647, colsample_bytree=1.0 will be ignored. Current value: feature_fraction=0.6998029478945647\n",
      "[LightGBM] [Warning] bagging_freq is set=4, subsample_freq=0 will be ignored. Current value: bagging_freq=4\n",
      "[LightGBM] [Warning] lambda_l2 is set=5.648254437122679e-07, reg_lambda=0.0 will be ignored. Current value: lambda_l2=5.648254437122679e-07\n",
      "[LightGBM] [Warning] lambda_l1 is set=7.902601989395657e-07, reg_alpha=0.0 will be ignored. Current value: lambda_l1=7.902601989395657e-07\n"
     ]
    },
    {
     "name": "stdout",
     "output_type": "stream",
     "text": [
      "Finished loading model, total used 100 iterations\n",
      "[LightGBM] [Warning] bagging_fraction is set=0.5584550389770908, subsample=1.0 will be ignored. Current value: bagging_fraction=0.5584550389770908\n",
      "[LightGBM] [Warning] feature_fraction is set=0.6998029478945647, colsample_bytree=1.0 will be ignored. Current value: feature_fraction=0.6998029478945647\n",
      "[LightGBM] [Warning] bagging_freq is set=4, subsample_freq=0 will be ignored. Current value: bagging_freq=4\n",
      "[LightGBM] [Warning] lambda_l2 is set=5.648254437122679e-07, reg_lambda=0.0 will be ignored. Current value: lambda_l2=5.648254437122679e-07\n",
      "[LightGBM] [Warning] lambda_l1 is set=7.902601989395657e-07, reg_alpha=0.0 will be ignored. Current value: lambda_l1=7.902601989395657e-07\n",
      "Finished loading model, total used 100 iterations\n",
      "[LightGBM] [Warning] bagging_fraction is set=0.5584550389770908, subsample=1.0 will be ignored. Current value: bagging_fraction=0.5584550389770908\n",
      "[LightGBM] [Warning] feature_fraction is set=0.6998029478945647, colsample_bytree=1.0 will be ignored. Current value: feature_fraction=0.6998029478945647\n",
      "[LightGBM] [Warning] bagging_freq is set=4, subsample_freq=0 will be ignored. Current value: bagging_freq=4\n",
      "[LightGBM] [Warning] lambda_l2 is set=5.648254437122679e-07, reg_lambda=0.0 will be ignored. Current value: lambda_l2=5.648254437122679e-07\n",
      "[LightGBM] [Warning] lambda_l1 is set=7.902601989395657e-07, reg_alpha=0.0 will be ignored. Current value: lambda_l1=7.902601989395657e-07\n",
      "Finished loading model, total used 100 iterations\n",
      "[LightGBM] [Warning] bagging_fraction is set=0.5584550389770908, subsample=1.0 will be ignored. Current value: bagging_fraction=0.5584550389770908\n",
      "[LightGBM] [Warning] feature_fraction is set=0.6998029478945647, colsample_bytree=1.0 will be ignored. Current value: feature_fraction=0.6998029478945647\n",
      "[LightGBM] [Warning] bagging_freq is set=4, subsample_freq=0 will be ignored. Current value: bagging_freq=4\n",
      "[LightGBM] [Warning] lambda_l2 is set=5.648254437122679e-07, reg_lambda=0.0 will be ignored. Current value: lambda_l2=5.648254437122679e-07\n",
      "[LightGBM] [Warning] lambda_l1 is set=7.902601989395657e-07, reg_alpha=0.0 will be ignored. Current value: lambda_l1=7.902601989395657e-07\n",
      "Finished loading model, total used 100 iterations\n",
      "[LightGBM] [Warning] bagging_fraction is set=0.5584550389770908, subsample=1.0 will be ignored. Current value: bagging_fraction=0.5584550389770908\n",
      "[LightGBM] [Warning] feature_fraction is set=0.6998029478945647, colsample_bytree=1.0 will be ignored. Current value: feature_fraction=0.6998029478945647\n",
      "[LightGBM] [Warning] bagging_freq is set=4, subsample_freq=0 will be ignored. Current value: bagging_freq=4\n",
      "[LightGBM] [Warning] lambda_l2 is set=5.648254437122679e-07, reg_lambda=0.0 will be ignored. Current value: lambda_l2=5.648254437122679e-07\n",
      "[LightGBM] [Warning] lambda_l1 is set=7.902601989395657e-07, reg_alpha=0.0 will be ignored. Current value: lambda_l1=7.902601989395657e-07\n",
      "Finished loading model, total used 100 iterations\n",
      "[LightGBM] [Warning] bagging_fraction is set=0.5584550389770908, subsample=1.0 will be ignored. Current value: bagging_fraction=0.5584550389770908\n",
      "[LightGBM] [Warning] feature_fraction is set=0.6998029478945647, colsample_bytree=1.0 will be ignored. Current value: feature_fraction=0.6998029478945647\n",
      "[LightGBM] [Warning] bagging_freq is set=4, subsample_freq=0 will be ignored. Current value: bagging_freq=4\n",
      "[LightGBM] [Warning] lambda_l2 is set=5.648254437122679e-07, reg_lambda=0.0 will be ignored. Current value: lambda_l2=5.648254437122679e-07\n",
      "[LightGBM] [Warning] lambda_l1 is set=7.902601989395657e-07, reg_alpha=0.0 will be ignored. Current value: lambda_l1=7.902601989395657e-07\n",
      "Finished loading model, total used 100 iterations\n",
      "[LightGBM] [Warning] bagging_fraction is set=0.5584550389770908, subsample=1.0 will be ignored. Current value: bagging_fraction=0.5584550389770908\n",
      "[LightGBM] [Warning] feature_fraction is set=0.6998029478945647, colsample_bytree=1.0 will be ignored. Current value: feature_fraction=0.6998029478945647\n",
      "[LightGBM] [Warning] bagging_freq is set=4, subsample_freq=0 will be ignored. Current value: bagging_freq=4\n",
      "[LightGBM] [Warning] lambda_l2 is set=5.648254437122679e-07, reg_lambda=0.0 will be ignored. Current value: lambda_l2=5.648254437122679e-07\n",
      "[LightGBM] [Warning] lambda_l1 is set=7.902601989395657e-07, reg_alpha=0.0 will be ignored. Current value: lambda_l1=7.902601989395657e-07\n",
      "Finished loading model, total used 100 iterations\n",
      "[LightGBM] [Warning] bagging_fraction is set=0.5584550389770908, subsample=1.0 will be ignored. Current value: bagging_fraction=0.5584550389770908\n",
      "[LightGBM] [Warning] feature_fraction is set=0.6998029478945647, colsample_bytree=1.0 will be ignored. Current value: feature_fraction=0.6998029478945647\n",
      "[LightGBM] [Warning] bagging_freq is set=4, subsample_freq=0 will be ignored. Current value: bagging_freq=4\n",
      "[LightGBM] [Warning] lambda_l2 is set=5.648254437122679e-07, reg_lambda=0.0 will be ignored. Current value: lambda_l2=5.648254437122679e-07\n",
      "[LightGBM] [Warning] lambda_l1 is set=7.902601989395657e-07, reg_alpha=0.0 will be ignored. Current value: lambda_l1=7.902601989395657e-07\n",
      "Finished loading model, total used 100 iterations\n",
      "[LightGBM] [Warning] bagging_fraction is set=0.5584550389770908, subsample=1.0 will be ignored. Current value: bagging_fraction=0.5584550389770908\n",
      "[LightGBM] [Warning] feature_fraction is set=0.6998029478945647, colsample_bytree=1.0 will be ignored. Current value: feature_fraction=0.6998029478945647\n",
      "[LightGBM] [Warning] bagging_freq is set=4, subsample_freq=0 will be ignored. Current value: bagging_freq=4\n",
      "[LightGBM] [Warning] lambda_l2 is set=5.648254437122679e-07, reg_lambda=0.0 will be ignored. Current value: lambda_l2=5.648254437122679e-07\n",
      "[LightGBM] [Warning] lambda_l1 is set=7.902601989395657e-07, reg_alpha=0.0 will be ignored. Current value: lambda_l1=7.902601989395657e-07\n",
      "Finished loading model, total used 100 iterations\n",
      "[LightGBM] [Warning] bagging_fraction is set=0.5584550389770908, subsample=1.0 will be ignored. Current value: bagging_fraction=0.5584550389770908\n",
      "[LightGBM] [Warning] feature_fraction is set=0.6998029478945647, colsample_bytree=1.0 will be ignored. Current value: feature_fraction=0.6998029478945647\n",
      "[LightGBM] [Warning] bagging_freq is set=4, subsample_freq=0 will be ignored. Current value: bagging_freq=4\n",
      "[LightGBM] [Warning] lambda_l2 is set=5.648254437122679e-07, reg_lambda=0.0 will be ignored. Current value: lambda_l2=5.648254437122679e-07\n",
      "[LightGBM] [Warning] lambda_l1 is set=7.902601989395657e-07, reg_alpha=0.0 will be ignored. Current value: lambda_l1=7.902601989395657e-07\n",
      "Finished loading model, total used 100 iterations\n",
      "[LightGBM] [Warning] bagging_fraction is set=0.5584550389770908, subsample=1.0 will be ignored. Current value: bagging_fraction=0.5584550389770908\n",
      "[LightGBM] [Warning] feature_fraction is set=0.6998029478945647, colsample_bytree=1.0 will be ignored. Current value: feature_fraction=0.6998029478945647\n",
      "[LightGBM] [Warning] bagging_freq is set=4, subsample_freq=0 will be ignored. Current value: bagging_freq=4\n",
      "[LightGBM] [Warning] lambda_l2 is set=5.648254437122679e-07, reg_lambda=0.0 will be ignored. Current value: lambda_l2=5.648254437122679e-07\n",
      "[LightGBM] [Warning] lambda_l1 is set=7.902601989395657e-07, reg_alpha=0.0 will be ignored. Current value: lambda_l1=7.902601989395657e-07\n",
      "Finished loading model, total used 100 iterations\n",
      "[LightGBM] [Warning] bagging_fraction is set=0.5584550389770908, subsample=1.0 will be ignored. Current value: bagging_fraction=0.5584550389770908\n",
      "[LightGBM] [Warning] feature_fraction is set=0.6998029478945647, colsample_bytree=1.0 will be ignored. Current value: feature_fraction=0.6998029478945647\n",
      "[LightGBM] [Warning] bagging_freq is set=4, subsample_freq=0 will be ignored. Current value: bagging_freq=4\n",
      "[LightGBM] [Warning] lambda_l2 is set=5.648254437122679e-07, reg_lambda=0.0 will be ignored. Current value: lambda_l2=5.648254437122679e-07\n",
      "[LightGBM] [Warning] lambda_l1 is set=7.902601989395657e-07, reg_alpha=0.0 will be ignored. Current value: lambda_l1=7.902601989395657e-07\n",
      "Finished loading model, total used 100 iterations\n",
      "[LightGBM] [Warning] bagging_fraction is set=0.5584550389770908, subsample=1.0 will be ignored. Current value: bagging_fraction=0.5584550389770908\n",
      "[LightGBM] [Warning] feature_fraction is set=0.6998029478945647, colsample_bytree=1.0 will be ignored. Current value: feature_fraction=0.6998029478945647\n",
      "[LightGBM] [Warning] bagging_freq is set=4, subsample_freq=0 will be ignored. Current value: bagging_freq=4\n",
      "[LightGBM] [Warning] lambda_l2 is set=5.648254437122679e-07, reg_lambda=0.0 will be ignored. Current value: lambda_l2=5.648254437122679e-07\n",
      "[LightGBM] [Warning] lambda_l1 is set=7.902601989395657e-07, reg_alpha=0.0 will be ignored. Current value: lambda_l1=7.902601989395657e-07\n",
      "Finished loading model, total used 100 iterations\n",
      "[LightGBM] [Warning] bagging_fraction is set=0.5584550389770908, subsample=1.0 will be ignored. Current value: bagging_fraction=0.5584550389770908\n",
      "[LightGBM] [Warning] feature_fraction is set=0.6998029478945647, colsample_bytree=1.0 will be ignored. Current value: feature_fraction=0.6998029478945647\n",
      "[LightGBM] [Warning] bagging_freq is set=4, subsample_freq=0 will be ignored. Current value: bagging_freq=4\n",
      "[LightGBM] [Warning] lambda_l2 is set=5.648254437122679e-07, reg_lambda=0.0 will be ignored. Current value: lambda_l2=5.648254437122679e-07\n",
      "[LightGBM] [Warning] lambda_l1 is set=7.902601989395657e-07, reg_alpha=0.0 will be ignored. Current value: lambda_l1=7.902601989395657e-07\n"
     ]
    },
    {
     "name": "stdout",
     "output_type": "stream",
     "text": [
      "Finished loading model, total used 100 iterations\n",
      "[LightGBM] [Warning] bagging_fraction is set=0.5584550389770908, subsample=1.0 will be ignored. Current value: bagging_fraction=0.5584550389770908\n",
      "[LightGBM] [Warning] feature_fraction is set=0.6998029478945647, colsample_bytree=1.0 will be ignored. Current value: feature_fraction=0.6998029478945647\n",
      "[LightGBM] [Warning] bagging_freq is set=4, subsample_freq=0 will be ignored. Current value: bagging_freq=4\n",
      "[LightGBM] [Warning] lambda_l2 is set=5.648254437122679e-07, reg_lambda=0.0 will be ignored. Current value: lambda_l2=5.648254437122679e-07\n",
      "[LightGBM] [Warning] lambda_l1 is set=7.902601989395657e-07, reg_alpha=0.0 will be ignored. Current value: lambda_l1=7.902601989395657e-07\n",
      "Finished loading model, total used 100 iterations\n",
      "[LightGBM] [Warning] bagging_fraction is set=0.5584550389770908, subsample=1.0 will be ignored. Current value: bagging_fraction=0.5584550389770908\n",
      "[LightGBM] [Warning] feature_fraction is set=0.6998029478945647, colsample_bytree=1.0 will be ignored. Current value: feature_fraction=0.6998029478945647\n",
      "[LightGBM] [Warning] bagging_freq is set=4, subsample_freq=0 will be ignored. Current value: bagging_freq=4\n",
      "[LightGBM] [Warning] lambda_l2 is set=5.648254437122679e-07, reg_lambda=0.0 will be ignored. Current value: lambda_l2=5.648254437122679e-07\n",
      "[LightGBM] [Warning] lambda_l1 is set=7.902601989395657e-07, reg_alpha=0.0 will be ignored. Current value: lambda_l1=7.902601989395657e-07\n",
      "Finished loading model, total used 100 iterations\n",
      "[LightGBM] [Warning] bagging_fraction is set=0.5584550389770908, subsample=1.0 will be ignored. Current value: bagging_fraction=0.5584550389770908\n",
      "[LightGBM] [Warning] feature_fraction is set=0.6998029478945647, colsample_bytree=1.0 will be ignored. Current value: feature_fraction=0.6998029478945647\n",
      "[LightGBM] [Warning] bagging_freq is set=4, subsample_freq=0 will be ignored. Current value: bagging_freq=4\n",
      "[LightGBM] [Warning] lambda_l2 is set=5.648254437122679e-07, reg_lambda=0.0 will be ignored. Current value: lambda_l2=5.648254437122679e-07\n",
      "[LightGBM] [Warning] lambda_l1 is set=7.902601989395657e-07, reg_alpha=0.0 will be ignored. Current value: lambda_l1=7.902601989395657e-07\n",
      "Finished loading model, total used 100 iterations\n",
      "[LightGBM] [Warning] bagging_fraction is set=0.5584550389770908, subsample=1.0 will be ignored. Current value: bagging_fraction=0.5584550389770908\n",
      "[LightGBM] [Warning] feature_fraction is set=0.6998029478945647, colsample_bytree=1.0 will be ignored. Current value: feature_fraction=0.6998029478945647\n",
      "[LightGBM] [Warning] bagging_freq is set=4, subsample_freq=0 will be ignored. Current value: bagging_freq=4\n",
      "[LightGBM] [Warning] lambda_l2 is set=5.648254437122679e-07, reg_lambda=0.0 will be ignored. Current value: lambda_l2=5.648254437122679e-07\n",
      "[LightGBM] [Warning] lambda_l1 is set=7.902601989395657e-07, reg_alpha=0.0 will be ignored. Current value: lambda_l1=7.902601989395657e-07\n",
      "Finished loading model, total used 100 iterations\n",
      "[LightGBM] [Warning] bagging_fraction is set=0.5584550389770908, subsample=1.0 will be ignored. Current value: bagging_fraction=0.5584550389770908\n",
      "[LightGBM] [Warning] feature_fraction is set=0.6998029478945647, colsample_bytree=1.0 will be ignored. Current value: feature_fraction=0.6998029478945647\n",
      "[LightGBM] [Warning] bagging_freq is set=4, subsample_freq=0 will be ignored. Current value: bagging_freq=4\n",
      "[LightGBM] [Warning] lambda_l2 is set=5.648254437122679e-07, reg_lambda=0.0 will be ignored. Current value: lambda_l2=5.648254437122679e-07\n",
      "[LightGBM] [Warning] lambda_l1 is set=7.902601989395657e-07, reg_alpha=0.0 will be ignored. Current value: lambda_l1=7.902601989395657e-07\n",
      "Finished loading model, total used 100 iterations\n",
      "[LightGBM] [Warning] bagging_fraction is set=0.5584550389770908, subsample=1.0 will be ignored. Current value: bagging_fraction=0.5584550389770908\n",
      "[LightGBM] [Warning] feature_fraction is set=0.6998029478945647, colsample_bytree=1.0 will be ignored. Current value: feature_fraction=0.6998029478945647\n",
      "[LightGBM] [Warning] bagging_freq is set=4, subsample_freq=0 will be ignored. Current value: bagging_freq=4\n",
      "[LightGBM] [Warning] lambda_l2 is set=5.648254437122679e-07, reg_lambda=0.0 will be ignored. Current value: lambda_l2=5.648254437122679e-07\n",
      "[LightGBM] [Warning] lambda_l1 is set=7.902601989395657e-07, reg_alpha=0.0 will be ignored. Current value: lambda_l1=7.902601989395657e-07\n"
     ]
    }
   ],
   "source": [
    "## log_loss as metric\n",
    "imp = dropcol_importances(model,X_train, y_train, X_valid, y_valid,log_loss,True)"
   ]
  },
  {
   "cell_type": "code",
   "execution_count": 18,
   "id": "incomplete-jesus",
   "metadata": {},
   "outputs": [
    {
     "data": {
      "image/png": "[encoded data removed]",
      "text/plain": [
       "<Figure size 432x1080 with 1 Axes>"
      ]
     },
     "metadata": {
      "needs_background": "light"
     },
     "output_type": "display_data"
    }
   ],
   "source": [
    "#\n",
    "imp_result_drop_log = defaultdict(float)\n",
    "for i,item in enumerate(col_list):\n",
    "    imp_result_drop_log[item] = abs(imp[i])\n",
    "importance_plot(imp_result_drop_log)"
   ]
  },
  {
   "cell_type": "markdown",
   "id": "known-provision",
   "metadata": {},
   "source": [
    "### Permutation Importance <a class=\"anchor\" id=\"model2\"></a>"
   ]
  },
  {
   "cell_type": "markdown",
   "id": "generous-calculation",
   "metadata": {},
   "source": [
    "#### Accuracy"
   ]
  },
  {
   "cell_type": "code",
   "execution_count": 19,
   "id": "maritime-arrangement",
   "metadata": {},
   "outputs": [
    {
     "name": "stdout",
     "output_type": "stream",
     "text": [
      "[LightGBM] [Warning] bagging_fraction is set=0.5584550389770908, subsample=1.0 will be ignored. Current value: bagging_fraction=0.5584550389770908\n",
      "[LightGBM] [Warning] feature_fraction is set=0.6998029478945647, colsample_bytree=1.0 will be ignored. Current value: feature_fraction=0.6998029478945647\n",
      "[LightGBM] [Warning] bagging_freq is set=4, subsample_freq=0 will be ignored. Current value: bagging_freq=4\n",
      "[LightGBM] [Warning] lambda_l2 is set=5.648254437122679e-07, reg_lambda=0.0 will be ignored. Current value: lambda_l2=5.648254437122679e-07\n",
      "[LightGBM] [Warning] lambda_l1 is set=7.902601989395657e-07, reg_alpha=0.0 will be ignored. Current value: lambda_l1=7.902601989395657e-07\n"
     ]
    },
    {
     "data": {
      "text/plain": [
       "LGBMClassifier(bagging_fraction=0.5584550389770908, bagging_freq=4,\n",
       "               feature_fraction=0.6998029478945647,\n",
       "               lambda_l1=7.902601989395657e-07, lambda_l2=5.648254437122679e-07,\n",
       "               max_depth=5, metric='binary_logloss', min_child_samples=60,\n",
       "               num_leaves=67, objective='binary', verbose=-1)"
      ]
     },
     "execution_count": 19,
     "metadata": {},
     "output_type": "execute_result"
    }
   ],
   "source": [
    "model = lgb.LGBMClassifier(**param)\n",
    "model.fit(X_train,y_train)"
   ]
  },
  {
   "cell_type": "code",
   "execution_count": 20,
   "id": "august-vanilla",
   "metadata": {},
   "outputs": [],
   "source": [
    "imp = permutation_importances(model, X_valid, y_valid,accuracy_score,proba = False)"
   ]
  },
  {
   "cell_type": "code",
   "execution_count": 21,
   "id": "excessive-naples",
   "metadata": {},
   "outputs": [
    {
     "data": {
      "image/png": "[encoded data removed]",
      "text/plain": [
       "<Figure size 432x1080 with 1 Axes>"
      ]
     },
     "metadata": {
      "needs_background": "light"
     },
     "output_type": "display_data"
    }
   ],
   "source": [
    "# \n",
    "imp_result_permutation_acc = defaultdict(float)\n",
    "for i,item in enumerate(col_list):\n",
    "    imp_result_permutation_acc[item] = abs(imp[i])\n",
    "importance_plot(imp_result_permutation_acc)"
   ]
  },
  {
   "cell_type": "markdown",
   "id": "commercial-starter",
   "metadata": {},
   "source": [
    "#### Log loss"
   ]
  },
  {
   "cell_type": "code",
   "execution_count": 22,
   "id": "popular-farmer",
   "metadata": {},
   "outputs": [],
   "source": [
    "imp = permutation_importances(model, X_valid, y_valid,log_loss,proba = True)"
   ]
  },
  {
   "cell_type": "code",
   "execution_count": 23,
   "id": "general-boating",
   "metadata": {},
   "outputs": [
    {
     "data": {
      "image/png": "[encoded data removed]",
      "text/plain": [
       "<Figure size 432x1080 with 1 Axes>"
      ]
     },
     "metadata": {
      "needs_background": "light"
     },
     "output_type": "display_data"
    }
   ],
   "source": [
    "#\n",
    "imp_result_permutation_log = defaultdict(float)\n",
    "for i,item in enumerate(col_list):\n",
    "    imp_result_permutation_log[item] = abs(imp[i])\n",
    "importance_plot(imp_result_permutation_log)"
   ]
  },
  {
   "cell_type": "markdown",
   "id": "fourth-librarian",
   "metadata": {},
   "source": [
    "### LightGBM Default Feature Importance <a class=\"anchor\" id=\"model3\"></a>"
   ]
  },
  {
   "cell_type": "markdown",
   "id": "graphic-watch",
   "metadata": {},
   "source": [
    "I also want to see the performance of LightGBM's default importance result. "
   ]
  },
  {
   "cell_type": "code",
   "execution_count": 24,
   "id": "extensive-hierarchy",
   "metadata": {},
   "outputs": [
    {
     "data": {
      "image/png": "[encoded data removed]",
      "text/plain": [
       "<Figure size 1440x720 with 1 Axes>"
      ]
     },
     "metadata": {
      "needs_background": "light"
     },
     "output_type": "display_data"
    }
   ],
   "source": [
    "## LightGBM default feature importance\n",
    "feature_imp = pd.DataFrame(sorted(zip(model.feature_importances_,X.columns)), columns=['Value','Feature'])\n",
    "plt.figure(figsize=(20, 10))\n",
    "sns.barplot(x=\"Value\", y=\"Feature\", data=feature_imp.sort_values(by=\"Value\", ascending=False))\n",
    "plt.title('LightGBM Default Importance')\n",
    "plt.tight_layout()\n",
    "plt.show()"
   ]
  },
  {
   "cell_type": "markdown",
   "id": "floppy-luther",
   "metadata": {},
   "source": [
    "### SHAP <a class=\"anchor\" id=\"model4\"></a>"
   ]
  },
  {
   "cell_type": "markdown",
   "id": "chicken-india",
   "metadata": {},
   "source": [
    "SHAP is the state of the art in Machine Learning explainability. It also has feature importance output."
   ]
  },
  {
   "cell_type": "code",
   "execution_count": 36,
   "id": "pressing-report",
   "metadata": {
    "scrolled": true
   },
   "outputs": [],
   "source": [
    "#shap.initjs()\n",
    "shap_values = shap.TreeExplainer(model).shap_values(X_valid)"
   ]
  },
  {
   "cell_type": "code",
   "execution_count": 26,
   "id": "powered-reading",
   "metadata": {},
   "outputs": [
    {
     "data": {
      "image/png": "[encoded data removed]",
      "text/plain": [
       "<Figure size 576x684 with 1 Axes>"
      ]
     },
     "metadata": {
      "needs_background": "light"
     },
     "output_type": "display_data"
    }
   ],
   "source": [
    "shap.summary_plot(shap_values, X_valid)"
   ]
  },
  {
   "cell_type": "code",
   "execution_count": 27,
   "id": "insured-revision",
   "metadata": {},
   "outputs": [
    {
     "data": {
      "text/html": [
       "<div>\n",
       "<style scoped>\n",
       "    .dataframe tbody tr th:only-of-type {\n",
       "        vertical-align: middle;\n",
       "    }\n",
       "\n",
       "    .dataframe tbody tr th {\n",
       "        vertical-align: top;\n",
       "    }\n",
       "\n",
       "    .dataframe thead th {\n",
       "        text-align: right;\n",
       "    }\n",
       "</style>\n",
       "<table border=\"1\" class=\"dataframe\">\n",
       "  <thead>\n",
       "    <tr style=\"text-align: right;\">\n",
       "      <th></th>\n",
       "      <th>col_name</th>\n",
       "      <th>feature_importance_vals</th>\n",
       "    </tr>\n",
       "  </thead>\n",
       "  <tbody>\n",
       "    <tr>\n",
       "      <th>14</th>\n",
       "      <td>V14</td>\n",
       "      <td>1317.113029</td>\n",
       "    </tr>\n",
       "    <tr>\n",
       "      <th>4</th>\n",
       "      <td>V4</td>\n",
       "      <td>745.368070</td>\n",
       "    </tr>\n",
       "    <tr>\n",
       "      <th>12</th>\n",
       "      <td>V12</td>\n",
       "      <td>402.238080</td>\n",
       "    </tr>\n",
       "    <tr>\n",
       "      <th>8</th>\n",
       "      <td>V8</td>\n",
       "      <td>361.554340</td>\n",
       "    </tr>\n",
       "    <tr>\n",
       "      <th>29</th>\n",
       "      <td>Amount</td>\n",
       "      <td>360.981563</td>\n",
       "    </tr>\n",
       "    <tr>\n",
       "      <th>10</th>\n",
       "      <td>V10</td>\n",
       "      <td>332.565777</td>\n",
       "    </tr>\n",
       "    <tr>\n",
       "      <th>17</th>\n",
       "      <td>V17</td>\n",
       "      <td>331.064427</td>\n",
       "    </tr>\n",
       "    <tr>\n",
       "      <th>19</th>\n",
       "      <td>V19</td>\n",
       "      <td>284.044797</td>\n",
       "    </tr>\n",
       "    <tr>\n",
       "      <th>16</th>\n",
       "      <td>V16</td>\n",
       "      <td>238.635295</td>\n",
       "    </tr>\n",
       "    <tr>\n",
       "      <th>28</th>\n",
       "      <td>V28</td>\n",
       "      <td>224.174521</td>\n",
       "    </tr>\n",
       "    <tr>\n",
       "      <th>13</th>\n",
       "      <td>V13</td>\n",
       "      <td>223.136677</td>\n",
       "    </tr>\n",
       "    <tr>\n",
       "      <th>11</th>\n",
       "      <td>V11</td>\n",
       "      <td>198.595395</td>\n",
       "    </tr>\n",
       "    <tr>\n",
       "      <th>20</th>\n",
       "      <td>V20</td>\n",
       "      <td>180.347503</td>\n",
       "    </tr>\n",
       "    <tr>\n",
       "      <th>5</th>\n",
       "      <td>V5</td>\n",
       "      <td>177.293663</td>\n",
       "    </tr>\n",
       "    <tr>\n",
       "      <th>3</th>\n",
       "      <td>V3</td>\n",
       "      <td>173.222635</td>\n",
       "    </tr>\n",
       "    <tr>\n",
       "      <th>27</th>\n",
       "      <td>V27</td>\n",
       "      <td>159.975118</td>\n",
       "    </tr>\n",
       "    <tr>\n",
       "      <th>7</th>\n",
       "      <td>V7</td>\n",
       "      <td>158.191329</td>\n",
       "    </tr>\n",
       "    <tr>\n",
       "      <th>0</th>\n",
       "      <td>Time</td>\n",
       "      <td>157.790260</td>\n",
       "    </tr>\n",
       "    <tr>\n",
       "      <th>1</th>\n",
       "      <td>V1</td>\n",
       "      <td>151.086132</td>\n",
       "    </tr>\n",
       "    <tr>\n",
       "      <th>21</th>\n",
       "      <td>V21</td>\n",
       "      <td>150.874725</td>\n",
       "    </tr>\n",
       "    <tr>\n",
       "      <th>22</th>\n",
       "      <td>V22</td>\n",
       "      <td>147.721150</td>\n",
       "    </tr>\n",
       "    <tr>\n",
       "      <th>2</th>\n",
       "      <td>V2</td>\n",
       "      <td>126.719584</td>\n",
       "    </tr>\n",
       "    <tr>\n",
       "      <th>26</th>\n",
       "      <td>V26</td>\n",
       "      <td>118.989537</td>\n",
       "    </tr>\n",
       "    <tr>\n",
       "      <th>9</th>\n",
       "      <td>V9</td>\n",
       "      <td>117.791374</td>\n",
       "    </tr>\n",
       "    <tr>\n",
       "      <th>25</th>\n",
       "      <td>V25</td>\n",
       "      <td>113.543604</td>\n",
       "    </tr>\n",
       "    <tr>\n",
       "      <th>18</th>\n",
       "      <td>V18</td>\n",
       "      <td>98.725839</td>\n",
       "    </tr>\n",
       "    <tr>\n",
       "      <th>6</th>\n",
       "      <td>V6</td>\n",
       "      <td>90.444124</td>\n",
       "    </tr>\n",
       "    <tr>\n",
       "      <th>24</th>\n",
       "      <td>V24</td>\n",
       "      <td>84.751243</td>\n",
       "    </tr>\n",
       "    <tr>\n",
       "      <th>23</th>\n",
       "      <td>V23</td>\n",
       "      <td>66.683705</td>\n",
       "    </tr>\n",
       "    <tr>\n",
       "      <th>15</th>\n",
       "      <td>V15</td>\n",
       "      <td>56.510506</td>\n",
       "    </tr>\n",
       "  </tbody>\n",
       "</table>\n",
       "</div>"
      ],
      "text/plain": [
       "   col_name  feature_importance_vals\n",
       "14      V14              1317.113029\n",
       "4        V4               745.368070\n",
       "12      V12               402.238080\n",
       "8        V8               361.554340\n",
       "29   Amount               360.981563\n",
       "10      V10               332.565777\n",
       "17      V17               331.064427\n",
       "19      V19               284.044797\n",
       "16      V16               238.635295\n",
       "28      V28               224.174521\n",
       "13      V13               223.136677\n",
       "11      V11               198.595395\n",
       "20      V20               180.347503\n",
       "5        V5               177.293663\n",
       "3        V3               173.222635\n",
       "27      V27               159.975118\n",
       "7        V7               158.191329\n",
       "0      Time               157.790260\n",
       "1        V1               151.086132\n",
       "21      V21               150.874725\n",
       "22      V22               147.721150\n",
       "2        V2               126.719584\n",
       "26      V26               118.989537\n",
       "9        V9               117.791374\n",
       "25      V25               113.543604\n",
       "18      V18                98.725839\n",
       "6        V6                90.444124\n",
       "24      V24                84.751243\n",
       "23      V23                66.683705\n",
       "15      V15                56.510506"
      ]
     },
     "execution_count": 27,
     "metadata": {},
     "output_type": "execute_result"
    }
   ],
   "source": [
    "vals= np.abs(shap_values).mean(0)\n",
    "feature_importance = pd.DataFrame(list(zip(X.columns, sum(vals))), columns=['col_name','feature_importance_vals'])\n",
    "feature_importance.sort_values(by=['feature_importance_vals'], ascending=False,inplace=True)\n",
    "feature_importance"
   ]
  },
  {
   "cell_type": "markdown",
   "id": "worthy-insulin",
   "metadata": {},
   "source": [
    "# Feature Importance Comparison <a class=\"anchor\" id=\"compare\"></a>"
   ]
  },
  {
   "cell_type": "markdown",
   "id": "sensitive-doctrine",
   "metadata": {},
   "source": [
    "* Spearman: importance_spearman\n",
    "* PCA: importance_pca\n",
    "* mRMR: importance_mRMR\n",
    "* Drop Column Importance with accuracy: imp_result_drop_acc\n",
    "* Drop Column Importance with log loss: imp_result_drop_log\n",
    "* Permutation Importance with accuracy: imp_result_permutation_acc\n",
    "* Permutation Importance with log loss: imp_result_permutation_log\n",
    "* LightGBM default: feature_imp\n",
    "* Shap: feature_importance"
   ]
  },
  {
   "cell_type": "code",
   "execution_count": 29,
   "id": "rocky-swiss",
   "metadata": {},
   "outputs": [],
   "source": [
    "importance_spearman_order = get_order_from_imp_dict(importance_spearman)\n",
    "importance_pca_order = get_order_from_imp_dict(importance_pca)\n",
    "importance_mRMR_order = get_order_from_imp_dict(importance_mRMR)\n",
    "importance_drop_acc_order = get_order_from_imp_dict(imp_result_drop_acc)\n",
    "importance_drop_log_order = get_order_from_imp_dict(imp_result_drop_log)\n",
    "importance_permutation_acc_order = get_order_from_imp_dict(imp_result_permutation_acc)\n",
    "importance_permutation_log_order = get_order_from_imp_dict(imp_result_permutation_log)\n",
    "importance_lgbm_defualt = list(feature_imp.Feature)[::-1]\n",
    "importance_shap_defualt = list(feature_imp.Feature)"
   ]
  },
  {
   "cell_type": "code",
   "execution_count": 31,
   "id": "capable-shoot",
   "metadata": {
    "scrolled": true
   },
   "outputs": [],
   "source": [
    "imp_spearman_loss = loss_feature_lgbm(X_train,y_train,importance_spearman_order)\n",
    "imp_pca_loss = loss_feature_lgbm(X_train,y_train,importance_pca_order)\n",
    "imp_mRMR_loss = loss_feature_lgbm(X_train,y_train,importance_mRMR_order)\n",
    "imp_drop_acc_loss = loss_feature_lgbm(X_train,y_train,importance_drop_acc_order)\n",
    "imp_drop_log_loss = loss_feature_lgbm(X_train,y_train,importance_drop_log_order)\n",
    "imp_permutation_acc_loss = loss_feature_lgbm(X_train,y_train,importance_permutation_acc_order)\n",
    "imp_permutation_log_loss = loss_feature_lgbm(X_train,y_train,importance_permutation_log_order)\n",
    "imp_lgbm_loss = loss_feature_lgbm(X_train,y_train,importance_lgbm_defualt)\n",
    "imp_shap_loss = loss_feature_lgbm(X_train,y_train,importance_shap_defualt)"
   ]
  },
  {
   "cell_type": "code",
   "execution_count": 32,
   "id": "blond-desire",
   "metadata": {},
   "outputs": [],
   "source": [
    "num_features = list(range(1,9))\n",
    "data_preproc = pd.DataFrame({\n",
    "    'Number of Feature': num_features, \n",
    "    'Spearman Loss': imp_spearman_loss,\n",
    "    'PCA Loss': imp_pca_loss,\n",
    "    'mRMR Loss': imp_mRMR_loss,\n",
    "    'Drop Column Accuracy Loss': imp_drop_acc_loss,\n",
    "    'Drop Column Log Loss': imp_drop_log_loss,\n",
    "    'Permutation Accuracy Loss': imp_permutation_acc_loss,\n",
    "    'Permutation Log Loss':imp_permutation_log_loss,\n",
    "    'LightGBM Default Loss':imp_lgbm_loss,\n",
    "    'SHAP Loss':imp_shap_loss})"
   ]
  },
  {
   "cell_type": "code",
   "execution_count": 33,
   "id": "adolescent-tissue",
   "metadata": {},
   "outputs": [
    {
     "data": {
      "text/plain": [
       "<matplotlib.axes._subplots.AxesSubplot at 0x15d613070>"
      ]
     },
     "execution_count": 33,
     "metadata": {},
     "output_type": "execute_result"
    },
    {
     "data": {
      "image/png": "[encoded data removed]",
      "text/plain": [
       "<Figure size 1130.4x1099.44 with 1 Axes>"
      ]
     },
     "metadata": {},
     "output_type": "display_data"
    }
   ],
   "source": [
    "sns.set(rc={'figure.figsize':(15.7,15.27)})\n",
    "sns.lineplot(x='Number of Feature', y='value', hue='variable', \n",
    "             data=pd.melt(data_preproc, ['Number of Feature']))"
   ]
  },
  {
   "cell_type": "markdown",
   "id": "south-outline",
   "metadata": {},
   "source": [
    "This is just a initial attempt to see which feature importance method is good, the comparision is actually sensitive to model's parameter. From plot we notice: \n",
    "* The best feature importance search methods are <b>LightGBM default feature importance</b>, <b>Permutation with Accuracy as Metric</b> and <b>mRMR feature importance</b>. \n",
    "* For <b>Drop Column</b> and <b>Permutation</b> methods, they are sensitive to evaluation metric. For <b>Drop Column</b>, log loss performs better than accuracy, <b>Permutation</b> with two different metrics have similar results.\n",
    "* <b>Permutation</b> is better than <b>Drop Column</b>, maybe because <b>Drop Column</b> method's models are not fully tuned.\n",
    "* <b>SHAP</b> is the worst for some reasons."
   ]
  },
  {
   "cell_type": "markdown",
   "id": "informative-blogger",
   "metadata": {},
   "source": [
    "# Automatic Feature Searching <a class=\"anchor\" id=\"automatic\"></a>"
   ]
  },
  {
   "cell_type": "markdown",
   "id": "sitting-individual",
   "metadata": {},
   "source": [
    "Final choice: importance_mRMR_order"
   ]
  },
  {
   "cell_type": "code",
   "execution_count": 62,
   "id": "caring-importance",
   "metadata": {},
   "outputs": [
    {
     "name": "stdout",
     "output_type": "stream",
     "text": [
      "Final columns selected:Index(['V14', 'V12', 'V4', 'V11', 'V3', 'V10', 'V16', 'V17', 'V9', 'V7', 'V2',\n",
      "       'V6', 'V1', 'V18', 'V21', 'V5', 'V27', 'V19', 'V8', 'V28', 'V20', 'V24',\n",
      "       'V26', 'V13', 'V25'],\n",
      "      dtype='object')\n",
      "Loss history:[0.09856560867844771, 0.09770468524278716, 0.09681408621246848, 0.09832274538858035]\n"
     ]
    }
   ],
   "source": [
    "out_col, loss_list = automatic_feature_search(X,y,importance_mRMR_order)\n",
    "print(f'Final columns selected:{out_col}')\n",
    "print(f'Loss history:{loss_list}')"
   ]
  },
  {
   "cell_type": "markdown",
   "id": "annoying-banks",
   "metadata": {},
   "source": [
    "This is an automatic feature searching method built for LightGBM model using log loss. Start from full features then drop the column with lowest importance. If the validation metric becomes worse, stop dropping and output the final result.\n",
    "\n",
    "LightGBM only discards 4 features."
   ]
  },
  {
   "cell_type": "markdown",
   "id": "handy-withdrawal",
   "metadata": {},
   "source": [
    "# Conclusion <a class=\"anchor\" id=\"Conclusion\"></a>"
   ]
  },
  {
   "cell_type": "markdown",
   "id": "harmful-variation",
   "metadata": {},
   "source": [
    "Feature importance helps us select features, interpret the model. Sometimes business values is inside of the feature importance. When we are dealing with real-world business problems, feature importance should combine with business instinct to guide companie's strategies and actions.\n",
    "\n",
    "What is best feature importance measurement? It seems do not have a \"best\" answer. Permutation method, mRMR and LightGBM's default importance have good performance from the experiment results. Whereas they might be the best for this particular dataset (classification). I would say the final <b>true solution</b> should always be experimental design (A/B testing)."
   ]
  },
  {
   "cell_type": "markdown",
   "id": "still-briefing",
   "metadata": {},
   "source": [
    "# References <a class=\"anchor\" id=\"References\"></a>"
   ]
  },
  {
   "cell_type": "markdown",
   "id": "harmful-vintage",
   "metadata": {},
   "source": [
    "* https://arxiv.org/pdf/1908.05376.pdf (mRMR)\n",
    "* https://en.wikipedia.org/wiki/Spearman%27s_rank_correlation_coefficient\n",
    "* https://github.com/slundberg/shap (SHAP)\n",
    "* https://github.com/parrt/msds621/blob/master/lectures/feature-importance.pdf\n",
    "* https://github.com/parrt/msds689/blob/master/projects/featimp/featimp.md\n",
    "* https://towardsdatascience.com/shap-explained-the-way-i-wish-someone-explained-it-to-me-ab81cc69ef30"
   ]
  }
 ],
 "metadata": {
  "hide_input": false,
  "kernelspec": {
   "display_name": "Python 3",
   "language": "python",
   "name": "python3"
  },
  "language_info": {
   "codemirror_mode": {
    "name": "ipython",
    "version": 3
   },
   "file_extension": ".py",
   "mimetype": "text/x-python",
   "name": "python",
   "nbconvert_exporter": "python",
   "pygments_lexer": "ipython3",
   "version": "3.8.3"
  }
 },
 "nbformat": 4,
 "nbformat_minor": 5
}
